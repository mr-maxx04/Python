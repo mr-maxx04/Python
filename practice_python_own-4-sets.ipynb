{
 "cells": [
  {
   "cell_type": "markdown",
   "id": "fab60cfe-7c9d-458c-9045-08073d4632f1",
   "metadata": {},
   "source": [
    "# SETS"
   ]
  },
  {
   "cell_type": "markdown",
   "id": "e06803c6-8816-478b-94cf-7df41e624e92",
   "metadata": {},
   "source": [
    "* sets are initialised using { }\n",
    "* sets doesn't follow any order\n",
    "* there is no indexing\n",
    "* Duplicates are not allowed\n",
    "* Elements of all data types can be stored\n",
    "* they are mutable but not according to indexing\n",
    "* all elements of sets are unique\n",
    "* Elements are arranged according to the ascending way : if elements are string then they are arranged alphabetically, if integers or float then in ascending order"
   ]
  },
  {
   "cell_type": "markdown",
   "id": "fa65e031-7965-4d48-8355-45f98a98d9a3",
   "metadata": {},
   "source": [
    "## creation of Empty set"
   ]
  },
  {
   "cell_type": "code",
   "execution_count": 12,
   "id": "762913c0-535d-4e5c-a3ab-a0b5bd069767",
   "metadata": {},
   "outputs": [],
   "source": [
    "set1 = {} # This is the wrong way to create an empty set it will show the type of set as dict"
   ]
  },
  {
   "cell_type": "code",
   "execution_count": 14,
   "id": "b562d449-ad0d-44c1-9b2e-a00d5587c4bc",
   "metadata": {},
   "outputs": [
    {
     "data": {
      "text/plain": [
       "dict"
      ]
     },
     "execution_count": 14,
     "metadata": {},
     "output_type": "execute_result"
    }
   ],
   "source": [
    "type(set1)"
   ]
  },
  {
   "cell_type": "code",
   "execution_count": 16,
   "id": "41fb2786-9ce2-4139-906f-cdfcbcf175f5",
   "metadata": {},
   "outputs": [],
   "source": [
    "set1 = set() # This is the right way to create an empty set"
   ]
  },
  {
   "cell_type": "code",
   "execution_count": 18,
   "id": "5933959f-f305-4a89-8eb8-d16f573d8c21",
   "metadata": {},
   "outputs": [
    {
     "data": {
      "text/plain": [
       "set"
      ]
     },
     "execution_count": 18,
     "metadata": {},
     "output_type": "execute_result"
    }
   ],
   "source": [
    "type(set1)"
   ]
  },
  {
   "cell_type": "code",
   "execution_count": 20,
   "id": "7b298d65-27d8-454f-b1d5-b7ef759f23e1",
   "metadata": {},
   "outputs": [],
   "source": [
    "set1 = {20, \"Rahul\", \"Rohit\", 23.5, True}"
   ]
  },
  {
   "cell_type": "code",
   "execution_count": 22,
   "id": "1164bbfd-799d-4886-99fa-687a7c949e97",
   "metadata": {},
   "outputs": [
    {
     "data": {
      "text/plain": [
       "{20, 23.5, 'Rahul', 'Rohit', True}"
      ]
     },
     "execution_count": 22,
     "metadata": {},
     "output_type": "execute_result"
    }
   ],
   "source": [
    "set1"
   ]
  },
  {
   "cell_type": "markdown",
   "id": "a113d082-0bc1-4ec0-b223-5ec9a2bd8d21",
   "metadata": {},
   "source": [
    "## Functions on sets"
   ]
  },
  {
   "cell_type": "markdown",
   "id": "9ae5c893-ba7d-4dc9-83d5-0675341965ac",
   "metadata": {},
   "source": [
    "* add()\n",
    "* remove()\n",
    "* pop()\n",
    "* clear()\n",
    "* discard()\n",
    "* union()\n",
    "* intersection()\n",
    "* difference()\n",
    "* symmetric_difference()\n",
    "* update()\n",
    "* intersection_upate()\n",
    "* difference_update()\n",
    "* symmetric_difference_update()\n",
    "* issubset()\n",
    "* issuperset()\n",
    "* isdisjoint()\n",
    "* copy()"
   ]
  },
  {
   "cell_type": "code",
   "execution_count": 27,
   "id": "494af372-4a32-43e5-b91c-e4b10990a2cd",
   "metadata": {},
   "outputs": [],
   "source": [
    "myset = {1,2,3,4,\"Bhavik\"}"
   ]
  },
  {
   "cell_type": "code",
   "execution_count": 29,
   "id": "36f97646-950f-4dfd-9472-3759dea0bf5a",
   "metadata": {},
   "outputs": [],
   "source": [
    "myset.add(\"rahul\")"
   ]
  },
  {
   "cell_type": "code",
   "execution_count": 31,
   "id": "0baebbfe-4edf-4610-a7a8-d88455ec4734",
   "metadata": {},
   "outputs": [
    {
     "data": {
      "text/plain": [
       "{1, 2, 3, 4, 'Bhavik', 'rahul'}"
      ]
     },
     "execution_count": 31,
     "metadata": {},
     "output_type": "execute_result"
    }
   ],
   "source": [
    "myset"
   ]
  },
  {
   "cell_type": "code",
   "execution_count": 33,
   "id": "c69a92e0-1731-4611-9c90-cfa2d47633db",
   "metadata": {},
   "outputs": [],
   "source": [
    "myset.remove(3)"
   ]
  },
  {
   "cell_type": "code",
   "execution_count": 35,
   "id": "65f0b1e5-bf48-4db2-83ed-7188fd21f72a",
   "metadata": {},
   "outputs": [
    {
     "data": {
      "text/plain": [
       "{1, 2, 4, 'Bhavik', 'rahul'}"
      ]
     },
     "execution_count": 35,
     "metadata": {},
     "output_type": "execute_result"
    }
   ],
   "source": [
    "myset"
   ]
  },
  {
   "cell_type": "code",
   "execution_count": 37,
   "id": "38ee4e54-358d-42ff-a5fb-3998689f7bbc",
   "metadata": {},
   "outputs": [
    {
     "data": {
      "text/plain": [
       "1"
      ]
     },
     "execution_count": 37,
     "metadata": {},
     "output_type": "execute_result"
    }
   ],
   "source": [
    "myset.pop()"
   ]
  },
  {
   "cell_type": "code",
   "execution_count": 39,
   "id": "797c4c1b-e36b-429d-a640-183799735514",
   "metadata": {},
   "outputs": [
    {
     "data": {
      "text/plain": [
       "{2, 4, 'Bhavik', 'rahul'}"
      ]
     },
     "execution_count": 39,
     "metadata": {},
     "output_type": "execute_result"
    }
   ],
   "source": [
    "myset"
   ]
  },
  {
   "cell_type": "code",
   "execution_count": 41,
   "id": "5d4fee33-759b-4bd2-941c-197985029b13",
   "metadata": {},
   "outputs": [
    {
     "ename": "TypeError",
     "evalue": "set.discard() takes exactly one argument (0 given)",
     "output_type": "error",
     "traceback": [
      "\u001b[1;31m---------------------------------------------------------------------------\u001b[0m",
      "\u001b[1;31mTypeError\u001b[0m                                 Traceback (most recent call last)",
      "Cell \u001b[1;32mIn[41], line 1\u001b[0m\n\u001b[1;32m----> 1\u001b[0m myset\u001b[38;5;241m.\u001b[39mdiscard()\n",
      "\u001b[1;31mTypeError\u001b[0m: set.discard() takes exactly one argument (0 given)"
     ]
    }
   ],
   "source": [
    "myset.discard()"
   ]
  },
  {
   "cell_type": "code",
   "execution_count": 43,
   "id": "ed65a8c5-d79f-4334-a2bc-5ce239a4683e",
   "metadata": {},
   "outputs": [],
   "source": [
    "myset.discard(\"kohli\")"
   ]
  },
  {
   "cell_type": "code",
   "execution_count": 45,
   "id": "c0efee04-4f8a-4e2f-9349-ae32157537bf",
   "metadata": {},
   "outputs": [],
   "source": [
    "myset.discard(\"Bhavik\")"
   ]
  },
  {
   "cell_type": "code",
   "execution_count": 47,
   "id": "30c8476a-455c-4fee-9a2e-8905c3692ebc",
   "metadata": {},
   "outputs": [
    {
     "data": {
      "text/plain": [
       "{2, 4, 'rahul'}"
      ]
     },
     "execution_count": 47,
     "metadata": {},
     "output_type": "execute_result"
    }
   ],
   "source": [
    "myset"
   ]
  },
  {
   "cell_type": "code",
   "execution_count": 49,
   "id": "d18384e1-cdce-4c51-88d3-6ba8d90f70a6",
   "metadata": {},
   "outputs": [],
   "source": [
    "myset.clear()"
   ]
  },
  {
   "cell_type": "code",
   "execution_count": 51,
   "id": "fda7d629-ef70-43a7-be76-8adc210231c0",
   "metadata": {},
   "outputs": [
    {
     "data": {
      "text/plain": [
       "set()"
      ]
     },
     "execution_count": 51,
     "metadata": {},
     "output_type": "execute_result"
    }
   ],
   "source": [
    "myset"
   ]
  },
  {
   "cell_type": "code",
   "execution_count": 61,
   "id": "25a77446-c9fe-4bd7-bdce-b66e9a40dd75",
   "metadata": {},
   "outputs": [],
   "source": [
    "my_set = {1,2,3,4,5}"
   ]
  },
  {
   "cell_type": "code",
   "execution_count": 63,
   "id": "66d3fee2-8b93-4def-bdd2-2bc3d0fd165c",
   "metadata": {},
   "outputs": [],
   "source": [
    "your_set = {4,5,6,10,7}"
   ]
  },
  {
   "cell_type": "code",
   "execution_count": 67,
   "id": "9618c3f5-49f0-4ede-ad90-863e55124d2c",
   "metadata": {},
   "outputs": [],
   "source": [
    "our_set = my_set.union(your_set)"
   ]
  },
  {
   "cell_type": "code",
   "execution_count": 72,
   "id": "66e1391e-c86d-40e0-8e26-ceef01fc8ce1",
   "metadata": {},
   "outputs": [
    {
     "data": {
      "text/plain": [
       "{1, 2, 3, 4, 5, 6, 7, 10}"
      ]
     },
     "execution_count": 72,
     "metadata": {},
     "output_type": "execute_result"
    }
   ],
   "source": [
    "our_set"
   ]
  },
  {
   "cell_type": "code",
   "execution_count": 74,
   "id": "a800f8c2-4274-4059-8894-91c41ff37e2c",
   "metadata": {},
   "outputs": [
    {
     "data": {
      "text/plain": [
       "{1, 2, 3}"
      ]
     },
     "execution_count": 74,
     "metadata": {},
     "output_type": "execute_result"
    }
   ],
   "source": [
    "my_set.difference(your_set) # my_set - your_set"
   ]
  },
  {
   "cell_type": "code",
   "execution_count": 80,
   "id": "bac87f80-ca5a-4ae3-aa62-2aed12efb715",
   "metadata": {},
   "outputs": [
    {
     "data": {
      "text/plain": [
       "{6, 7, 10}"
      ]
     },
     "execution_count": 80,
     "metadata": {},
     "output_type": "execute_result"
    }
   ],
   "source": [
    "your_set.difference(my_set) # your_set - my_set"
   ]
  },
  {
   "cell_type": "code",
   "execution_count": 82,
   "id": "7cfe327f-85d9-4ed1-911c-47e46883eab5",
   "metadata": {},
   "outputs": [
    {
     "data": {
      "text/plain": [
       "{1, 2, 3, 6, 7, 10}"
      ]
     },
     "execution_count": 82,
     "metadata": {},
     "output_type": "execute_result"
    }
   ],
   "source": [
    "my_set.symmetric_difference(your_set) # common elements are removed"
   ]
  },
  {
   "cell_type": "code",
   "execution_count": 84,
   "id": "61bb8006-ebda-4f6b-8c24-08e2ca656224",
   "metadata": {},
   "outputs": [
    {
     "data": {
      "text/plain": [
       "{4, 5}"
      ]
     },
     "execution_count": 84,
     "metadata": {},
     "output_type": "execute_result"
    }
   ],
   "source": [
    "my_set.intersection(your_set)"
   ]
  },
  {
   "cell_type": "code",
   "execution_count": 116,
   "id": "6332c63c-a430-403c-9723-984729738f0e",
   "metadata": {},
   "outputs": [],
   "source": [
    "my_set.update(your_set) # used to merge your_Set in my_set and store only unique elements and duplicate elements only once"
   ]
  },
  {
   "cell_type": "code",
   "execution_count": 118,
   "id": "e1f9c91a-109b-411c-aa99-c30513eacded",
   "metadata": {},
   "outputs": [
    {
     "data": {
      "text/plain": [
       "{1, 2, 3, 4, 5, 6, 7, 10}"
      ]
     },
     "execution_count": 118,
     "metadata": {},
     "output_type": "execute_result"
    }
   ],
   "source": [
    "my_set"
   ]
  },
  {
   "cell_type": "code",
   "execution_count": 180,
   "id": "55c2fd79-b096-4923-8653-1cba77ce7113",
   "metadata": {},
   "outputs": [],
   "source": [
    "my_set.update(['Ten', 'Twenty','Thirty']) # updte is also used to add multiple elements in my_set"
   ]
  },
  {
   "cell_type": "code",
   "execution_count": 182,
   "id": "c5813cb6-fa57-4143-9ed9-3526e3bfa4d4",
   "metadata": {},
   "outputs": [
    {
     "data": {
      "text/plain": [
       "{1, 10, 2, 3, 4, 5, 6, 7, 'Ten', 'Thirty', 'Twenty'}"
      ]
     },
     "execution_count": 182,
     "metadata": {},
     "output_type": "execute_result"
    }
   ],
   "source": [
    "my_set"
   ]
  },
  {
   "cell_type": "code",
   "execution_count": 172,
   "id": "fc1fe5ce-3ae0-4fb8-87b2-20569ec8ac9a",
   "metadata": {},
   "outputs": [],
   "source": [
    "myet1 = {1,2,3,4,5}"
   ]
  },
  {
   "cell_type": "code",
   "execution_count": 174,
   "id": "e47ebe5c-f6d7-4233-9935-ee08bfcff936",
   "metadata": {},
   "outputs": [],
   "source": [
    "myset2 = {5,6,7,8,9}"
   ]
  },
  {
   "cell_type": "code",
   "execution_count": 176,
   "id": "30307821-c23c-422c-a37d-7bfa74f01712",
   "metadata": {},
   "outputs": [],
   "source": [
    "myset2.difference_update(myset1) # used to remove common element from myset2 and print it"
   ]
  },
  {
   "cell_type": "code",
   "execution_count": 178,
   "id": "d148982b-32aa-4ed6-8203-6df88fc9f38d",
   "metadata": {},
   "outputs": [
    {
     "data": {
      "text/plain": [
       "{6, 7, 8, 9}"
      ]
     },
     "execution_count": 178,
     "metadata": {},
     "output_type": "execute_result"
    }
   ],
   "source": [
    "myset2"
   ]
  },
  {
   "cell_type": "code",
   "execution_count": 112,
   "id": "54cf5223-6055-4711-bec8-56acd7f4bfdd",
   "metadata": {},
   "outputs": [],
   "source": [
    "myset1.difference_update(myset2) # used to remove common element from myset1 and print it but in our above cell we have\n",
    "# removed common element so there is no common point"
   ]
  },
  {
   "cell_type": "code",
   "execution_count": 114,
   "id": "07be500b-94cf-49d2-950b-f718c36d3c4d",
   "metadata": {},
   "outputs": [
    {
     "data": {
      "text/plain": [
       "{1, 2, 3, 4, 5}"
      ]
     },
     "execution_count": 114,
     "metadata": {},
     "output_type": "execute_result"
    }
   ],
   "source": [
    "myset1"
   ]
  },
  {
   "cell_type": "code",
   "execution_count": 120,
   "id": "d59348b1-1d8f-4c36-9c31-5b52d80c277f",
   "metadata": {},
   "outputs": [],
   "source": [
    "myset3 = {10, 20, 30, 40, 50}"
   ]
  },
  {
   "cell_type": "code",
   "execution_count": 124,
   "id": "2bf281cf-ab27-4e54-bdf7-507f419033a5",
   "metadata": {},
   "outputs": [],
   "source": [
    "myset4 = {40, 50, 60, 90, 100}"
   ]
  },
  {
   "cell_type": "code",
   "execution_count": 126,
   "id": "89d6f053-a293-48e2-a7c2-2a4ae7b9f6a6",
   "metadata": {},
   "outputs": [],
   "source": [
    "myset4.intersection_update(myset3)"
   ]
  },
  {
   "cell_type": "code",
   "execution_count": 128,
   "id": "14200bd3-db0d-4143-abbe-8d5bd1eac637",
   "metadata": {},
   "outputs": [
    {
     "data": {
      "text/plain": [
       "{40, 50}"
      ]
     },
     "execution_count": 128,
     "metadata": {},
     "output_type": "execute_result"
    }
   ],
   "source": [
    "myset4"
   ]
  },
  {
   "cell_type": "code",
   "execution_count": 130,
   "id": "86b7ab6c-ccac-473a-a318-8ce8eba5c92e",
   "metadata": {},
   "outputs": [],
   "source": [
    "myset3.symmetric_difference_update(myset4)"
   ]
  },
  {
   "cell_type": "code",
   "execution_count": 132,
   "id": "06f5bafe-2135-43c4-a206-bf54eb50f988",
   "metadata": {},
   "outputs": [
    {
     "data": {
      "text/plain": [
       "{10, 20, 30}"
      ]
     },
     "execution_count": 132,
     "metadata": {},
     "output_type": "execute_result"
    }
   ],
   "source": [
    "myset3"
   ]
  },
  {
   "cell_type": "code",
   "execution_count": 134,
   "id": "eae41eca-b7ae-4092-bbda-296d7682da8c",
   "metadata": {},
   "outputs": [],
   "source": [
    "set1 = {0.1, 0.2, 0.3, \"SSIT\"}"
   ]
  },
  {
   "cell_type": "code",
   "execution_count": 136,
   "id": "5f507457-cc13-4ae4-a7d5-bfa0f1cfe8b9",
   "metadata": {},
   "outputs": [],
   "source": [
    "set2 = {0.2, \"SSIT\"}"
   ]
  },
  {
   "cell_type": "code",
   "execution_count": 138,
   "id": "875165ca-093f-40ca-940b-16c9e6a973c3",
   "metadata": {},
   "outputs": [
    {
     "data": {
      "text/plain": [
       "False"
      ]
     },
     "execution_count": 138,
     "metadata": {},
     "output_type": "execute_result"
    }
   ],
   "source": [
    "set1.issubset(set2)"
   ]
  },
  {
   "cell_type": "code",
   "execution_count": 140,
   "id": "ca2c0c1d-1c85-40c2-9dff-901a90f30e6b",
   "metadata": {},
   "outputs": [
    {
     "data": {
      "text/plain": [
       "True"
      ]
     },
     "execution_count": 140,
     "metadata": {},
     "output_type": "execute_result"
    }
   ],
   "source": [
    "set2.issubset(set1)"
   ]
  },
  {
   "cell_type": "code",
   "execution_count": 148,
   "id": "16fb4560-2aef-42ee-bf53-5dbdfa757641",
   "metadata": {},
   "outputs": [
    {
     "data": {
      "text/plain": [
       "False"
      ]
     },
     "execution_count": 148,
     "metadata": {},
     "output_type": "execute_result"
    }
   ],
   "source": [
    "set1.isdisjoint(set2) # It will return true whenever there is no common elements in both sets"
   ]
  },
  {
   "cell_type": "code",
   "execution_count": 150,
   "id": "fcfb62b6-57f4-4e49-917d-93596f3f0a9a",
   "metadata": {},
   "outputs": [
    {
     "data": {
      "text/plain": [
       "False"
      ]
     },
     "execution_count": 150,
     "metadata": {},
     "output_type": "execute_result"
    }
   ],
   "source": [
    "set2.isdisjoint(set1)"
   ]
  },
  {
   "cell_type": "code",
   "execution_count": 156,
   "id": "bba46f10-5b48-4493-8b2f-a916eb644a96",
   "metadata": {},
   "outputs": [
    {
     "data": {
      "text/plain": [
       "True"
      ]
     },
     "execution_count": 156,
     "metadata": {},
     "output_type": "execute_result"
    }
   ],
   "source": [
    "set1.issuperset(set2) # Superset means that set1 should have all the elements that are present in set2"
   ]
  },
  {
   "cell_type": "code",
   "execution_count": 158,
   "id": "b803d50d-29a2-47e2-a723-cd892563b89f",
   "metadata": {},
   "outputs": [],
   "source": [
    "# Remember set1 is parent set & set2 is child set"
   ]
  },
  {
   "cell_type": "code",
   "execution_count": 162,
   "id": "8eefc204-cb10-4e65-b566-dc43cd56131f",
   "metadata": {},
   "outputs": [],
   "source": [
    "set3 = set2.copy()"
   ]
  },
  {
   "cell_type": "code",
   "execution_count": 164,
   "id": "4339b6db-7063-44b5-80da-9db5866c7f3d",
   "metadata": {},
   "outputs": [
    {
     "data": {
      "text/plain": [
       "{0.2, 'SSIT'}"
      ]
     },
     "execution_count": 164,
     "metadata": {},
     "output_type": "execute_result"
    }
   ],
   "source": [
    "set3"
   ]
  },
  {
   "cell_type": "code",
   "execution_count": 184,
   "id": "a1ab0a40-041a-4503-8224-45d95190b40b",
   "metadata": {},
   "outputs": [
    {
     "ename": "TypeError",
     "evalue": "'set' object is not subscriptable",
     "output_type": "error",
     "traceback": [
      "\u001b[1;31m---------------------------------------------------------------------------\u001b[0m",
      "\u001b[1;31mTypeError\u001b[0m                                 Traceback (most recent call last)",
      "Cell \u001b[1;32mIn[184], line 1\u001b[0m\n\u001b[1;32m----> 1\u001b[0m set3[\u001b[38;5;241m0\u001b[39m]\n",
      "\u001b[1;31mTypeError\u001b[0m: 'set' object is not subscriptable"
     ]
    }
   ],
   "source": [
    "set3[0]"
   ]
  },
  {
   "cell_type": "code",
   "execution_count": 188,
   "id": "47125eef-faae-4bb6-86e0-a8c868b64d4c",
   "metadata": {},
   "outputs": [],
   "source": [
    "# Indexing is not possible in sets"
   ]
  },
  {
   "cell_type": "markdown",
   "id": "682338d6-7e2f-46b0-b9b5-f5d3255a6dae",
   "metadata": {},
   "source": [
    "# Membership in sets"
   ]
  },
  {
   "cell_type": "code",
   "execution_count": 193,
   "id": "2489e267-83b2-4957-8ef1-342335cadeaa",
   "metadata": {},
   "outputs": [
    {
     "data": {
      "text/plain": [
       "True"
      ]
     },
     "execution_count": 193,
     "metadata": {},
     "output_type": "execute_result"
    }
   ],
   "source": [
    "0.2 in set3"
   ]
  },
  {
   "cell_type": "code",
   "execution_count": 195,
   "id": "3f9d3632-b8d4-48f1-9cd8-c4a296c4ccb9",
   "metadata": {},
   "outputs": [
    {
     "data": {
      "text/plain": [
       "True"
      ]
     },
     "execution_count": 195,
     "metadata": {},
     "output_type": "execute_result"
    }
   ],
   "source": [
    "\"SSIT\" in set3"
   ]
  },
  {
   "cell_type": "code",
   "execution_count": 197,
   "id": "08b9c29f-650d-4123-a1d4-0a633d857ad2",
   "metadata": {},
   "outputs": [
    {
     "data": {
      "text/plain": [
       "False"
      ]
     },
     "execution_count": 197,
     "metadata": {},
     "output_type": "execute_result"
    }
   ],
   "source": [
    "6 in set3"
   ]
  },
  {
   "cell_type": "code",
   "execution_count": null,
   "id": "ee6496b7-09ba-48a5-ad9a-c11ae6b010ec",
   "metadata": {},
   "outputs": [],
   "source": []
  }
 ],
 "metadata": {
  "kernelspec": {
   "display_name": "Python 3 (ipykernel)",
   "language": "python",
   "name": "python3"
  },
  "language_info": {
   "codemirror_mode": {
    "name": "ipython",
    "version": 3
   },
   "file_extension": ".py",
   "mimetype": "text/x-python",
   "name": "python",
   "nbconvert_exporter": "python",
   "pygments_lexer": "ipython3",
   "version": "3.12.4"
  }
 },
 "nbformat": 4,
 "nbformat_minor": 5
}
