{
 "cells": [
  {
   "cell_type": "markdown",
   "id": "86301f07-a433-4813-865b-8073a66378da",
   "metadata": {},
   "source": [
    "# Loops"
   ]
  },
  {
   "cell_type": "code",
   "execution_count": 10,
   "id": "a9fb55b6-29f0-4529-b8cd-8c604a5efa29",
   "metadata": {},
   "outputs": [
    {
     "name": "stdin",
     "output_type": "stream",
     "text": [
      "Enter starting point 10\n",
      "Enter Ending Point 20\n"
     ]
    },
    {
     "name": "stdout",
     "output_type": "stream",
     "text": [
      "[10, 12, 14, 16, 18]\n",
      "[11, 13, 15, 17, 19]\n"
     ]
    }
   ],
   "source": [
    "start = int(input(\"Enter starting point\"))\n",
    "end = int(input(\"Enter Ending Point\"))\n",
    "even_list = []\n",
    "odd_list = []\n",
    "\n",
    "for i in range(start, end):\n",
    "    if i % 2 == 0:\n",
    "        even_list.append(i)\n",
    "\n",
    "    else:\n",
    "        odd_list.append(i)\n",
    "\n",
    "print(even_list)\n",
    "print(odd_list)"
   ]
  },
  {
   "cell_type": "code",
   "execution_count": 22,
   "id": "82f58b7d-e425-4d30-beb9-00c40a4887cf",
   "metadata": {},
   "outputs": [],
   "source": [
    "list2 = [20, 30, 40, 40, 50, 20]\n",
    "unique_list = []\n",
    "duplicate = []"
   ]
  },
  {
   "cell_type": "code",
   "execution_count": 26,
   "id": "97dbe8ce-b504-4b96-bef5-ae092d751485",
   "metadata": {},
   "outputs": [
    {
     "name": "stdout",
     "output_type": "stream",
     "text": [
      "[20, 30, 40, 50]\n",
      "[40, 20, 20, 30, 40, 40, 50, 20]\n"
     ]
    }
   ],
   "source": [
    "for i in list2:\n",
    "    if i not in unique_list:\n",
    "        unique_list.append(i)\n",
    "\n",
    "    else:\n",
    "        duplicate.append(i)\n",
    "\n",
    "print(unique_list)\n",
    "print(duplicate)"
   ]
  },
  {
   "cell_type": "code",
   "execution_count": null,
   "id": "3e127ee0-8136-42ef-8c55-592db14aea32",
   "metadata": {},
   "outputs": [],
   "source": []
  }
 ],
 "metadata": {
  "kernelspec": {
   "display_name": "Python 3 (ipykernel)",
   "language": "python",
   "name": "python3"
  },
  "language_info": {
   "codemirror_mode": {
    "name": "ipython",
    "version": 3
   },
   "file_extension": ".py",
   "mimetype": "text/x-python",
   "name": "python",
   "nbconvert_exporter": "python",
   "pygments_lexer": "ipython3",
   "version": "3.12.4"
  }
 },
 "nbformat": 4,
 "nbformat_minor": 5
}
