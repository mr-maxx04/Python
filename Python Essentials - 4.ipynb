{
 "cells": [
  {
   "cell_type": "markdown",
   "id": "7774554c-d011-461a-925f-3e2b9a9128e2",
   "metadata": {},
   "source": [
    "# Input Function"
   ]
  },
  {
   "cell_type": "code",
   "execution_count": 1,
   "id": "88056be5-bfc1-4321-8b70-cb4b57ab72a1",
   "metadata": {},
   "outputs": [
    {
     "name": "stdin",
     "output_type": "stream",
     "text": [
      "Enter your Name Bhavik\n",
      "Enter Your Age 21\n",
      "Enter Your Address Chandkheda\n",
      "Enter your 10 digit Phone No. 7817265421\n"
     ]
    }
   ],
   "source": [
    "name = input(\"Enter your Name\")\n",
    "age = float(input(\"Enter Your Age\"))\n",
    "address = input(\"Enter Your Address\")\n",
    "ph_no = int(input(\"Enter your 10 digit Phone No.\"))"
   ]
  },
  {
   "cell_type": "code",
   "execution_count": 3,
   "id": "ffac0ced-1def-4c30-ae15-4f29f90d8af0",
   "metadata": {},
   "outputs": [
    {
     "name": "stdout",
     "output_type": "stream",
     "text": [
      "User's Name is  Bhavik\n",
      "User's Age is  21.0\n",
      "User's Address is  Chandkheda\n",
      "User's Phone number is  7817265421\n"
     ]
    }
   ],
   "source": [
    "print(\"User's Name is \",name)\n",
    "print(\"User's Age is \",age)\n",
    "print(\"User's Address is \",address)\n",
    "print(\"User's Phone number is \",ph_no)"
   ]
  },
  {
   "cell_type": "markdown",
   "id": "6722034d-dcf8-4d63-9adb-943d605dbc5e",
   "metadata": {},
   "source": [
    "# if and elif and else statement"
   ]
  },
  {
   "cell_type": "code",
   "execution_count": 25,
   "id": "5190c973-b166-4c74-83a2-4a6e848d8105",
   "metadata": {},
   "outputs": [
    {
     "name": "stdin",
     "output_type": "stream",
     "text": [
      "Enter Your Age 0.6\n"
     ]
    },
    {
     "name": "stdout",
     "output_type": "stream",
     "text": [
      " You are not able to vote \n"
     ]
    }
   ],
   "source": [
    "your_age = float(input(\"Enter Your Age\"))\n",
    "if your_age <= 18 and your_age >0:\n",
    "    print(\" You are not able to vote \")\n",
    "\n",
    "elif your_age >= 18:\n",
    "    print(\"you are able to vote\")\n",
    "\n",
    "else:\n",
    "    print(\"Enter Valid Age\")"
   ]
  },
  {
   "cell_type": "code",
   "execution_count": 44,
   "id": "1be1f0d6-025b-495d-a128-729ae2cd1897",
   "metadata": {},
   "outputs": [
    {
     "name": "stdout",
     "output_type": "stream",
     "text": [
      "5 is big\n",
      "i am in if block\n",
      "i am out of if block\n"
     ]
    }
   ],
   "source": [
    "if(5>4):\n",
    "    print('5 is big')\n",
    "    print('i am in if block')\n",
    "\n",
    "print('i am out of if block')"
   ]
  },
  {
   "cell_type": "code",
   "execution_count": 50,
   "id": "8199ddbb-8e50-42f7-a850-9520d82067fe",
   "metadata": {},
   "outputs": [
    {
     "name": "stdin",
     "output_type": "stream",
     "text": [
      "Enter any Number 0\n"
     ]
    },
    {
     "name": "stdout",
     "output_type": "stream",
     "text": [
      "Entered Number is Zero\n"
     ]
    }
   ],
   "source": [
    "num = int(input(\"Enter any Number\"))\n",
    "if num > 0:\n",
    "    print(\"Entered Number is Positive\")\n",
    "\n",
    "elif num < 0:\n",
    "    print(\"Entered Number is Negative\")\n",
    "\n",
    "else:\n",
    "    print(\"Entered Number is Zero\")"
   ]
  },
  {
   "cell_type": "code",
   "execution_count": 56,
   "id": "5f168b62-d812-4ad1-a873-cd7c407909a6",
   "metadata": {},
   "outputs": [
    {
     "name": "stdin",
     "output_type": "stream",
     "text": [
      "Enter a number -5\n"
     ]
    },
    {
     "name": "stdout",
     "output_type": "stream",
     "text": [
      "Entered Number is Negative\n"
     ]
    }
   ],
   "source": [
    "num2 = int(input(\"Enter a number\"))\n",
    "if num2 % 2 == 0:\n",
    "    print(\"Even Number\")\n",
    "\n",
    "elif num2 < 0:\n",
    "    print(\"Entered Number is Negative\")\n",
    "\n",
    "else:\n",
    "    print(\"Odd Number\")"
   ]
  },
  {
   "cell_type": "markdown",
   "id": "57e1fd97-79f0-48c6-b49f-f4ac0ec5da1c",
   "metadata": {},
   "source": [
    "# \"and\" \"or\" Operators"
   ]
  },
  {
   "cell_type": "code",
   "execution_count": 32,
   "id": "90d42287-fa2d-49ec-8991-ae1cc9d504c3",
   "metadata": {},
   "outputs": [],
   "source": [
    "a = 10\n",
    "if a == 11 or a == 5:\n",
    "    print(\"One Condition is true\")"
   ]
  },
  {
   "cell_type": "code",
   "execution_count": 38,
   "id": "9958be90-98fe-4fb4-876e-4f775b0660fc",
   "metadata": {},
   "outputs": [],
   "source": [
    "a = 10\n",
    "b = 1"
   ]
  },
  {
   "cell_type": "code",
   "execution_count": 40,
   "id": "35175586-be83-42e2-a134-c48fc6fba9f1",
   "metadata": {},
   "outputs": [
    {
     "name": "stdout",
     "output_type": "stream",
     "text": [
      "Both Conditions are true\n"
     ]
    }
   ],
   "source": [
    "if a == 10 and b > 0:\n",
    "    print(\"Both Conditions are true\")"
   ]
  },
  {
   "cell_type": "code",
   "execution_count": null,
   "id": "08757567-7f88-447c-a0e3-7614c0328500",
   "metadata": {},
   "outputs": [],
   "source": []
  }
 ],
 "metadata": {
  "kernelspec": {
   "display_name": "Python 3 (ipykernel)",
   "language": "python",
   "name": "python3"
  },
  "language_info": {
   "codemirror_mode": {
    "name": "ipython",
    "version": 3
   },
   "file_extension": ".py",
   "mimetype": "text/x-python",
   "name": "python",
   "nbconvert_exporter": "python",
   "pygments_lexer": "ipython3",
   "version": "3.12.4"
  }
 },
 "nbformat": 4,
 "nbformat_minor": 5
}
