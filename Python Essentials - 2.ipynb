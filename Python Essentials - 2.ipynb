{
 "cells": [
  {
   "cell_type": "markdown",
   "id": "4cbffc7b-e07d-4bd0-a9be-c50434ee76c2",
   "metadata": {},
   "source": [
    "## Variables"
   ]
  },
  {
   "cell_type": "markdown",
   "id": "bf47891a-ddd8-4611-b1f3-b3191230d3b3",
   "metadata": {},
   "source": [
    "* A python variable is a reserved memory location to store values.\n",
    "* A variable is created the moment you first assign a value to it."
   ]
  },
  {
   "cell_type": "code",
   "execution_count": 3,
   "id": "3100be7b-d28f-4c3e-a3c8-4b220e740e37",
   "metadata": {},
   "outputs": [
    {
     "data": {
      "text/plain": [
       "'hello My friend'"
      ]
     },
     "execution_count": 3,
     "metadata": {},
     "output_type": "execute_result"
    }
   ],
   "source": [
    "\"hello My friend\""
   ]
  },
  {
   "cell_type": "code",
   "execution_count": 5,
   "id": "004cd64e-6e3f-48ba-9ef3-0180e19b9eb0",
   "metadata": {},
   "outputs": [],
   "source": [
    "a = \"hello emma\" "
   ]
  },
  {
   "cell_type": "code",
   "execution_count": 7,
   "id": "3f9b3801-0881-423d-aaf4-9857324023a3",
   "metadata": {},
   "outputs": [
    {
     "data": {
      "text/plain": [
       "'hello emma'"
      ]
     },
     "execution_count": 7,
     "metadata": {},
     "output_type": "execute_result"
    }
   ],
   "source": [
    "a"
   ]
  },
  {
   "cell_type": "code",
   "execution_count": 9,
   "id": "12c2bb58-a559-40fe-865c-3b8f4b2929d5",
   "metadata": {},
   "outputs": [],
   "source": [
    "k = 30 "
   ]
  },
  {
   "cell_type": "code",
   "execution_count": 11,
   "id": "582864a2-d4c5-42bc-ae79-7c1dcba3147d",
   "metadata": {},
   "outputs": [
    {
     "data": {
      "text/plain": [
       "30"
      ]
     },
     "execution_count": 11,
     "metadata": {},
     "output_type": "execute_result"
    }
   ],
   "source": [
    "k"
   ]
  },
  {
   "cell_type": "code",
   "execution_count": 13,
   "id": "4844d510-f1cf-4796-b92a-debf9df2f8ca",
   "metadata": {},
   "outputs": [
    {
     "data": {
      "text/plain": [
       "30"
      ]
     },
     "execution_count": 13,
     "metadata": {},
     "output_type": "execute_result"
    }
   ],
   "source": [
    "a\n",
    "k"
   ]
  },
  {
   "cell_type": "code",
   "execution_count": 15,
   "id": "2b6656ce-2ac3-460f-a418-e2e97509dc23",
   "metadata": {},
   "outputs": [
    {
     "name": "stdout",
     "output_type": "stream",
     "text": [
      "hello emma\n",
      "30\n"
     ]
    }
   ],
   "source": [
    "print(a)\n",
    "print(k)"
   ]
  },
  {
   "cell_type": "code",
   "execution_count": 17,
   "id": "ad510265-3914-465d-9735-1d0080dc5870",
   "metadata": {},
   "outputs": [
    {
     "name": "stdout",
     "output_type": "stream",
     "text": [
      "This is My Friend\n"
     ]
    }
   ],
   "source": [
    "print('This is My Friend')"
   ]
  },
  {
   "cell_type": "code",
   "execution_count": 19,
   "id": "bb6d4ef1-60bb-4ca5-bc9c-4a99227b207b",
   "metadata": {},
   "outputs": [
    {
     "name": "stdout",
     "output_type": "stream",
     "text": [
      "Hello I'm Mr.X\n"
     ]
    }
   ],
   "source": [
    "print(\"Hello I'm Mr.X\")"
   ]
  },
  {
   "cell_type": "code",
   "execution_count": 21,
   "id": "82b98d43-a2c8-43b5-a21d-de8455f2137c",
   "metadata": {},
   "outputs": [
    {
     "name": "stdout",
     "output_type": "stream",
     "text": [
      "12\n"
     ]
    }
   ],
   "source": [
    "print(12)"
   ]
  },
  {
   "cell_type": "code",
   "execution_count": 23,
   "id": "571d4469-d0ec-4069-b033-0a401e8c4e6a",
   "metadata": {},
   "outputs": [],
   "source": [
    "a,k,float_val = \"bhavik\", 45, 45.0"
   ]
  },
  {
   "cell_type": "code",
   "execution_count": 25,
   "id": "d6ac5b4d-8a8c-4a8d-a960-01b8170c732b",
   "metadata": {},
   "outputs": [
    {
     "name": "stdout",
     "output_type": "stream",
     "text": [
      "bhavik 45 45.0\n"
     ]
    }
   ],
   "source": [
    "print(a,k,float_val)"
   ]
  },
  {
   "cell_type": "markdown",
   "id": "c6c31620-00c9-4969-9a0b-433c5ab90b28",
   "metadata": {},
   "source": [
    "## Variable Assignment"
   ]
  },
  {
   "cell_type": "code",
   "execution_count": 28,
   "id": "015b3e4e-b59f-42d9-a470-f69797e826fa",
   "metadata": {},
   "outputs": [],
   "source": [
    "intvar = 10\n",
    "floatvar = 29.0\n",
    "strvar = \"Heyy Bhavik\""
   ]
  },
  {
   "cell_type": "code",
   "execution_count": 30,
   "id": "c48adf5f-85f5-4e25-bcae-36b34cd94e00",
   "metadata": {},
   "outputs": [
    {
     "name": "stdout",
     "output_type": "stream",
     "text": [
      "10 Heyy Bhavik 29.0\n"
     ]
    }
   ],
   "source": [
    "print(intvar, strvar, floatvar)"
   ]
  },
  {
   "cell_type": "code",
   "execution_count": 34,
   "id": "b6797954-f7ee-4f41-9c2d-0868b56cfe40",
   "metadata": {},
   "outputs": [
    {
     "name": "stdout",
     "output_type": "stream",
     "text": [
      "10\n",
      "Heyy Bhavik\n",
      "29.0\n"
     ]
    }
   ],
   "source": [
    "print(intvar)\n",
    "print(strvar)\n",
    "print(floatvar)"
   ]
  },
  {
   "cell_type": "markdown",
   "id": "bc41ca5d-590c-45cb-8767-d01ccaf2ee79",
   "metadata": {},
   "source": [
    "## Multiple Assignment"
   ]
  },
  {
   "cell_type": "code",
   "execution_count": 37,
   "id": "aa2c2fce-01e1-43fe-8ec4-766777c82dc2",
   "metadata": {},
   "outputs": [],
   "source": [
    "intvar, floatvar, strvar = 10, 10.0, \"God Knows\""
   ]
  },
  {
   "cell_type": "code",
   "execution_count": 39,
   "id": "13382228-277b-464c-8379-af562cd58dd4",
   "metadata": {},
   "outputs": [
    {
     "data": {
      "text/plain": [
       "(10, 10.0, 'God Knows')"
      ]
     },
     "execution_count": 39,
     "metadata": {},
     "output_type": "execute_result"
    }
   ],
   "source": [
    "intvar, floatvar, strvar"
   ]
  },
  {
   "cell_type": "code",
   "execution_count": 41,
   "id": "913254da-67b9-4803-a2b7-12b3b73ac281",
   "metadata": {},
   "outputs": [
    {
     "data": {
      "text/plain": [
       "'God Knows'"
      ]
     },
     "execution_count": 41,
     "metadata": {},
     "output_type": "execute_result"
    }
   ],
   "source": [
    "intvar\n",
    "floatvar\n",
    "strvar"
   ]
  },
  {
   "cell_type": "code",
   "execution_count": 43,
   "id": "9387b133-71d9-4f7a-ab21-e504697c9de9",
   "metadata": {},
   "outputs": [
    {
     "name": "stdout",
     "output_type": "stream",
     "text": [
      "10 10.0 God Knows\n"
     ]
    }
   ],
   "source": [
    "print(intvar, floatvar, strvar)"
   ]
  },
  {
   "cell_type": "code",
   "execution_count": 45,
   "id": "476cd78c-1f82-45ec-bbb0-98adf625d418",
   "metadata": {},
   "outputs": [
    {
     "name": "stdout",
     "output_type": "stream",
     "text": [
      "10\n",
      "10.0\n",
      "God Knows\n"
     ]
    }
   ],
   "source": [
    "print(intvar)\n",
    "print(floatvar)\n",
    "print(strvar)"
   ]
  },
  {
   "cell_type": "markdown",
   "id": "b88ea525-5ccc-4084-9710-3aea54a5bf46",
   "metadata": {},
   "source": [
    "## Datatypes"
   ]
  },
  {
   "cell_type": "code",
   "execution_count": 48,
   "id": "4e3ee2c1-456d-4620-8c80-8453dc9c0cab",
   "metadata": {},
   "outputs": [],
   "source": [
    "#integer\n",
    "a = 30"
   ]
  },
  {
   "cell_type": "code",
   "execution_count": 50,
   "id": "49c81104-319b-4bc5-bb9a-80902052c442",
   "metadata": {},
   "outputs": [
    {
     "data": {
      "text/plain": [
       "int"
      ]
     },
     "execution_count": 50,
     "metadata": {},
     "output_type": "execute_result"
    }
   ],
   "source": [
    "type(a)"
   ]
  },
  {
   "cell_type": "code",
   "execution_count": 109,
   "id": "36c616c9-8842-4dfc-b65f-46a2aecf4455",
   "metadata": {},
   "outputs": [],
   "source": [
    "b = 150.0 #Float data type"
   ]
  },
  {
   "cell_type": "code",
   "execution_count": 54,
   "id": "4bc136b7-5b82-4c35-bbbd-2e1f618f4645",
   "metadata": {},
   "outputs": [
    {
     "data": {
      "text/plain": [
       "float"
      ]
     },
     "execution_count": 54,
     "metadata": {},
     "output_type": "execute_result"
    }
   ],
   "source": [
    "type(b)"
   ]
  },
  {
   "cell_type": "code",
   "execution_count": 56,
   "id": "d53d5f5b-2451-49f1-857d-2a73d6dd1828",
   "metadata": {},
   "outputs": [],
   "source": [
    "c = \"Bhavik\" #String data type"
   ]
  },
  {
   "cell_type": "code",
   "execution_count": 58,
   "id": "ac5e0060-5dc7-44cb-8bb1-15e5f9240d79",
   "metadata": {},
   "outputs": [
    {
     "data": {
      "text/plain": [
       "str"
      ]
     },
     "execution_count": 58,
     "metadata": {},
     "output_type": "execute_result"
    }
   ],
   "source": [
    "type(c)"
   ]
  },
  {
   "cell_type": "code",
   "execution_count": 64,
   "id": "2a4929d8-338c-4eb7-80e1-c5a1ee9c88ce",
   "metadata": {},
   "outputs": [],
   "source": [
    "d = \"10\" #String data type"
   ]
  },
  {
   "cell_type": "code",
   "execution_count": 66,
   "id": "d46498cb-122f-4cbe-ae41-3ada1406f924",
   "metadata": {},
   "outputs": [
    {
     "data": {
      "text/plain": [
       "str"
      ]
     },
     "execution_count": 66,
     "metadata": {},
     "output_type": "execute_result"
    }
   ],
   "source": [
    "type(d)"
   ]
  },
  {
   "cell_type": "code",
   "execution_count": 68,
   "id": "e16d3c85-eeea-4aff-b783-98023ce104f5",
   "metadata": {},
   "outputs": [],
   "source": [
    "e = True #Boolean data type"
   ]
  },
  {
   "cell_type": "code",
   "execution_count": 70,
   "id": "31bf5db1-402e-4015-8bdf-6a245c44d933",
   "metadata": {},
   "outputs": [
    {
     "data": {
      "text/plain": [
       "bool"
      ]
     },
     "execution_count": 70,
     "metadata": {},
     "output_type": "execute_result"
    }
   ],
   "source": [
    "type(e)"
   ]
  },
  {
   "cell_type": "code",
   "execution_count": 72,
   "id": "d1728063-c97f-47f3-b753-e48d28dbe3a2",
   "metadata": {},
   "outputs": [],
   "source": [
    "f = False #Boolean data type"
   ]
  },
  {
   "cell_type": "code",
   "execution_count": 74,
   "id": "d8eae955-1aa4-4b30-835b-b489c2115f87",
   "metadata": {},
   "outputs": [
    {
     "data": {
      "text/plain": [
       "bool"
      ]
     },
     "execution_count": 74,
     "metadata": {},
     "output_type": "execute_result"
    }
   ],
   "source": [
    "type(f)"
   ]
  },
  {
   "cell_type": "code",
   "execution_count": 111,
   "id": "26f92877-f330-43e4-9625-68655463154b",
   "metadata": {},
   "outputs": [],
   "source": [
    "g = 21 + 45j #Complex data type"
   ]
  },
  {
   "cell_type": "code",
   "execution_count": 78,
   "id": "cb4448fd-c613-4562-9ae5-2d401583d665",
   "metadata": {},
   "outputs": [
    {
     "data": {
      "text/plain": [
       "complex"
      ]
     },
     "execution_count": 78,
     "metadata": {},
     "output_type": "execute_result"
    }
   ],
   "source": [
    "type(g)"
   ]
  },
  {
   "cell_type": "markdown",
   "id": "840dfa0f-bbf9-4caf-b1c6-71d25e94672e",
   "metadata": {},
   "source": [
    "### Getting Information of variables and system"
   ]
  },
  {
   "cell_type": "code",
   "execution_count": 81,
   "id": "a5c86816-d952-463f-a563-255bfd7668eb",
   "metadata": {},
   "outputs": [],
   "source": [
    "import sys"
   ]
  },
  {
   "cell_type": "code",
   "execution_count": 87,
   "id": "7a21d7d8-637a-458b-8ce9-9dbfc3758319",
   "metadata": {},
   "outputs": [],
   "source": [
    "a = 10"
   ]
  },
  {
   "cell_type": "code",
   "execution_count": 89,
   "id": "674270e4-1491-49fa-86b2-d1b299bb9283",
   "metadata": {},
   "outputs": [
    {
     "data": {
      "text/plain": [
       "28"
      ]
     },
     "execution_count": 89,
     "metadata": {},
     "output_type": "execute_result"
    }
   ],
   "source": [
    "sys.getsizeof(a)"
   ]
  },
  {
   "cell_type": "code",
   "execution_count": 91,
   "id": "003875a4-ba70-4a9d-860b-4e7689d20e5a",
   "metadata": {},
   "outputs": [],
   "source": [
    "b = 10.0"
   ]
  },
  {
   "cell_type": "code",
   "execution_count": 93,
   "id": "68aa14bd-dbec-41d1-8ef1-21b89ad00047",
   "metadata": {},
   "outputs": [
    {
     "data": {
      "text/plain": [
       "24"
      ]
     },
     "execution_count": 93,
     "metadata": {},
     "output_type": "execute_result"
    }
   ],
   "source": [
    "sys.getsizeof(b)"
   ]
  },
  {
   "cell_type": "code",
   "execution_count": 24,
   "id": "e48c7002-55fb-4b54-ac6d-505496ce2018",
   "metadata": {},
   "outputs": [],
   "source": [
    "c = \"Gonna hate you Bhavik\" #Size of string"
   ]
  },
  {
   "cell_type": "code",
   "execution_count": 22,
   "id": "8e6d439f-7cba-4f9c-9b4e-8a218f6978d1",
   "metadata": {},
   "outputs": [
    {
     "data": {
      "text/plain": [
       "62"
      ]
     },
     "execution_count": 22,
     "metadata": {},
     "output_type": "execute_result"
    }
   ],
   "source": [
    "sys.getsizeof(c)"
   ]
  },
  {
   "cell_type": "code",
   "execution_count": 101,
   "id": "6e0fb2f9-7527-46b1-8a10-9f81ae7d50ab",
   "metadata": {},
   "outputs": [],
   "source": [
    "z = 23"
   ]
  },
  {
   "cell_type": "code",
   "execution_count": 103,
   "id": "d1dcac34-4331-4b81-ad67-0d870867d79c",
   "metadata": {},
   "outputs": [
    {
     "data": {
      "text/plain": [
       "28"
      ]
     },
     "execution_count": 103,
     "metadata": {},
     "output_type": "execute_result"
    }
   ],
   "source": [
    "sys.getsizeof(z) # Size of Integer"
   ]
  },
  {
   "cell_type": "code",
   "execution_count": 105,
   "id": "54241989-ef82-43a8-bb8f-3e6eadb0fcb0",
   "metadata": {},
   "outputs": [],
   "source": [
    "z =334"
   ]
  },
  {
   "cell_type": "code",
   "execution_count": 107,
   "id": "ee06298f-12bc-4a1c-8c89-3e73b4bbdc06",
   "metadata": {},
   "outputs": [
    {
     "data": {
      "text/plain": [
       "28"
      ]
     },
     "execution_count": 107,
     "metadata": {},
     "output_type": "execute_result"
    }
   ],
   "source": [
    "sys.getsizeof(z) # Size of Integer"
   ]
  },
  {
   "cell_type": "code",
   "execution_count": 115,
   "id": "bae0b114-4606-4ad1-8f89-bd6f48c2ec4b",
   "metadata": {},
   "outputs": [
    {
     "data": {
      "text/plain": [
       "32"
      ]
     },
     "execution_count": 115,
     "metadata": {},
     "output_type": "execute_result"
    }
   ],
   "source": [
    "sys.getsizeof(g) # Size of Complex"
   ]
  },
  {
   "cell_type": "code",
   "execution_count": 1,
   "id": "5334d65d-3c68-4a8f-ad65-5b2974f0894d",
   "metadata": {},
   "outputs": [],
   "source": [
    "bool1 = True"
   ]
  },
  {
   "cell_type": "code",
   "execution_count": 14,
   "id": "02db2b4d-4dee-4707-b805-6bc414eacb6f",
   "metadata": {},
   "outputs": [
    {
     "name": "stdout",
     "output_type": "stream",
     "text": [
      "True\n",
      "<class 'bool'>\n",
      "28\n",
      "Given input is True is It a boolean ?  True\n"
     ]
    }
   ],
   "source": [
    "print(bool1)\n",
    "print(type(bool1))\n",
    "print(sys.getsizeof(bool1))\n",
    "print(\"Given input is\",  bool1, \"is It a boolean ? \", isinstance(bool1, bool))"
   ]
  },
  {
   "cell_type": "code",
   "execution_count": 4,
   "id": "04eb3c80-4fef-45ae-8772-18677ca4ec1d",
   "metadata": {},
   "outputs": [],
   "source": [
    "import sys"
   ]
  },
  {
   "cell_type": "code",
   "execution_count": 26,
   "id": "3935b820-489d-43b6-a31d-01e84b3d9954",
   "metadata": {},
   "outputs": [],
   "source": [
    "int1 = 20"
   ]
  },
  {
   "cell_type": "code",
   "execution_count": 28,
   "id": "5c106570-0342-4573-b0e6-34865df18de4",
   "metadata": {},
   "outputs": [],
   "source": [
    "int2 = 100000000"
   ]
  },
  {
   "cell_type": "code",
   "execution_count": 30,
   "id": "a73a204a-61e3-44ea-9d37-807f08e45e11",
   "metadata": {},
   "outputs": [
    {
     "data": {
      "text/plain": [
       "int"
      ]
     },
     "execution_count": 30,
     "metadata": {},
     "output_type": "execute_result"
    }
   ],
   "source": [
    "type(int1)"
   ]
  },
  {
   "cell_type": "code",
   "execution_count": 32,
   "id": "e7e413e7-95bf-48ac-ad8d-fcbcb8120cbb",
   "metadata": {},
   "outputs": [
    {
     "data": {
      "text/plain": [
       "28"
      ]
     },
     "execution_count": 32,
     "metadata": {},
     "output_type": "execute_result"
    }
   ],
   "source": [
    "sys.getsizeof(int1)"
   ]
  },
  {
   "cell_type": "code",
   "execution_count": 34,
   "id": "0bb8ec96-58dd-4d93-bbf5-91f2b74a4347",
   "metadata": {},
   "outputs": [
    {
     "data": {
      "text/plain": [
       "28"
      ]
     },
     "execution_count": 34,
     "metadata": {},
     "output_type": "execute_result"
    }
   ],
   "source": [
    "sys.getsizeof(int2)"
   ]
  },
  {
   "cell_type": "code",
   "execution_count": 36,
   "id": "ff2c73b7-fab9-438a-898e-902a7b424dd4",
   "metadata": {},
   "outputs": [],
   "source": [
    "str1 = \"Bhavik Sharma\""
   ]
  },
  {
   "cell_type": "code",
   "execution_count": 38,
   "id": "527ef372-a82b-49c0-a82a-b7477c2f959f",
   "metadata": {},
   "outputs": [],
   "source": [
    "str2 = \"Datamites\""
   ]
  },
  {
   "cell_type": "code",
   "execution_count": 40,
   "id": "60109c61-5b76-4d90-9b47-1a7e1fb21236",
   "metadata": {
    "scrolled": true
   },
   "outputs": [
    {
     "data": {
      "text/plain": [
       "54"
      ]
     },
     "execution_count": 40,
     "metadata": {},
     "output_type": "execute_result"
    }
   ],
   "source": [
    "sys.getsizeof(str1)"
   ]
  },
  {
   "cell_type": "code",
   "execution_count": 42,
   "id": "3965a92c-ed86-43da-822c-5cd8031f2bcd",
   "metadata": {},
   "outputs": [
    {
     "data": {
      "text/plain": [
       "50"
      ]
     },
     "execution_count": 42,
     "metadata": {},
     "output_type": "execute_result"
    }
   ],
   "source": [
    "sys.getsizeof(str2)"
   ]
  },
  {
   "cell_type": "code",
   "execution_count": 44,
   "id": "c9cbf705-b99c-4124-a1ea-2e6fd04e64cd",
   "metadata": {},
   "outputs": [
    {
     "name": "stdout",
     "output_type": "stream",
     "text": [
      "(25+10j)\n",
      "<class 'complex'>\n",
      "32\n",
      "(25+10j)  is complex ?  True\n"
     ]
    }
   ],
   "source": [
    "val3 = 25 + 10j\n",
    "print(val3)\n",
    "print(type(val3))\n",
    "print(sys.getsizeof(val3))\n",
    "print(val3, \" is complex ? \", isinstance(val3, complex))"
   ]
  },
  {
   "cell_type": "code",
   "execution_count": null,
   "id": "85458ee7-6cc3-4705-944e-e1539bd07f24",
   "metadata": {},
   "outputs": [],
   "source": []
  }
 ],
 "metadata": {
  "kernelspec": {
   "display_name": "Python 3 (ipykernel)",
   "language": "python",
   "name": "python3"
  },
  "language_info": {
   "codemirror_mode": {
    "name": "ipython",
    "version": 3
   },
   "file_extension": ".py",
   "mimetype": "text/x-python",
   "name": "python",
   "nbconvert_exporter": "python",
   "pygments_lexer": "ipython3",
   "version": "3.12.4"
  }
 },
 "nbformat": 4,
 "nbformat_minor": 5
}
