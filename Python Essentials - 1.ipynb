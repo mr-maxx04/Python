{
 "cells": [
  {
   "cell_type": "markdown",
   "id": "3330ed7b-d12d-4a4a-9e9b-0dc76d1f4b65",
   "metadata": {},
   "source": [
    "### Tutorial of python\n",
    "Python is programming language. Nowadays, Python is very popular programming language it's not latest programming language it came in the picture in 1985 and java came in 1995, so its not latest programming language Imagine how old this programming language is it is mostly used in the field of data analytics, data science, A.I. and many other data engineering fields."
   ]
  },
  {
   "cell_type": "markdown",
   "id": "77f155e0-99fb-44ff-8f03-9768d8289fdc",
   "metadata": {},
   "source": [
    "### What is Jupyter Notebook\n",
    "* It is an open-source web application that allows data scientists to create and share documents that integrate live code, equations, computational output, visualizations, and other multimedia resources\n",
    "* Uses includedata cleaning and transformation, numerical simulation, statistical modeling,data visualisation, machine learning and much more.\n",
    "\n",
    "It is an open source web application that allows to interact with python."
   ]
  },
  {
   "cell_type": "markdown",
   "id": "81195df4-dfe9-405b-a6ee-c04232f52c16",
   "metadata": {},
   "source": [
    "### Advantage :- \n",
    "* Interactive\n",
    "* Results/output are stored so it is easy to review\n",
    "* Friendly for documentation\n",
    "* No limitation from performance\n",
    "* Helpful Shortcuts\n",
    "* Industry standards for all data science, ML Projects.\n",
    "\n",
    "Extension of Juoyter file is ipynb(i python notebook, previous name of jupyter)\n"
   ]
  },
  {
   "cell_type": "markdown",
   "id": "cf139230-7389-484b-870c-19f8fd91306d",
   "metadata": {},
   "source": [
    "## Shortcuts\n",
    "[shift] + [enter] : run a cell\n",
    "\n",
    "##### Command Mode : \n",
    "* esc and a : Insert cell above\n",
    "* esc and b : Insert cell below\n",
    "* esc and dd : Delete a cell\n",
    "* esc and z : undo a delete cell\n",
    "* esc and r : convert cell to raw cell\n",
    "* esc and m : convert cell to markdown cell\n",
    "* esc and c : copy a cell\n",
    "* esc and v : paste a cell\n",
    "* esc and x : cut a cell"
   ]
  },
  {
   "cell_type": "markdown",
   "id": "1142f0e6-aaa2-47a2-a1e4-c44968205d99",
   "metadata": {},
   "source": [
    "## Edit Mode\n",
    "* Ctrl + C : Copy Text\n",
    "* Ctrl + V : Paste Text\n",
    "* Ctrl + X : Cut Text\n",
    "* Ctrl + Z : Undo"
   ]
  },
  {
   "cell_type": "code",
   "execution_count": 12,
   "id": "75774a5a-d1bd-4bc3-91b9-722471c5bd2b",
   "metadata": {},
   "outputs": [],
   "source": [
    "import keyword"
   ]
  },
  {
   "cell_type": "code",
   "execution_count": 14,
   "id": "6f0cd4e4-67f3-4270-9ecd-8458617e4e51",
   "metadata": {},
   "outputs": [
    {
     "data": {
      "text/plain": [
       "['False',\n",
       " 'None',\n",
       " 'True',\n",
       " 'and',\n",
       " 'as',\n",
       " 'assert',\n",
       " 'async',\n",
       " 'await',\n",
       " 'break',\n",
       " 'class',\n",
       " 'continue',\n",
       " 'def',\n",
       " 'del',\n",
       " 'elif',\n",
       " 'else',\n",
       " 'except',\n",
       " 'finally',\n",
       " 'for',\n",
       " 'from',\n",
       " 'global',\n",
       " 'if',\n",
       " 'import',\n",
       " 'in',\n",
       " 'is',\n",
       " 'lambda',\n",
       " 'nonlocal',\n",
       " 'not',\n",
       " 'or',\n",
       " 'pass',\n",
       " 'raise',\n",
       " 'return',\n",
       " 'try',\n",
       " 'while',\n",
       " 'with',\n",
       " 'yield']"
      ]
     },
     "execution_count": 14,
     "metadata": {},
     "output_type": "execute_result"
    }
   ],
   "source": [
    "keyword.kwlist"
   ]
  },
  {
   "cell_type": "code",
   "execution_count": 16,
   "id": "96921e56-db12-4ef8-a3dd-b728613aff7f",
   "metadata": {},
   "outputs": [
    {
     "data": {
      "text/plain": [
       "35"
      ]
     },
     "execution_count": 16,
     "metadata": {},
     "output_type": "execute_result"
    }
   ],
   "source": [
    "len(keyword.kwlist)"
   ]
  },
  {
   "cell_type": "code",
   "execution_count": 18,
   "id": "4af449f0-2a5d-4c82-8c89-1622058a3f57",
   "metadata": {},
   "outputs": [],
   "source": [
    "c = keyword.kwlist"
   ]
  },
  {
   "cell_type": "code",
   "execution_count": 22,
   "id": "5d7c10b0-5bcc-4013-b970-d7483e779f65",
   "metadata": {},
   "outputs": [
    {
     "data": {
      "text/plain": [
       "35"
      ]
     },
     "execution_count": 22,
     "metadata": {},
     "output_type": "execute_result"
    }
   ],
   "source": [
    "len(c)"
   ]
  },
  {
   "cell_type": "code",
   "execution_count": 24,
   "id": "191bc902-5ddf-462c-879e-de36a41f4c96",
   "metadata": {},
   "outputs": [
    {
     "data": {
      "text/plain": [
       "list"
      ]
     },
     "execution_count": 24,
     "metadata": {},
     "output_type": "execute_result"
    }
   ],
   "source": [
    "type(c)"
   ]
  },
  {
   "cell_type": "markdown",
   "id": "9ee6231b-e115-4cc7-9594-d3ac4ea5afc1",
   "metadata": {},
   "source": [
    "# Identifiers\n",
    "* An identifier is name givent to entities like functions, variables etc.\n",
    "* it helps in defferentiating one entity from other.\n",
    "\n",
    "\n",
    "## Note\n",
    "* can't initiate with digit\n",
    "* they can't use special symbol\n",
    "* they cant be used as identifier\n",
    "\n",
    "\"\"\"\n",
    "Correct way of defining an identifier (Identifiers can be a combination of letters in lowercase ())"
   ]
  },
  {
   "cell_type": "markdown",
   "id": "89650f3a-ea95-4cc9-9540-322da8de3d41",
   "metadata": {},
   "source": [
    "## Single Line Comment"
   ]
  },
  {
   "cell_type": "code",
   "execution_count": 66,
   "id": "7fe6dda7-5e35-43fd-b09c-de1d331162b1",
   "metadata": {},
   "outputs": [],
   "source": [
    "# Heyy I am Bhavik"
   ]
  },
  {
   "cell_type": "markdown",
   "id": "6af8616a-14b9-4de2-94f4-e670124dbdcc",
   "metadata": {},
   "source": [
    "### MultiLine Comment"
   ]
  },
  {
   "cell_type": "code",
   "execution_count": 39,
   "id": "4b4374f6-3e16-48c6-91a5-d9e3df848438",
   "metadata": {},
   "outputs": [
    {
     "data": {
      "text/plain": [
       "\"Heyy I am Bhavik    how r u    what's up\""
      ]
     },
     "execution_count": 39,
     "metadata": {},
     "output_type": "execute_result"
    }
   ],
   "source": [
    "\"\"\"Heyy I am Bhavik\\\n",
    "    how r u\\\n",
    "    what's up\"\"\""
   ]
  },
  {
   "cell_type": "code",
   "execution_count": 41,
   "id": "90cc62c4-5396-4f2a-81b8-1e8113bc5a4b",
   "metadata": {},
   "outputs": [],
   "source": [
    "p1 = \"\"\"Heyy I am Bhavik\\\n",
    "    how r u\\\n",
    "    what's up\"\"\""
   ]
  },
  {
   "cell_type": "code",
   "execution_count": 43,
   "id": "e92c1c72-6830-4797-9c06-13ecc222d55b",
   "metadata": {},
   "outputs": [
    {
     "data": {
      "text/plain": [
       "\"Heyy I am Bhavik    how r u    what's up\""
      ]
     },
     "execution_count": 43,
     "metadata": {},
     "output_type": "execute_result"
    }
   ],
   "source": [
    "p1"
   ]
  },
  {
   "cell_type": "code",
   "execution_count": 73,
   "id": "80a1bfed-cf3f-4498-8bea-22f2cf86fea4",
   "metadata": {},
   "outputs": [],
   "source": [
    "p2 = 5"
   ]
  },
  {
   "cell_type": "code",
   "execution_count": 75,
   "id": "019930f4-c760-4ced-a600-fb57fadcbb72",
   "metadata": {},
   "outputs": [
    {
     "data": {
      "text/plain": [
       "5"
      ]
     },
     "execution_count": 75,
     "metadata": {},
     "output_type": "execute_result"
    }
   ],
   "source": [
    "p2"
   ]
  },
  {
   "cell_type": "code",
   "execution_count": 77,
   "id": "fb809d3b-ffa1-4014-a4d4-ff755d94993d",
   "metadata": {},
   "outputs": [],
   "source": [
    "p3 = 10"
   ]
  },
  {
   "cell_type": "code",
   "execution_count": 79,
   "id": "e98acacb-0d33-4d18-baea-370f6368bdf5",
   "metadata": {},
   "outputs": [
    {
     "data": {
      "text/plain": [
       "10"
      ]
     },
     "execution_count": 79,
     "metadata": {},
     "output_type": "execute_result"
    }
   ],
   "source": [
    "p3"
   ]
  },
  {
   "cell_type": "code",
   "execution_count": 86,
   "id": "12c627aa-ea61-44e6-a01c-267eed373ecb",
   "metadata": {},
   "outputs": [
    {
     "data": {
      "text/plain": [
       "10"
      ]
     },
     "execution_count": 86,
     "metadata": {},
     "output_type": "execute_result"
    }
   ],
   "source": [
    "p2\n",
    "p3\n",
    "\n",
    "# Neeche wali chiz print hogi\n",
    "# pehle p2 print hoga but then p3 useh overwrite kar dega"
   ]
  },
  {
   "cell_type": "code",
   "execution_count": 90,
   "id": "ee9a504b-d4f8-42cb-a625-e8706f1abb91",
   "metadata": {},
   "outputs": [
    {
     "data": {
      "text/plain": [
       "5"
      ]
     },
     "execution_count": 90,
     "metadata": {},
     "output_type": "execute_result"
    }
   ],
   "source": [
    "p3\n",
    "p2\n",
    "\n",
    "# Neeche wali chiz print hogi\n",
    "# pehle p3 print hoga but then p2 useh overwrite kar dega"
   ]
  },
  {
   "cell_type": "code",
   "execution_count": 55,
   "id": "f6bf06e8-fdb5-4946-9d88-b40e98a0ff9b",
   "metadata": {},
   "outputs": [
    {
     "name": "stdout",
     "output_type": "stream",
     "text": [
      "Hello Friend\n"
     ]
    }
   ],
   "source": [
    "print(\"Hello Friend\")"
   ]
  },
  {
   "cell_type": "code",
   "execution_count": 57,
   "id": "d06677f5-cd7a-45eb-815e-6a05196204b5",
   "metadata": {},
   "outputs": [
    {
     "data": {
      "text/plain": [
       "'Hello Friend'"
      ]
     },
     "execution_count": 57,
     "metadata": {},
     "output_type": "execute_result"
    }
   ],
   "source": [
    "\"Hello Friend\""
   ]
  },
  {
   "cell_type": "code",
   "execution_count": 59,
   "id": "6ceae089-5851-4233-8302-39efbdc260fb",
   "metadata": {},
   "outputs": [
    {
     "data": {
      "text/plain": [
       "'Hello BHavik'"
      ]
     },
     "execution_count": 59,
     "metadata": {},
     "output_type": "execute_result"
    }
   ],
   "source": [
    "'Hello BHavik'"
   ]
  },
  {
   "cell_type": "code",
   "execution_count": 92,
   "id": "a4c04921-1447-4234-8591-97f7aa13d1ef",
   "metadata": {},
   "outputs": [
    {
     "data": {
      "text/plain": [
       "'Hello Bhavik'"
      ]
     },
     "execution_count": 92,
     "metadata": {},
     "output_type": "execute_result"
    }
   ],
   "source": [
    "\"Hello Friend\"\n",
    "\"Hello Bhavik\"\n",
    "\n",
    "# Neeche wali chiz (Hello Bhavik) print hoga\n",
    "# pehle upar wala para print hoga but then neeche ka para useh overwrite kar dega"
   ]
  }
 ],
 "metadata": {
  "kernelspec": {
   "display_name": "Python 3 (ipykernel)",
   "language": "python",
   "name": "python3"
  },
  "language_info": {
   "codemirror_mode": {
    "name": "ipython",
    "version": 3
   },
   "file_extension": ".py",
   "mimetype": "text/x-python",
   "name": "python",
   "nbconvert_exporter": "python",
   "pygments_lexer": "ipython3",
   "version": "3.12.4"
  }
 },
 "nbformat": 4,
 "nbformat_minor": 5
}
