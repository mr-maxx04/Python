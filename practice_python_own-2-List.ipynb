{
 "cells": [
  {
   "cell_type": "markdown",
   "id": "a472ed33-cee8-4ceb-8ec9-49e8ac0287c4",
   "metadata": {},
   "source": [
    "# Data Structures"
   ]
  },
  {
   "cell_type": "markdown",
   "id": "490d3332-2fff-4d1d-8933-40b01fd43af4",
   "metadata": {},
   "source": [
    "* Lists\n",
    "* Tuples\n",
    "* Sets\n",
    "* Dict\n",
    "* String"
   ]
  },
  {
   "cell_type": "markdown",
   "id": "1698a6aa-5b48-4f1c-a89c-484f95322daa",
   "metadata": {},
   "source": [
    "# Lists\n",
    "\n",
    "* It is Mutable.\n",
    "* Indexing is allowed.\n",
    "* Elements of All data types can be stored\n",
    "* Initialised by Square Bracket.\n",
    "* Duplicate Elements are allowed"
   ]
  },
  {
   "cell_type": "markdown",
   "id": "9b4ea0e9-86da-4cdb-9912-082b72ac1cdb",
   "metadata": {},
   "source": [
    "## Creation of Lists"
   ]
  },
  {
   "cell_type": "code",
   "execution_count": 10,
   "id": "c0d06aad-cced-4494-8d30-6030910b64bd",
   "metadata": {},
   "outputs": [],
   "source": [
    "list1 = [\"Hello\", 1,2,4,3.4,True]"
   ]
  },
  {
   "cell_type": "code",
   "execution_count": 12,
   "id": "87285d32-b041-45b6-a65f-74e19a12f883",
   "metadata": {},
   "outputs": [
    {
     "data": {
      "text/plain": [
       "['Hello', 1, 2, 4, 3.4, True]"
      ]
     },
     "execution_count": 12,
     "metadata": {},
     "output_type": "execute_result"
    }
   ],
   "source": [
    "list1"
   ]
  },
  {
   "cell_type": "markdown",
   "id": "06f18bc4-b331-4700-8e84-497440d58269",
   "metadata": {},
   "source": [
    "### Indexation and Extraction of elements in Lists"
   ]
  },
  {
   "cell_type": "markdown",
   "id": "e9b95345-c1d4-4bf2-8dba-88c84db45198",
   "metadata": {},
   "source": [
    "* Index starts from zero"
   ]
  },
  {
   "cell_type": "code",
   "execution_count": 16,
   "id": "2607053f-f46a-4565-893b-b855b50b6cb2",
   "metadata": {},
   "outputs": [
    {
     "data": {
      "text/plain": [
       "'Hello'"
      ]
     },
     "execution_count": 16,
     "metadata": {},
     "output_type": "execute_result"
    }
   ],
   "source": [
    "list1[0]"
   ]
  },
  {
   "cell_type": "code",
   "execution_count": 18,
   "id": "d99aab69-eeb6-4f6a-82a4-bc0a4c6c9783",
   "metadata": {},
   "outputs": [
    {
     "data": {
      "text/plain": [
       "4"
      ]
     },
     "execution_count": 18,
     "metadata": {},
     "output_type": "execute_result"
    }
   ],
   "source": [
    "list1[3]"
   ]
  },
  {
   "cell_type": "code",
   "execution_count": 28,
   "id": "66d89c8b-0e55-4dcf-b559-bf17cb62abde",
   "metadata": {},
   "outputs": [
    {
     "data": {
      "text/plain": [
       "True"
      ]
     },
     "execution_count": 28,
     "metadata": {},
     "output_type": "execute_result"
    }
   ],
   "source": [
    "list1[-1] # For last element"
   ]
  },
  {
   "cell_type": "code",
   "execution_count": 30,
   "id": "372909db-9d1c-449e-bff8-b1cd9970117f",
   "metadata": {},
   "outputs": [
    {
     "data": {
      "text/plain": [
       "3.4"
      ]
     },
     "execution_count": 30,
     "metadata": {},
     "output_type": "execute_result"
    }
   ],
   "source": [
    "list1[-2]"
   ]
  },
  {
   "cell_type": "markdown",
   "id": "5f3dc2e2-5e94-4187-aa57-057a9e85032b",
   "metadata": {},
   "source": [
    "### Changing element of any particular index "
   ]
  },
  {
   "cell_type": "code",
   "execution_count": 33,
   "id": "e6e4aa41-8a87-4240-91ba-84419b94a1d0",
   "metadata": {},
   "outputs": [],
   "source": [
    "list1[3] = 5"
   ]
  },
  {
   "cell_type": "code",
   "execution_count": 35,
   "id": "cf1cd041-b07c-439a-88f6-0edd715674d0",
   "metadata": {},
   "outputs": [
    {
     "data": {
      "text/plain": [
       "['Hello', 1, 2, 5, 3.4, True]"
      ]
     },
     "execution_count": 35,
     "metadata": {},
     "output_type": "execute_result"
    }
   ],
   "source": [
    "list1"
   ]
  },
  {
   "cell_type": "code",
   "execution_count": 37,
   "id": "21a1bb48-9358-4bf5-8cad-165afcfc3f60",
   "metadata": {},
   "outputs": [],
   "source": [
    "list1[-1] = False"
   ]
  },
  {
   "cell_type": "code",
   "execution_count": 39,
   "id": "b0ef4bbe-be1e-47ca-b375-28ce8b92a9bb",
   "metadata": {},
   "outputs": [
    {
     "data": {
      "text/plain": [
       "['Hello', 1, 2, 5, 3.4, False]"
      ]
     },
     "execution_count": 39,
     "metadata": {},
     "output_type": "execute_result"
    }
   ],
   "source": [
    "list1"
   ]
  },
  {
   "cell_type": "markdown",
   "id": "d6f46ac7-c7ab-4a7d-8c9b-44d47afe7cfa",
   "metadata": {},
   "source": [
    "### Slicing in Lists"
   ]
  },
  {
   "cell_type": "code",
   "execution_count": 44,
   "id": "c004755c-6032-440a-a077-e383eabc8578",
   "metadata": {},
   "outputs": [
    {
     "data": {
      "text/plain": [
       "['Hello', 1, 2]"
      ]
     },
     "execution_count": 44,
     "metadata": {},
     "output_type": "execute_result"
    }
   ],
   "source": [
    "list1[0:3]"
   ]
  },
  {
   "cell_type": "code",
   "execution_count": 48,
   "id": "0d25c6b6-f6a6-4317-b01b-ed26b2119932",
   "metadata": {},
   "outputs": [
    {
     "data": {
      "text/plain": [
       "[2, 1, 'Hello']"
      ]
     },
     "execution_count": 48,
     "metadata": {},
     "output_type": "execute_result"
    }
   ],
   "source": [
    "list1[0:3:1][::-1]"
   ]
  },
  {
   "cell_type": "code",
   "execution_count": 52,
   "id": "ac741a5d-bd57-4e6e-9b25-f17284ba3c63",
   "metadata": {},
   "outputs": [
    {
     "data": {
      "text/plain": [
       "['Hello', 2, 3.4]"
      ]
     },
     "execution_count": 52,
     "metadata": {},
     "output_type": "execute_result"
    }
   ],
   "source": [
    "list1[0:5:2] # Formt of slicing in Lists is Starting:Ending:Steps(Gap between the indices)"
   ]
  },
  {
   "cell_type": "code",
   "execution_count": 56,
   "id": "6ceaeffc-ee2c-4458-a181-fe7ba94956bc",
   "metadata": {},
   "outputs": [],
   "source": [
    "list1.reverse()"
   ]
  },
  {
   "cell_type": "code",
   "execution_count": 58,
   "id": "f19a8ed2-12b4-4279-9ce5-2db0c82208f8",
   "metadata": {},
   "outputs": [
    {
     "data": {
      "text/plain": [
       "[False, 3.4, 5, 2, 1, 'Hello']"
      ]
     },
     "execution_count": 58,
     "metadata": {},
     "output_type": "execute_result"
    }
   ],
   "source": [
    "list1"
   ]
  },
  {
   "cell_type": "markdown",
   "id": "e106546b-0b1e-49d2-ad80-aae65eeed60a",
   "metadata": {},
   "source": [
    "## Functions in Lists\n",
    "\n",
    "* sort\n",
    "* insert\n",
    "* reverse\n",
    "* remove\n",
    "* clear\n",
    "* pop\n",
    "* append\n",
    "* extend"
   ]
  },
  {
   "cell_type": "code",
   "execution_count": 110,
   "id": "d4b9bba4-1a2c-4696-92b8-298c4be7400e",
   "metadata": {},
   "outputs": [],
   "source": [
    "list2 = [10,2,31,41,15,46,17]"
   ]
  },
  {
   "cell_type": "code",
   "execution_count": 112,
   "id": "4d1ce775-6e9f-44b8-87c0-a935caeb933b",
   "metadata": {},
   "outputs": [],
   "source": [
    "list2.sort() # Sort in Ascending Order"
   ]
  },
  {
   "cell_type": "code",
   "execution_count": 114,
   "id": "bfb58012-fc76-44fa-b430-ad306e3d19a6",
   "metadata": {},
   "outputs": [
    {
     "data": {
      "text/plain": [
       "[2, 10, 15, 17, 31, 41, 46]"
      ]
     },
     "execution_count": 114,
     "metadata": {},
     "output_type": "execute_result"
    }
   ],
   "source": [
    "list2"
   ]
  },
  {
   "cell_type": "code",
   "execution_count": 115,
   "id": "f9fb2274-c75e-4625-a1b9-e7abae5543eb",
   "metadata": {},
   "outputs": [],
   "source": [
    "list2.sort(reverse = True) # sort in descending order"
   ]
  },
  {
   "cell_type": "code",
   "execution_count": 117,
   "id": "690ec49f-9aff-4fc1-be27-08d90211208b",
   "metadata": {},
   "outputs": [
    {
     "data": {
      "text/plain": [
       "[46, 41, 31, 17, 15, 10, 2]"
      ]
     },
     "execution_count": 117,
     "metadata": {},
     "output_type": "execute_result"
    }
   ],
   "source": [
    "list2"
   ]
  },
  {
   "cell_type": "code",
   "execution_count": 119,
   "id": "e8d69f48-e6a0-4082-8faf-2553df4d7058",
   "metadata": {},
   "outputs": [],
   "source": [
    "list2.reverse() # used to direct reverse the list"
   ]
  },
  {
   "cell_type": "code",
   "execution_count": 122,
   "id": "06b5d728-a8d8-434b-aee2-c981c338fd85",
   "metadata": {},
   "outputs": [
    {
     "data": {
      "text/plain": [
       "[2, 10, 15, 17, 31, 41, 46]"
      ]
     },
     "execution_count": 122,
     "metadata": {},
     "output_type": "execute_result"
    }
   ],
   "source": [
    "list2"
   ]
  },
  {
   "cell_type": "code",
   "execution_count": 123,
   "id": "3f201937-7e94-4339-adb1-49157f54cf0c",
   "metadata": {},
   "outputs": [
    {
     "data": {
      "text/plain": [
       "2"
      ]
     },
     "execution_count": 123,
     "metadata": {},
     "output_type": "execute_result"
    }
   ],
   "source": [
    "list2[0]"
   ]
  },
  {
   "cell_type": "code",
   "execution_count": 130,
   "id": "bb76ab79-b2a8-40cd-b8fa-23fbda1d7c08",
   "metadata": {},
   "outputs": [],
   "source": [
    "list2.insert(0,50) # used to add any element at particular index (index, element's value)"
   ]
  },
  {
   "cell_type": "code",
   "execution_count": 132,
   "id": "bab6fd34-09f7-4e92-be69-e6e59c3e4193",
   "metadata": {},
   "outputs": [
    {
     "data": {
      "text/plain": [
       "[50, 50, 2, 10, 15, 17, 31, 41, 46]"
      ]
     },
     "execution_count": 132,
     "metadata": {},
     "output_type": "execute_result"
    }
   ],
   "source": [
    "list2"
   ]
  },
  {
   "cell_type": "code",
   "execution_count": 138,
   "id": "00e1980c-7e1d-439e-99ba-c3863298afb7",
   "metadata": {},
   "outputs": [
    {
     "data": {
      "text/plain": [
       "41"
      ]
     },
     "execution_count": 138,
     "metadata": {},
     "output_type": "execute_result"
    }
   ],
   "source": [
    "list2.pop() # used to remove last element of lists"
   ]
  },
  {
   "cell_type": "code",
   "execution_count": 140,
   "id": "626a4ff8-79b2-4f84-9a27-b049b8aa8b48",
   "metadata": {},
   "outputs": [
    {
     "data": {
      "text/plain": [
       "[50, 50, 2, 10, 15, 17, 31]"
      ]
     },
     "execution_count": 140,
     "metadata": {},
     "output_type": "execute_result"
    }
   ],
   "source": [
    "list2"
   ]
  },
  {
   "cell_type": "code",
   "execution_count": 158,
   "id": "5d9e14ed-14bb-45bf-89ca-d16e6bb72e31",
   "metadata": {},
   "outputs": [],
   "source": [
    "list2.append(100) # Add a single element at last of the List"
   ]
  },
  {
   "cell_type": "code",
   "execution_count": 160,
   "id": "6c3e0fd3-2ccc-418a-bbcc-5a51b02bbf91",
   "metadata": {},
   "outputs": [
    {
     "data": {
      "text/plain": [
       "[50, 50, 2, 10, 15, 17, 31, 100]"
      ]
     },
     "execution_count": 160,
     "metadata": {},
     "output_type": "execute_result"
    }
   ],
   "source": [
    "list2"
   ]
  },
  {
   "cell_type": "code",
   "execution_count": 162,
   "id": "73534864-606f-45d0-bf4d-915d6e96d5fa",
   "metadata": {},
   "outputs": [],
   "source": [
    "list2.extend([200,400,600])"
   ]
  },
  {
   "cell_type": "code",
   "execution_count": 166,
   "id": "6bdd152a-b198-4985-876f-b0994b56f04a",
   "metadata": {},
   "outputs": [
    {
     "data": {
      "text/plain": [
       "[50, 50, 2, 10, 15, 17, 31, 100, 200, 400, 600]"
      ]
     },
     "execution_count": 166,
     "metadata": {},
     "output_type": "execute_result"
    }
   ],
   "source": [
    "list2 # Add multiple element at last of the List"
   ]
  },
  {
   "cell_type": "code",
   "execution_count": 174,
   "id": "2648f72d-70a3-4fa4-84b1-71fa64eae2ad",
   "metadata": {},
   "outputs": [],
   "source": [
    "list2.remove(400) # used to remove any desired element"
   ]
  },
  {
   "cell_type": "code",
   "execution_count": 176,
   "id": "db7eee59-7d7f-4f8c-9dc9-2881d0cd6f44",
   "metadata": {},
   "outputs": [
    {
     "data": {
      "text/plain": [
       "[50, 50, 2, 10, 15, 17, 31, 100, 200]"
      ]
     },
     "execution_count": 176,
     "metadata": {},
     "output_type": "execute_result"
    }
   ],
   "source": [
    "list2"
   ]
  },
  {
   "cell_type": "markdown",
   "id": "b504a335-d594-40d0-abc4-df5f0a7604e1",
   "metadata": {},
   "source": [
    "## Practice on Nested List"
   ]
  },
  {
   "cell_type": "code",
   "execution_count": 198,
   "id": "e032ce52-fe9a-4ba9-907f-914b9527ffcb",
   "metadata": {},
   "outputs": [],
   "source": [
    "list3 = [0, 1, [2], [3, 4, [ [4], [8], 12] ] ]"
   ]
  },
  {
   "cell_type": "code",
   "execution_count": 200,
   "id": "c5573c7e-8d12-479d-b2b5-87c752ea7958",
   "metadata": {},
   "outputs": [
    {
     "data": {
      "text/plain": [
       "[8]"
      ]
     },
     "execution_count": 200,
     "metadata": {},
     "output_type": "execute_result"
    }
   ],
   "source": [
    "list3[3][2][1]"
   ]
  },
  {
   "cell_type": "code",
   "execution_count": 202,
   "id": "7f333f2a-5062-4b6d-b66c-d725da51489e",
   "metadata": {},
   "outputs": [],
   "source": [
    "list3[3][2][1] = \"BHAVIK\""
   ]
  },
  {
   "cell_type": "code",
   "execution_count": 204,
   "id": "c69022bb-f805-4593-88f5-0d3936d266a7",
   "metadata": {},
   "outputs": [
    {
     "data": {
      "text/plain": [
       "[0, 1, [2], [3, 4, [[4], 'BHAVIK', 12]]]"
      ]
     },
     "execution_count": 204,
     "metadata": {},
     "output_type": "execute_result"
    }
   ],
   "source": [
    "list3"
   ]
  },
  {
   "cell_type": "code",
   "execution_count": 206,
   "id": "7ecc89fd-cca2-4932-8a3c-24765293a9b2",
   "metadata": {},
   "outputs": [],
   "source": [
    "list3[3][2].remove(12)"
   ]
  },
  {
   "cell_type": "code",
   "execution_count": 208,
   "id": "0712245e-a57b-4859-86d5-fc3583ee9210",
   "metadata": {},
   "outputs": [
    {
     "data": {
      "text/plain": [
       "[0, 1, [2], [3, 4, [[4], 'BHAVIK']]]"
      ]
     },
     "execution_count": 208,
     "metadata": {},
     "output_type": "execute_result"
    }
   ],
   "source": [
    "list3"
   ]
  },
  {
   "cell_type": "code",
   "execution_count": 210,
   "id": "901bcb9e-3fd7-40e0-8ccc-1f095e5f8e58",
   "metadata": {},
   "outputs": [
    {
     "data": {
      "text/plain": [
       "[3, 4, [[4], 'BHAVIK']]"
      ]
     },
     "execution_count": 210,
     "metadata": {},
     "output_type": "execute_result"
    }
   ],
   "source": [
    "list3.pop()"
   ]
  },
  {
   "cell_type": "code",
   "execution_count": 212,
   "id": "7fb38459-54c0-40ec-9b13-02d04e6dcf28",
   "metadata": {},
   "outputs": [
    {
     "data": {
      "text/plain": [
       "[0, 1, [2]]"
      ]
     },
     "execution_count": 212,
     "metadata": {},
     "output_type": "execute_result"
    }
   ],
   "source": [
    "list3"
   ]
  },
  {
   "cell_type": "code",
   "execution_count": 214,
   "id": "deea2707-9b1b-49de-9295-431f397d5094",
   "metadata": {},
   "outputs": [],
   "source": [
    "list3.extend([12, [[14], [16, [18], [20] ]]])"
   ]
  },
  {
   "cell_type": "code",
   "execution_count": 216,
   "id": "bd1b7dd4-c29c-4aff-a9d6-118b08c430e6",
   "metadata": {},
   "outputs": [
    {
     "data": {
      "text/plain": [
       "[0, 1, [2], 12, [[14], [16, [18], [20]]]]"
      ]
     },
     "execution_count": 216,
     "metadata": {},
     "output_type": "execute_result"
    }
   ],
   "source": [
    "list3"
   ]
  },
  {
   "cell_type": "code",
   "execution_count": 218,
   "id": "8b96f516-dec1-47aa-bcf1-15aa177b4d1b",
   "metadata": {},
   "outputs": [],
   "source": [
    "list3.append(22)"
   ]
  },
  {
   "cell_type": "code",
   "execution_count": 220,
   "id": "a27ca453-63c1-4091-be79-fd3d84cbcfd4",
   "metadata": {},
   "outputs": [
    {
     "data": {
      "text/plain": [
       "[0, 1, [2], 12, [[14], [16, [18], [20]]], 22]"
      ]
     },
     "execution_count": 220,
     "metadata": {},
     "output_type": "execute_result"
    }
   ],
   "source": [
    "list3"
   ]
  },
  {
   "cell_type": "markdown",
   "id": "b7e62510-cf0f-47bf-879c-a614677b2c3e",
   "metadata": {},
   "source": [
    " ### Merging two lists"
   ]
  },
  {
   "cell_type": "code",
   "execution_count": 280,
   "id": "20c27ba3-941b-4f96-8ec8-5e94e01e7e41",
   "metadata": {},
   "outputs": [],
   "source": [
    "list_one = [12, 14, 16, 18]"
   ]
  },
  {
   "cell_type": "code",
   "execution_count": 282,
   "id": "b72aa8bc-3888-4d87-aed2-07710a68d77f",
   "metadata": {},
   "outputs": [],
   "source": [
    "list_two = [20, 22, 24, 26]"
   ]
  },
  {
   "cell_type": "code",
   "execution_count": 284,
   "id": "14360e5b-60b4-4b5c-a555-e1511d34c585",
   "metadata": {},
   "outputs": [],
   "source": [
    "list_three = list_one + list_two"
   ]
  },
  {
   "cell_type": "code",
   "execution_count": 286,
   "id": "a3b93b41-5ed7-4861-ac82-6fe576e6744a",
   "metadata": {},
   "outputs": [
    {
     "data": {
      "text/plain": [
       "[12, 14, 16, 18, 20, 22, 24, 26]"
      ]
     },
     "execution_count": 286,
     "metadata": {},
     "output_type": "execute_result"
    }
   ],
   "source": [
    "list_three"
   ]
  },
  {
   "cell_type": "markdown",
   "id": "a816d776-5b97-42f9-85bf-e0671775a008",
   "metadata": {},
   "source": [
    "## Merging second list in first list using extend"
   ]
  },
  {
   "cell_type": "code",
   "execution_count": 289,
   "id": "f02b1a58-fb3f-4a68-9c8e-76a9d126cbe8",
   "metadata": {},
   "outputs": [],
   "source": [
    "list_one.extend(list_two)"
   ]
  },
  {
   "cell_type": "code",
   "execution_count": 291,
   "id": "7c01dc7f-db4e-4e62-913f-7a7df16c2a52",
   "metadata": {},
   "outputs": [
    {
     "data": {
      "text/plain": [
       "[12, 14, 16, 18, 20, 22, 24, 26]"
      ]
     },
     "execution_count": 291,
     "metadata": {},
     "output_type": "execute_result"
    }
   ],
   "source": [
    "list_one"
   ]
  },
  {
   "cell_type": "markdown",
   "id": "c8f35ff9-e49e-409b-83d7-3cccea1097f0",
   "metadata": {},
   "source": [
    "## Merging first List in Second list using extend"
   ]
  },
  {
   "cell_type": "code",
   "execution_count": 301,
   "id": "588df544-0b88-4009-a36a-6611d7607a70",
   "metadata": {},
   "outputs": [],
   "source": [
    "list_two.extend(list_one)"
   ]
  },
  {
   "cell_type": "code",
   "execution_count": 303,
   "id": "1cc8e784-33a6-4468-9abb-05ed152a7699",
   "metadata": {},
   "outputs": [
    {
     "data": {
      "text/plain": [
       "[20,\n",
       " 22,\n",
       " 24,\n",
       " 26,\n",
       " [12, 14, 16, 18, 20, 22, 24, 26],\n",
       " 12,\n",
       " 14,\n",
       " 16,\n",
       " 18,\n",
       " 20,\n",
       " 22,\n",
       " 24,\n",
       " 26]"
      ]
     },
     "execution_count": 303,
     "metadata": {},
     "output_type": "execute_result"
    }
   ],
   "source": [
    "list_two"
   ]
  },
  {
   "cell_type": "code",
   "execution_count": 305,
   "id": "ce47cbe0-a965-45af-9d52-93eccff14400",
   "metadata": {},
   "outputs": [
    {
     "data": {
      "text/plain": [
       "[12, 14, 16, 18, 20, 22, 24, 26]"
      ]
     },
     "execution_count": 305,
     "metadata": {},
     "output_type": "execute_result"
    }
   ],
   "source": [
    "list_one"
   ]
  },
  {
   "cell_type": "code",
   "execution_count": 307,
   "id": "63a106d1-7703-40ab-ba33-185b2dc10b9c",
   "metadata": {},
   "outputs": [],
   "source": [
    "list4 = []"
   ]
  },
  {
   "cell_type": "code",
   "execution_count": 309,
   "id": "9357fea3-fbf2-47ca-ad18-45106c85dc23",
   "metadata": {},
   "outputs": [
    {
     "ename": "TypeError",
     "evalue": "list.extend() takes exactly one argument (2 given)",
     "output_type": "error",
     "traceback": [
      "\u001b[1;31m---------------------------------------------------------------------------\u001b[0m",
      "\u001b[1;31mTypeError\u001b[0m                                 Traceback (most recent call last)",
      "Cell \u001b[1;32mIn[309], line 1\u001b[0m\n\u001b[1;32m----> 1\u001b[0m list4\u001b[38;5;241m.\u001b[39mextend(list1, list2)\n",
      "\u001b[1;31mTypeError\u001b[0m: list.extend() takes exactly one argument (2 given)"
     ]
    }
   ],
   "source": [
    "list4.extend(list1, list2)"
   ]
  },
  {
   "cell_type": "code",
   "execution_count": 313,
   "id": "c75f5afd-6607-429c-bfb2-bf338202dc3f",
   "metadata": {},
   "outputs": [],
   "source": [
    "list4.extend([[list1], [list2]])"
   ]
  },
  {
   "cell_type": "code",
   "execution_count": 315,
   "id": "e21f96c9-e1eb-4768-905a-e27f10801b29",
   "metadata": {},
   "outputs": [
    {
     "data": {
      "text/plain": [
       "[[[False, 3.4, 5, 2]], [[50, 50, 2, 10, 15, 17, 31, 100, 200]]]"
      ]
     },
     "execution_count": 315,
     "metadata": {},
     "output_type": "execute_result"
    }
   ],
   "source": [
    "list4"
   ]
  },
  {
   "cell_type": "code",
   "execution_count": 317,
   "id": "8a952e6f-e1b7-4940-8b4b-41a2f92308a4",
   "metadata": {},
   "outputs": [],
   "source": [
    "list5 = []"
   ]
  },
  {
   "cell_type": "code",
   "execution_count": 319,
   "id": "83e553da-b3aa-4878-9c6e-c642811a1624",
   "metadata": {},
   "outputs": [],
   "source": [
    "list5.extend([list1,list2])"
   ]
  },
  {
   "cell_type": "code",
   "execution_count": 321,
   "id": "2992ee86-c832-4df9-baf2-4e080c5fbd36",
   "metadata": {},
   "outputs": [
    {
     "data": {
      "text/plain": [
       "[[False, 3.4, 5, 2], [50, 50, 2, 10, 15, 17, 31, 100, 200]]"
      ]
     },
     "execution_count": 321,
     "metadata": {},
     "output_type": "execute_result"
    }
   ],
   "source": [
    "list5"
   ]
  },
  {
   "cell_type": "code",
   "execution_count": 328,
   "id": "7114c46d-59f7-4e44-a38a-71e52666f2f9",
   "metadata": {},
   "outputs": [
    {
     "data": {
      "text/plain": [
       "<function list.clear()>"
      ]
     },
     "execution_count": 328,
     "metadata": {},
     "output_type": "execute_result"
    }
   ],
   "source": [
    "list1.clear # Used to remove all elements of the List"
   ]
  },
  {
   "cell_type": "code",
   "execution_count": 330,
   "id": "b4a56395-e524-4381-a8db-553f6175f116",
   "metadata": {},
   "outputs": [],
   "source": [
    "list2.clear()"
   ]
  }
 ],
 "metadata": {
  "kernelspec": {
   "display_name": "Python 3 (ipykernel)",
   "language": "python",
   "name": "python3"
  },
  "language_info": {
   "codemirror_mode": {
    "name": "ipython",
    "version": 3
   },
   "file_extension": ".py",
   "mimetype": "text/x-python",
   "name": "python",
   "nbconvert_exporter": "python",
   "pygments_lexer": "ipython3",
   "version": "3.12.4"
  }
 },
 "nbformat": 4,
 "nbformat_minor": 5
}
