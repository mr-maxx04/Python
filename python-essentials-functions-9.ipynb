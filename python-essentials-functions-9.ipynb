{
 "cells": [
  {
   "cell_type": "markdown",
   "id": "52a93281-c1b3-4be1-ae57-b99b016989fd",
   "metadata": {},
   "source": [
    "# Functions"
   ]
  },
  {
   "cell_type": "code",
   "execution_count": 66,
   "id": "3aa2289d-eb3d-44ca-b14f-83dd88c5f810",
   "metadata": {},
   "outputs": [],
   "source": [
    "info = { \"Name\" : \"Bhavik\", \"Id\": 1, \"country\": \"India\"}"
   ]
  },
  {
   "cell_type": "code",
   "execution_count": 80,
   "id": "a92b24f4-1889-458d-b121-4e70cfecd7c1",
   "metadata": {},
   "outputs": [],
   "source": [
    "def details(Name, Id, country):\n",
    "    for i in info:\n",
    "        print(i.keys, info.values)"
   ]
  },
  {
   "cell_type": "code",
   "execution_count": 82,
   "id": "8ebcc879-d6ff-4fb3-ad33-e0b84f5804ab",
   "metadata": {},
   "outputs": [
    {
     "name": "stdout",
     "output_type": "stream",
     "text": [
      "<built-in method keys of dict object at 0x000001FBAA42FB80> <built-in method values of dict object at 0x000001FBAA42FB80>\n",
      "<built-in method keys of dict object at 0x000001FBAA42FB80> <built-in method values of dict object at 0x000001FBAA42FB80>\n",
      "<built-in method keys of dict object at 0x000001FBAA42FB80> <built-in method values of dict object at 0x000001FBAA42FB80>\n"
     ]
    }
   ],
   "source": [
    "details(\"Bhavik\", 22, \"India\")"
   ]
  },
  {
   "cell_type": "code",
   "execution_count": 24,
   "id": "b2fd2d9a-0c80-46ff-90bc-3000a51f690b",
   "metadata": {},
   "outputs": [],
   "source": [
    "list1 = []\n",
    "even_list = []\n",
    "odd_list = []"
   ]
  },
  {
   "cell_type": "code",
   "execution_count": 28,
   "id": "7070575f-1cfc-4f0d-81fc-e4454b602180",
   "metadata": {},
   "outputs": [],
   "source": [
    "for i in range(50):\n",
    "    list1.append(i)"
   ]
  },
  {
   "cell_type": "code",
   "execution_count": 32,
   "id": "63ce137e-3603-40d0-8543-4b01c8fe68c0",
   "metadata": {},
   "outputs": [
    {
     "name": "stdout",
     "output_type": "stream",
     "text": [
      "[0, 2, 4, 6, 8, 10, 12, 14, 16, 18, 20, 22, 24, 26, 28, 30, 32, 34, 36, 38, 40, 42, 44, 46, 48]\n",
      "[1, 3, 5, 7, 9, 11, 13, 15, 17, 19, 21, 23, 25, 27, 29, 31, 33, 35, 37, 39, 41, 43, 45, 47, 49]\n"
     ]
    }
   ],
   "source": [
    "for i in range(50):\n",
    "    if i % 2 == 0:\n",
    "        even_list.append(i)\n",
    "\n",
    "    else:\n",
    "        odd_list.append(i)\n",
    "\n",
    "print(even_list)\n",
    "print(odd_list)"
   ]
  },
  {
   "cell_type": "code",
   "execution_count": 88,
   "id": "25f289d2-cfe3-43f1-8a4b-376b4f707518",
   "metadata": {},
   "outputs": [],
   "source": [
    "for i in range(50):\n",
    "    list1.append(i)"
   ]
  },
  {
   "cell_type": "code",
   "execution_count": 90,
   "id": "95dc8f5a-2615-46bd-abff-84b3e17440f8",
   "metadata": {},
   "outputs": [],
   "source": [
    "def even(list1):\n",
    "    for i in list1:\n",
    "        if i % 2 == 0:\n",
    "           print(i)"
   ]
  },
  {
   "cell_type": "code",
   "execution_count": 92,
   "id": "89b44c8b-481a-4e18-9251-9116ef81100d",
   "metadata": {},
   "outputs": [],
   "source": [
    "def odd(list1):\n",
    "    for i in list1:\n",
    "        if i % 2 != 0:\n",
    "            print(i)"
   ]
  },
  {
   "cell_type": "code",
   "execution_count": 94,
   "id": "9b6162f4-f937-4af3-9647-382b3f827556",
   "metadata": {},
   "outputs": [
    {
     "name": "stdout",
     "output_type": "stream",
     "text": [
      "0\n",
      "2\n",
      "4\n",
      "6\n",
      "8\n",
      "10\n",
      "12\n",
      "14\n",
      "16\n",
      "18\n",
      "20\n",
      "22\n",
      "24\n",
      "26\n",
      "28\n",
      "30\n",
      "32\n",
      "34\n",
      "36\n",
      "38\n",
      "40\n",
      "42\n",
      "44\n",
      "46\n",
      "48\n",
      "0\n",
      "2\n",
      "4\n",
      "6\n",
      "8\n",
      "10\n",
      "12\n",
      "14\n",
      "16\n",
      "18\n",
      "20\n",
      "22\n",
      "24\n",
      "26\n",
      "28\n",
      "30\n",
      "32\n",
      "34\n",
      "36\n",
      "38\n",
      "40\n",
      "42\n",
      "44\n",
      "46\n",
      "48\n"
     ]
    }
   ],
   "source": [
    "even(list1)"
   ]
  },
  {
   "cell_type": "code",
   "execution_count": 96,
   "id": "7fc1dc51-5816-49d9-9c6a-fe93e44802be",
   "metadata": {},
   "outputs": [
    {
     "name": "stdin",
     "output_type": "stream",
     "text": [
      "Enter any number or name malayalam\n"
     ]
    },
    {
     "name": "stdout",
     "output_type": "stream",
     "text": [
      "It's a palindrome Number\n"
     ]
    }
   ],
   "source": [
    "value = input(\"Enter any number or name\").lower()\n",
    "def palindrome(number):\n",
    "    if value == value[::-1]:\n",
    "        print(\"It's a palindrome Number\")\n",
    "\n",
    "    else:\n",
    "        print(\"It's not a palindrome Number\")\n",
    "\n",
    "palindrome(value)"
   ]
  },
  {
   "cell_type": "code",
   "execution_count": 98,
   "id": "3cca5c52-0d2a-4490-ad89-e55a3fe0f51d",
   "metadata": {},
   "outputs": [
    {
     "data": {
      "text/plain": [
       "0"
      ]
     },
     "execution_count": 98,
     "metadata": {},
     "output_type": "execute_result"
    }
   ],
   "source": [
    "min(list1)"
   ]
  },
  {
   "cell_type": "code",
   "execution_count": 108,
   "id": "771df4b2-b1a2-4a9a-b835-3d38fe637804",
   "metadata": {},
   "outputs": [
    {
     "data": {
      "text/plain": [
       "[0,\n",
       " 1,\n",
       " 2,\n",
       " 3,\n",
       " 4,\n",
       " 5,\n",
       " 6,\n",
       " 7,\n",
       " 8,\n",
       " 9,\n",
       " 10,\n",
       " 11,\n",
       " 12,\n",
       " 13,\n",
       " 14,\n",
       " 15,\n",
       " 16,\n",
       " 17,\n",
       " 18,\n",
       " 19,\n",
       " 20,\n",
       " 21,\n",
       " 22,\n",
       " 23,\n",
       " 24,\n",
       " 25,\n",
       " 26,\n",
       " 27,\n",
       " 28,\n",
       " 29,\n",
       " 30,\n",
       " 31,\n",
       " 32,\n",
       " 33,\n",
       " 34,\n",
       " 35,\n",
       " 36,\n",
       " 37,\n",
       " 38,\n",
       " 39,\n",
       " 40,\n",
       " 41,\n",
       " 42,\n",
       " 43,\n",
       " 44,\n",
       " 45,\n",
       " 46,\n",
       " 47,\n",
       " 48,\n",
       " 49,\n",
       " 0,\n",
       " 1,\n",
       " 2,\n",
       " 3,\n",
       " 4,\n",
       " 5,\n",
       " 6,\n",
       " 7,\n",
       " 8,\n",
       " 9,\n",
       " 10,\n",
       " 11,\n",
       " 12,\n",
       " 13,\n",
       " 14,\n",
       " 15,\n",
       " 16,\n",
       " 17,\n",
       " 18,\n",
       " 19,\n",
       " 20,\n",
       " 21,\n",
       " 22,\n",
       " 23,\n",
       " 24,\n",
       " 25,\n",
       " 26,\n",
       " 27,\n",
       " 28,\n",
       " 29,\n",
       " 30,\n",
       " 31,\n",
       " 32,\n",
       " 33,\n",
       " 34,\n",
       " 35,\n",
       " 36,\n",
       " 37,\n",
       " 38,\n",
       " 39,\n",
       " 40,\n",
       " 41,\n",
       " 42,\n",
       " 43,\n",
       " 44,\n",
       " 45,\n",
       " 46,\n",
       " 47,\n",
       " 48,\n",
       " 49]"
      ]
     },
     "execution_count": 108,
     "metadata": {},
     "output_type": "execute_result"
    }
   ],
   "source": [
    "list1"
   ]
  },
  {
   "cell_type": "code",
   "execution_count": 128,
   "id": "e3377916-7a64-4a3d-aef8-37e0a1147e5e",
   "metadata": {},
   "outputs": [],
   "source": [
    "list4 = []"
   ]
  },
  {
   "cell_type": "code",
   "execution_count": 130,
   "id": "3667bf52-ab88-4536-a57e-ef3328c257b3",
   "metadata": {},
   "outputs": [],
   "source": [
    "for i in range(50):\n",
    "    list4.append(i)"
   ]
  },
  {
   "cell_type": "code",
   "execution_count": 132,
   "id": "7fd7580e-669d-4015-98d1-aaebbd588cc2",
   "metadata": {},
   "outputs": [],
   "source": [
    "def even(list4):\n",
    "    list5 = []\n",
    "    list6 = []\n",
    "    for i in list1:\n",
    "        if i % 2 == 0:\n",
    "            list5.append(i)\n",
    "        else:\n",
    "            list6.append(i)\n",
    "    print(\"Even Numbers are : \", list5)\n",
    "    print(\"Odd Numbers are : \", list6)"
   ]
  },
  {
   "cell_type": "code",
   "execution_count": 134,
   "id": "fd103e3e-52f9-4e87-90b1-3633b5f6f53b",
   "metadata": {},
   "outputs": [
    {
     "name": "stdout",
     "output_type": "stream",
     "text": [
      "Even Numbers are :  [0, 2, 4, 6, 8, 10, 12, 14, 16, 18, 20, 22, 24, 26, 28, 30, 32, 34, 36, 38, 40, 42, 44, 46, 48, 0, 2, 4, 6, 8, 10, 12, 14, 16, 18, 20, 22, 24, 26, 28, 30, 32, 34, 36, 38, 40, 42, 44, 46, 48]\n",
      "Odd Numbers are :  [1, 3, 5, 7, 9, 11, 13, 15, 17, 19, 21, 23, 25, 27, 29, 31, 33, 35, 37, 39, 41, 43, 45, 47, 49, 1, 3, 5, 7, 9, 11, 13, 15, 17, 19, 21, 23, 25, 27, 29, 31, 33, 35, 37, 39, 41, 43, 45, 47, 49]\n"
     ]
    }
   ],
   "source": [
    "even(list4)"
   ]
  }
 ],
 "metadata": {
  "kernelspec": {
   "display_name": "Python 3 (ipykernel)",
   "language": "python",
   "name": "python3"
  },
  "language_info": {
   "codemirror_mode": {
    "name": "ipython",
    "version": 3
   },
   "file_extension": ".py",
   "mimetype": "text/x-python",
   "name": "python",
   "nbconvert_exporter": "python",
   "pygments_lexer": "ipython3",
   "version": "3.12.4"
  }
 },
 "nbformat": 4,
 "nbformat_minor": 5
}
