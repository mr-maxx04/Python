{
 "cells": [
  {
   "cell_type": "code",
   "execution_count": 1,
   "id": "e7841b4d-9e76-430b-8e48-b1a940676bf0",
   "metadata": {},
   "outputs": [],
   "source": [
    "a = [\"bangalore\", \"mumbai\", \"pune\", \"Ahmedabad\"]"
   ]
  },
  {
   "cell_type": "code",
   "execution_count": 11,
   "id": "37ef4036-fc59-4629-a052-19074b016400",
   "metadata": {},
   "outputs": [
    {
     "name": "stdout",
     "output_type": "stream",
     "text": [
      "bangalore\n"
     ]
    }
   ],
   "source": [
    "for i in a:\n",
    "    if i == \"mumbai\":\n",
    "        break\n",
    "    print(i)"
   ]
  },
  {
   "cell_type": "code",
   "execution_count": 15,
   "id": "c2a60a74-f9aa-40b7-9355-e6f242ea96fc",
   "metadata": {},
   "outputs": [
    {
     "name": "stdout",
     "output_type": "stream",
     "text": [
      "bangalore\n"
     ]
    }
   ],
   "source": [
    "for i in range(len(a)):\n",
    "    if a[i] == \"mumbai\":\n",
    "        break\n",
    "    print(a[i])"
   ]
  },
  {
   "cell_type": "code",
   "execution_count": 35,
   "id": "38a16fc9-a0c3-48eb-b45c-4bda5c4909fb",
   "metadata": {},
   "outputs": [
    {
     "name": "stdout",
     "output_type": "stream",
     "text": [
      "Ahmedabad\n"
     ]
    }
   ],
   "source": [
    "for i in a:\n",
    "    if i == \"Ahmedabad\":\n",
    "        print(i)"
   ]
  },
  {
   "cell_type": "code",
   "execution_count": null,
   "id": "86ee3f63-a426-4c32-9503-916f266bcc2c",
   "metadata": {},
   "outputs": [],
   "source": []
  }
 ],
 "metadata": {
  "kernelspec": {
   "display_name": "Python 3 (ipykernel)",
   "language": "python",
   "name": "python3"
  },
  "language_info": {
   "codemirror_mode": {
    "name": "ipython",
    "version": 3
   },
   "file_extension": ".py",
   "mimetype": "text/x-python",
   "name": "python",
   "nbconvert_exporter": "python",
   "pygments_lexer": "ipython3",
   "version": "3.12.4"
  }
 },
 "nbformat": 4,
 "nbformat_minor": 5
}
