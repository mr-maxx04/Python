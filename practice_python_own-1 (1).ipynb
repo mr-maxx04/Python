{
 "cells": [
  {
   "cell_type": "markdown",
   "id": "cd5627b1-d804-4be2-b26a-639a6adac6a0",
   "metadata": {},
   "source": [
    "## / is used for starting a code from next line but in output it will just shown on single line, just in input we are writing it from next line"
   ]
  },
  {
   "cell_type": "code",
   "execution_count": 7,
   "id": "21313ede-2501-4eb7-8ac2-2328b5028a14",
   "metadata": {},
   "outputs": [
    {
     "data": {
      "text/plain": [
       "' I am Iron Man I am Thor I am captain America'"
      ]
     },
     "execution_count": 7,
     "metadata": {},
     "output_type": "execute_result"
    }
   ],
   "source": [
    "\"\"\" I am Iron Man \\\n",
    "I am Thor \\\n",
    "I am captain America\"\"\""
   ]
  },
  {
   "cell_type": "markdown",
   "id": "293baef7-c630-4894-939c-a45b9de3c56c",
   "metadata": {},
   "source": [
    "# Comments"
   ]
  },
  {
   "cell_type": "markdown",
   "id": "ae6126d5-22b0-4ec1-8f83-be10b1a0747d",
   "metadata": {},
   "source": [
    "* Single Line Comments"
   ]
  },
  {
   "cell_type": "code",
   "execution_count": 17,
   "id": "5565f5eb-e756-4e0e-ac61-0ebcc39a11ff",
   "metadata": {},
   "outputs": [],
   "source": [
    "a = 10 # Created a variable named 'a'"
   ]
  },
  {
   "cell_type": "markdown",
   "id": "0b13d00f-b484-46d5-8502-23376d09751b",
   "metadata": {},
   "source": [
    "* Multi Line Comment"
   ]
  },
  {
   "cell_type": "code",
   "execution_count": 38,
   "id": "1fe4ae7f-86db-4db6-a46e-31436ec21c1d",
   "metadata": {},
   "outputs": [],
   "source": [
    "b = 20\n",
    "c = 30\n",
    "d = 40"
   ]
  },
  {
   "cell_type": "code",
   "execution_count": 36,
   "id": "045e35b1-712a-4426-8ad9-3bdf31751223",
   "metadata": {},
   "outputs": [
    {
     "data": {
      "text/plain": [
       "' Once upon a time, in the land of Algebra, there lived three variables named X, Y, and Z. They were not just any variables, but rather, they were best friends, always intertwined in complex equations, their values constantly shifting depending on the situation.\\nX, the independent one, was the leader of the group, always setting the pace and dictating the direction of their journey. Y, the dependent variable, followed closely behind, her value always changing in response to X\\'s actions. And then there was Z, the \"wild card,\" sometimes impacting the equation significantly, sometimes barely noticeable, depending on the problem at hand.\\nOne day, they were tasked with solving a particularly tricky equation, where their values needed to perfectly balance to reach the solution. X, being the confident one, confidently started to manipulate the equation, but quickly realized that Y and Z were not behaving as expected.\\n\"What\\'s going on?\" X exclaimed, \"I\\'m changing my value, but Y isn\\'t reacting the way it should!\"\\n\"It\\'s Z,\" Y replied, \"He\\'s throwing off the balance with his unpredictable changes!\"\\nZ, always a bit mysterious, simply shrugged and said, \"I\\'m just doing what I do, exploring the possibilities.\"\\nThe three variables were stuck, their values clashing, and the equation seemed unsolvable. X tried to force his solution, Y tried to adapt, but Z\\'s erratic behavior kept throwing them off. They were on the verge of giving up, until Y had a brilliant idea.\\n\"What if we work together, not against each other?\" she suggested, \"We can use our unique characteristics to find a solution that works for all of us!\"\\nAnd that\\'s exactly what they did. X carefully adjusted his value, Y responded accordingly, and Z, instead of causing chaos, became a subtle influencer, guiding the equation towards the answer.\\nFinally, after much collaboration, they managed to solve the complex equation, proving that even the most unpredictable variables could work together to achieve a perfect solution.\\nFrom that day on, X, Y, and Z continued their journey through the world of mathematics, always reminding each other that the key to success was not just individual strength, but the power of collaboration, no matter how different their values might be. '"
      ]
     },
     "execution_count": 36,
     "metadata": {},
     "output_type": "execute_result"
    }
   ],
   "source": [
    "\"\"\" Once upon a time, in the land of Algebra, there lived three variables named X, Y, and Z. They were not just any variables, but rather, they were best friends, always intertwined in complex equations, their values constantly shifting depending on the situation.\n",
    "X, the independent one, was the leader of the group, always setting the pace and dictating the direction of their journey. Y, the dependent variable, followed closely behind, her value always changing in response to X's actions. And then there was Z, the \"wild card,\" sometimes impacting the equation significantly, sometimes barely noticeable, depending on the problem at hand.\n",
    "One day, they were tasked with solving a particularly tricky equation, where their values needed to perfectly balance to reach the solution. X, being the confident one, confidently started to manipulate the equation, but quickly realized that Y and Z were not behaving as expected.\n",
    "\"What's going on?\" X exclaimed, \"I'm changing my value, but Y isn't reacting the way it should!\"\n",
    "\"It's Z,\" Y replied, \"He's throwing off the balance with his unpredictable changes!\"\n",
    "Z, always a bit mysterious, simply shrugged and said, \"I'm just doing what I do, exploring the possibilities.\"\n",
    "The three variables were stuck, their values clashing, and the equation seemed unsolvable. X tried to force his solution, Y tried to adapt, but Z's erratic behavior kept throwing them off. They were on the verge of giving up, until Y had a brilliant idea.\n",
    "\"What if we work together, not against each other?\" she suggested, \"We can use our unique characteristics to find a solution that works for all of us!\"\n",
    "And that's exactly what they did. X carefully adjusted his value, Y responded accordingly, and Z, instead of causing chaos, became a subtle influencer, guiding the equation towards the answer.\n",
    "Finally, after much collaboration, they managed to solve the complex equation, proving that even the most unpredictable variables could work together to achieve a perfect solution.\n",
    "From that day on, X, Y, and Z continued their journey through the world of mathematics, always reminding each other that the key to success was not just individual strength, but the power of collaboration, no matter how different their values might be. \"\"\""
   ]
  },
  {
   "cell_type": "markdown",
   "id": "133fb69a-1ee0-4be4-9dc8-c446ccacf1d1",
   "metadata": {},
   "source": [
    "## nested if condition"
   ]
  },
  {
   "cell_type": "code",
   "execution_count": 15,
   "id": "5f4bc9b1-da65-4983-8f99-9a0c18ed7881",
   "metadata": {},
   "outputs": [
    {
     "name": "stdin",
     "output_type": "stream",
     "text": [
      "Enter first number 23\n",
      "Enter second number 12\n"
     ]
    },
    {
     "name": "stdout",
     "output_type": "stream",
     "text": [
      "Difference is of  11\n",
      "num2 is 276 times bigger\n"
     ]
    }
   ],
   "source": [
    "num1 = int(input(\"Enter first number\"))\n",
    "num2 = int(input(\"Enter second number\"))\n",
    "if num1 > num2 :\n",
    "    if num1 - num2 >= 1:\n",
    "        print(\"Difference is of \", num1 - num2)\n",
    "        if num1 * num2 >= 10:\n",
    "                print(\"num2 is\", num1 * num2 , \"times bigger\")\n",
    "        if num1 % num2 == 0:\n",
    "            print(\"num2 is perfect divisor of num1\")\n",
    "            \n",
    "else:\n",
    "    print(\"num2 is bigger\")"
   ]
  },
  {
   "cell_type": "markdown",
   "id": "9689204d-bada-4a4d-8179-d65c98220948",
   "metadata": {},
   "source": [
    "## Practice of String Slicing"
   ]
  },
  {
   "cell_type": "code",
   "execution_count": 122,
   "id": "41346c65-87c7-4a3b-82b2-11bbc39525ee",
   "metadata": {},
   "outputs": [],
   "source": [
    "first_str = \"Software Engineer here\""
   ]
  },
  {
   "cell_type": "code",
   "execution_count": 124,
   "id": "da55bb19-3d16-4d27-bd20-e03cf527bcb9",
   "metadata": {},
   "outputs": [
    {
     "data": {
      "text/plain": [
       "22"
      ]
     },
     "execution_count": 124,
     "metadata": {},
     "output_type": "execute_result"
    }
   ],
   "source": [
    "len(first_str)"
   ]
  },
  {
   "cell_type": "code",
   "execution_count": 126,
   "id": "13566a92-67a2-4cae-875a-e3d8fbfe8ce1",
   "metadata": {},
   "outputs": [
    {
     "data": {
      "text/plain": [
       "'ignE e'"
      ]
     },
     "execution_count": 126,
     "metadata": {},
     "output_type": "execute_result"
    }
   ],
   "source": [
    "first_str[12:6:-1]"
   ]
  },
  {
   "cell_type": "code",
   "execution_count": null,
   "id": "ed7d5c5d-75a0-4dfa-a85b-c068ee8606b2",
   "metadata": {},
   "outputs": [],
   "source": [
    "first_str[]"
   ]
  },
  {
   "cell_type": "code",
   "execution_count": 157,
   "id": "c42f0634-99f5-4b39-b030-1140d39acddc",
   "metadata": {},
   "outputs": [],
   "source": [
    "first_split = first_str.split()[0:3]"
   ]
  },
  {
   "cell_type": "code",
   "execution_count": 159,
   "id": "96974b07-7519-47d2-91ca-78ee94a34fe8",
   "metadata": {},
   "outputs": [
    {
     "data": {
      "text/plain": [
       "3"
      ]
     },
     "execution_count": 159,
     "metadata": {},
     "output_type": "execute_result"
    }
   ],
   "source": [
    "len(first_split)"
   ]
  },
  {
   "cell_type": "code",
   "execution_count": 161,
   "id": "522f7c7b-a245-451b-a5d9-02216f6158c8",
   "metadata": {},
   "outputs": [
    {
     "data": {
      "text/plain": [
       "['Software', 'Engineer', 'here']"
      ]
     },
     "execution_count": 161,
     "metadata": {},
     "output_type": "execute_result"
    }
   ],
   "source": [
    "first_split"
   ]
  },
  {
   "cell_type": "code",
   "execution_count": 171,
   "id": "01caba8b-fcf2-483c-ace4-8e9d0f1e0986",
   "metadata": {},
   "outputs": [
    {
     "data": {
      "text/plain": [
       "['Software']"
      ]
     },
     "execution_count": 171,
     "metadata": {},
     "output_type": "execute_result"
    }
   ],
   "source": [
    "first_split[0::-1]"
   ]
  },
  {
   "cell_type": "code",
   "execution_count": 151,
   "id": "73bb563e-4c84-43ad-ade9-a06e310f816a",
   "metadata": {},
   "outputs": [],
   "source": [
    "first_4 = first_str[0:4]"
   ]
  },
  {
   "cell_type": "code",
   "execution_count": 153,
   "id": "df850da1-d7d5-44ab-9dd0-7fa3830208fb",
   "metadata": {},
   "outputs": [],
   "source": [
    "last_4 = first_str[13:18]"
   ]
  },
  {
   "cell_type": "code",
   "execution_count": 140,
   "id": "bcb04770-2dfd-4e04-b905-9571622ad3e4",
   "metadata": {},
   "outputs": [
    {
     "name": "stdout",
     "output_type": "stream",
     "text": [
      "Soft neer \n"
     ]
    }
   ],
   "source": [
    "print(first_4 + \" \" + last_4)"
   ]
  }
 ],
 "metadata": {
  "kernelspec": {
   "display_name": "Python 3 (ipykernel)",
   "language": "python",
   "name": "python3"
  },
  "language_info": {
   "codemirror_mode": {
    "name": "ipython",
    "version": 3
   },
   "file_extension": ".py",
   "mimetype": "text/x-python",
   "name": "python",
   "nbconvert_exporter": "python",
   "pygments_lexer": "ipython3",
   "version": "3.12.4"
  }
 },
 "nbformat": 4,
 "nbformat_minor": 5
}
