{
 "cells": [
  {
   "cell_type": "markdown",
   "id": "d261ccd6-2186-4411-92db-c4081ec4836a",
   "metadata": {},
   "source": [
    "# Tuples"
   ]
  },
  {
   "cell_type": "markdown",
   "id": "66fbb0f2-1acc-44bf-b531-10d9d4ff02cc",
   "metadata": {},
   "source": [
    "* Elements can only be viewed the elements if once created a tuple\n",
    "* Ordering matters\n",
    "* Initialised using ( )\n",
    "* It is Immutable\n",
    "* Duplicates are allowed\n",
    "* Elements of all data types can be stored\n",
    "* Elements can't be updated, changed they just can be viewed and count the number that how many times the element is repeated"
   ]
  },
  {
   "cell_type": "markdown",
   "id": "bd23a0ea-ec63-4095-ace3-2888ee379a63",
   "metadata": {},
   "source": [
    "## Creation of Tuples"
   ]
  },
  {
   "cell_type": "code",
   "execution_count": 8,
   "id": "824b41ee-d5d7-4540-9b62-1ada839a6656",
   "metadata": {},
   "outputs": [],
   "source": [
    "tup = () # Empty tuple created"
   ]
  },
  {
   "cell_type": "code",
   "execution_count": 10,
   "id": "cf503e04-4db9-4f75-94eb-6c3af33a8e8c",
   "metadata": {},
   "outputs": [],
   "source": [
    "tup1 = (0,1,2,3, \"Bhavik\", True, 34.5) # Elements of all data types can be stored"
   ]
  },
  {
   "cell_type": "code",
   "execution_count": 12,
   "id": "1f073ff6-ac61-4427-9ab3-7dc45007b188",
   "metadata": {},
   "outputs": [
    {
     "data": {
      "text/plain": [
       "tuple"
      ]
     },
     "execution_count": 12,
     "metadata": {},
     "output_type": "execute_result"
    }
   ],
   "source": [
    "type(tup1)"
   ]
  },
  {
   "cell_type": "markdown",
   "id": "e68c4e88-5d0a-4c59-8b39-5a786a4aefed",
   "metadata": {},
   "source": [
    "## Functions used in Tuple\n",
    "\n",
    "* count\n",
    "* index\n",
    "* del"
   ]
  },
  {
   "cell_type": "code",
   "execution_count": 20,
   "id": "e7c19b36-e40e-4d6d-9e63-4f78595c58af",
   "metadata": {},
   "outputs": [
    {
     "data": {
      "text/plain": [
       "(2, 3, 'Bhavik')"
      ]
     },
     "execution_count": 20,
     "metadata": {},
     "output_type": "execute_result"
    }
   ],
   "source": [
    "tup1[2:5] # Slicing in Tuple"
   ]
  },
  {
   "cell_type": "code",
   "execution_count": 22,
   "id": "67aa9239-26a7-476b-b111-1854ba603952",
   "metadata": {},
   "outputs": [],
   "source": [
    "tup2 = (10, 10, 30, 20, 34, 56.5)"
   ]
  },
  {
   "cell_type": "code",
   "execution_count": 24,
   "id": "4dd7b090-bd84-4dea-8317-228b1518faaf",
   "metadata": {},
   "outputs": [
    {
     "data": {
      "text/plain": [
       "2"
      ]
     },
     "execution_count": 24,
     "metadata": {},
     "output_type": "execute_result"
    }
   ],
   "source": [
    "tup2.count(10)"
   ]
  },
  {
   "cell_type": "code",
   "execution_count": 30,
   "id": "2cc507bb-defa-4620-96bb-5642a4dc495b",
   "metadata": {},
   "outputs": [
    {
     "data": {
      "text/plain": [
       "0"
      ]
     },
     "execution_count": 30,
     "metadata": {},
     "output_type": "execute_result"
    }
   ],
   "source": [
    "tup2.index(10)"
   ]
  },
  {
   "cell_type": "code",
   "execution_count": 155,
   "id": "e4c3a3aa-0f67-490f-acbf-3ba801ac50e3",
   "metadata": {},
   "outputs": [],
   "source": [
    "del tup2"
   ]
  },
  {
   "cell_type": "markdown",
   "id": "7750bb59-b0c0-4a7d-8837-776c0bc03db5",
   "metadata": {},
   "source": [
    "## Operations Performed on tuple\n",
    "\n",
    "* any\n",
    "* all\n",
    "* repetition\n",
    "* membership testing\n",
    "* len\n",
    "* unpacking\n",
    "* sorted\n",
    "* max, min, sum\n",
    "* changing list into tuple"
   ]
  },
  {
   "cell_type": "code",
   "execution_count": 158,
   "id": "ceeb25a7-6ad7-489d-91ff-a28a060fce5f",
   "metadata": {},
   "outputs": [],
   "source": [
    "tup3 = (0,0,0)"
   ]
  },
  {
   "cell_type": "code",
   "execution_count": 42,
   "id": "4a8755cc-1d8d-4d21-8289-a307d640029c",
   "metadata": {},
   "outputs": [
    {
     "name": "stdout",
     "output_type": "stream",
     "text": [
      "False\n"
     ]
    }
   ],
   "source": [
    "print(any(tup3)) # Print true if there is element present another than 0 in tup3"
   ]
  },
  {
   "cell_type": "code",
   "execution_count": 46,
   "id": "fe3f1a2b-546b-4b94-94e4-c07c14fb7a34",
   "metadata": {},
   "outputs": [
    {
     "name": "stdout",
     "output_type": "stream",
     "text": [
      "False\n"
     ]
    }
   ],
   "source": [
    "print(all(tup3))"
   ]
  },
  {
   "cell_type": "code",
   "execution_count": 58,
   "id": "1249deae-e10d-4aff-84e6-c40bd5446cab",
   "metadata": {},
   "outputs": [],
   "source": [
    "tup4 = (7,3,1) "
   ]
  },
  {
   "cell_type": "code",
   "execution_count": 60,
   "id": "52abfd4e-e445-4046-807f-381de7dea652",
   "metadata": {},
   "outputs": [
    {
     "name": "stdout",
     "output_type": "stream",
     "text": [
      "True\n"
     ]
    }
   ],
   "source": [
    "print(all(tup4)) # Print true if all element present are not 0"
   ]
  },
  {
   "cell_type": "code",
   "execution_count": 63,
   "id": "6f22dd51-49f4-4817-9ac7-ba1445d5ce67",
   "metadata": {},
   "outputs": [],
   "source": [
    "tup5 = (1,2,4)"
   ]
  },
  {
   "cell_type": "code",
   "execution_count": 65,
   "id": "e9d62649-77c9-40fb-ba8b-66dfcf13dca6",
   "metadata": {},
   "outputs": [],
   "source": [
    "tup6 = (5 * tup5) # Repetition of elements of tup5 for 5 times and store it into tup6"
   ]
  },
  {
   "cell_type": "code",
   "execution_count": 67,
   "id": "2f599f35-ff33-478c-bed4-9e2efd2a5d1e",
   "metadata": {},
   "outputs": [
    {
     "data": {
      "text/plain": [
       "(1, 2, 4, 1, 2, 4, 1, 2, 4, 1, 2, 4, 1, 2, 4)"
      ]
     },
     "execution_count": 67,
     "metadata": {},
     "output_type": "execute_result"
    }
   ],
   "source": [
    "tup6"
   ]
  },
  {
   "cell_type": "code",
   "execution_count": 73,
   "id": "3ec9159a-aa35-4872-af89-d8dfb89fc5b1",
   "metadata": {},
   "outputs": [
    {
     "name": "stdout",
     "output_type": "stream",
     "text": [
      "False\n"
     ]
    }
   ],
   "source": [
    "print(5 in tup6) # Checking whether the element 5 is present in tup6 or not if yes it gives true and otherwise it gives false"
   ]
  },
  {
   "cell_type": "code",
   "execution_count": 75,
   "id": "eaebab20-aeed-43e8-86da-96dd761eef52",
   "metadata": {},
   "outputs": [
    {
     "name": "stdout",
     "output_type": "stream",
     "text": [
      "True\n"
     ]
    }
   ],
   "source": [
    "print(4 in tup6)"
   ]
  },
  {
   "cell_type": "code",
   "execution_count": 79,
   "id": "31abafed-4553-4607-8c5e-ef21243bbbbc",
   "metadata": {},
   "outputs": [
    {
     "name": "stdout",
     "output_type": "stream",
     "text": [
      "15\n"
     ]
    }
   ],
   "source": [
    "print(len(tup6)) # used to find the no of elements present in tup6"
   ]
  },
  {
   "cell_type": "code",
   "execution_count": 89,
   "id": "d83a87a0-0f15-4d05-84c4-9adb9d6dc5b4",
   "metadata": {},
   "outputs": [],
   "source": [
    "tup7 = (1, 2.5, True, \"Bhavik\") "
   ]
  },
  {
   "cell_type": "code",
   "execution_count": 99,
   "id": "36ac62ea-aa55-41bc-970a-6fa56b3043f3",
   "metadata": {},
   "outputs": [],
   "source": [
    "a, b, c, d = tup7 # we are using unpacking operation here which means that we are assigning pat names to our elements\n",
    "# of our tuple and we can print them using our pat names"
   ]
  },
  {
   "cell_type": "code",
   "execution_count": 93,
   "id": "58cca3f3-b94e-490d-bc6b-75f83863509d",
   "metadata": {},
   "outputs": [
    {
     "data": {
      "text/plain": [
       "(1, 2.5, True, 'Bhavik')"
      ]
     },
     "execution_count": 93,
     "metadata": {},
     "output_type": "execute_result"
    }
   ],
   "source": [
    "tup7"
   ]
  },
  {
   "cell_type": "code",
   "execution_count": 94,
   "id": "8aaaed25-af7f-415d-837d-7be65c978966",
   "metadata": {},
   "outputs": [
    {
     "name": "stdout",
     "output_type": "stream",
     "text": [
      "1 2.5 True Bhavik\n"
     ]
    }
   ],
   "source": [
    "print(a, b, c, d)"
   ]
  },
  {
   "cell_type": "code",
   "execution_count": 101,
   "id": "148b17cc-01d0-410e-ad8d-469a84c1056a",
   "metadata": {},
   "outputs": [
    {
     "ename": "TypeError",
     "evalue": "'<' not supported between instances of 'str' and 'bool'",
     "output_type": "error",
     "traceback": [
      "\u001b[1;31m---------------------------------------------------------------------------\u001b[0m",
      "\u001b[1;31mTypeError\u001b[0m                                 Traceback (most recent call last)",
      "Cell \u001b[1;32mIn[101], line 1\u001b[0m\n\u001b[1;32m----> 1\u001b[0m \u001b[38;5;28mprint\u001b[39m(\u001b[38;5;28msorted\u001b[39m(tup7))\n",
      "\u001b[1;31mTypeError\u001b[0m: '<' not supported between instances of 'str' and 'bool'"
     ]
    }
   ],
   "source": [
    "print(sorted(tup7))"
   ]
  },
  {
   "cell_type": "code",
   "execution_count": 103,
   "id": "d1f91d45-5edc-4332-9253-76a04da53228",
   "metadata": {},
   "outputs": [],
   "source": [
    "tup8 = (2,1,34,5,10)"
   ]
  },
  {
   "cell_type": "code",
   "execution_count": 107,
   "id": "889d4d72-a8ab-459d-945b-7f7e2bbb3c82",
   "metadata": {},
   "outputs": [
    {
     "name": "stdout",
     "output_type": "stream",
     "text": [
      "[1, 2, 5, 10, 34]\n"
     ]
    }
   ],
   "source": [
    "print(sorted(tup8)) # using sorted we can sort the elements of tuple"
   ]
  },
  {
   "cell_type": "code",
   "execution_count": 115,
   "id": "c074f405-93d4-4b49-9d59-243db34b6404",
   "metadata": {},
   "outputs": [
    {
     "name": "stdout",
     "output_type": "stream",
     "text": [
      "34\n"
     ]
    }
   ],
   "source": [
    "print(max(tup8)) # used to find max element of tup8"
   ]
  },
  {
   "cell_type": "code",
   "execution_count": 117,
   "id": "726f32f0-7d32-40eb-8a79-cc8a6fc1f52c",
   "metadata": {},
   "outputs": [
    {
     "name": "stdout",
     "output_type": "stream",
     "text": [
      "1\n"
     ]
    }
   ],
   "source": [
    "print(min(tup8)) # used to find min element of tup8"
   ]
  },
  {
   "cell_type": "code",
   "execution_count": 119,
   "id": "eda9958e-cdc6-454a-9c95-7e773c499b47",
   "metadata": {},
   "outputs": [
    {
     "name": "stdout",
     "output_type": "stream",
     "text": [
      "52\n"
     ]
    }
   ],
   "source": [
    "print(sum(tup8)) # used to find sum of all elements of tup8"
   ]
  },
  {
   "cell_type": "code",
   "execution_count": 122,
   "id": "549f6acd-b878-4fc5-a754-d6f2f040100d",
   "metadata": {},
   "outputs": [],
   "source": [
    "list1 = [2,34,5]"
   ]
  },
  {
   "cell_type": "code",
   "execution_count": 128,
   "id": "a770c690-7083-4697-ace6-84796e5f7e1f",
   "metadata": {},
   "outputs": [
    {
     "data": {
      "text/plain": [
       "[2, 34, 5]"
      ]
     },
     "execution_count": 128,
     "metadata": {},
     "output_type": "execute_result"
    }
   ],
   "source": [
    "list1"
   ]
  },
  {
   "cell_type": "code",
   "execution_count": 126,
   "id": "c042504d-c11f-47fb-a767-5dc82c2b808e",
   "metadata": {},
   "outputs": [
    {
     "data": {
      "text/plain": [
       "list"
      ]
     },
     "execution_count": 126,
     "metadata": {},
     "output_type": "execute_result"
    }
   ],
   "source": [
    "type(list1)"
   ]
  },
  {
   "cell_type": "code",
   "execution_count": 130,
   "id": "829d1e9a-54b0-4a4e-9b66-6e12dd4b6041",
   "metadata": {},
   "outputs": [],
   "source": [
    "tup9 = tuple(list1)"
   ]
  },
  {
   "cell_type": "code",
   "execution_count": 132,
   "id": "bbe85e91-07a7-44de-8daf-ba8d37dcbb23",
   "metadata": {},
   "outputs": [
    {
     "data": {
      "text/plain": [
       "(2, 34, 5)"
      ]
     },
     "execution_count": 132,
     "metadata": {},
     "output_type": "execute_result"
    }
   ],
   "source": [
    "tup9"
   ]
  },
  {
   "cell_type": "code",
   "execution_count": 134,
   "id": "fa70cbb2-150a-4c9f-beed-c4349da5151d",
   "metadata": {},
   "outputs": [
    {
     "data": {
      "text/plain": [
       "tuple"
      ]
     },
     "execution_count": 134,
     "metadata": {},
     "output_type": "execute_result"
    }
   ],
   "source": [
    "type(tup9)"
   ]
  },
  {
   "cell_type": "code",
   "execution_count": 164,
   "id": "c869a102-5ef6-4d2a-90fe-8fc2478b43f2",
   "metadata": {},
   "outputs": [],
   "source": [
    "tup10 = (2,5,4,9)"
   ]
  },
  {
   "cell_type": "code",
   "execution_count": 166,
   "id": "12b43566-bdf2-44fd-9305-698cb8d3c8bc",
   "metadata": {},
   "outputs": [],
   "source": [
    "tup11 = (5 * tup10)"
   ]
  },
  {
   "cell_type": "code",
   "execution_count": 168,
   "id": "1cb27c3d-cfc0-4101-b4b6-1cc0618ae1c9",
   "metadata": {},
   "outputs": [
    {
     "data": {
      "text/plain": [
       "(2, 5, 4, 9, 2, 5, 4, 9, 2, 5, 4, 9, 2, 5, 4, 9, 2, 5, 4, 9)"
      ]
     },
     "execution_count": 168,
     "metadata": {},
     "output_type": "execute_result"
    }
   ],
   "source": [
    "tup11"
   ]
  },
  {
   "cell_type": "code",
   "execution_count": 169,
   "id": "c7379268-aa3e-453b-a5dc-7f9667cb3946",
   "metadata": {},
   "outputs": [
    {
     "ename": "AttributeError",
     "evalue": "'tuple' object has no attribute 'clear'",
     "output_type": "error",
     "traceback": [
      "\u001b[1;31m---------------------------------------------------------------------------\u001b[0m",
      "\u001b[1;31mAttributeError\u001b[0m                            Traceback (most recent call last)",
      "Cell \u001b[1;32mIn[169], line 1\u001b[0m\n\u001b[1;32m----> 1\u001b[0m tup10\u001b[38;5;241m.\u001b[39mclear()\n",
      "\u001b[1;31mAttributeError\u001b[0m: 'tuple' object has no attribute 'clear'"
     ]
    }
   ],
   "source": [
    "tup10.clear()"
   ]
  },
  {
   "cell_type": "code",
   "execution_count": 171,
   "id": "6fc18f6e-2998-49f5-b662-3498a437fedb",
   "metadata": {},
   "outputs": [],
   "source": [
    "del tup10"
   ]
  },
  {
   "cell_type": "code",
   "execution_count": 176,
   "id": "0e110bb9-2bf0-4166-b456-f4575c3f3290",
   "metadata": {},
   "outputs": [
    {
     "ename": "NameError",
     "evalue": "name 'tup11' is not defined",
     "output_type": "error",
     "traceback": [
      "\u001b[1;31m---------------------------------------------------------------------------\u001b[0m",
      "\u001b[1;31mNameError\u001b[0m                                 Traceback (most recent call last)",
      "Cell \u001b[1;32mIn[176], line 1\u001b[0m\n\u001b[1;32m----> 1\u001b[0m \u001b[38;5;28;01mdel\u001b[39;00m tup11\n",
      "\u001b[1;31mNameError\u001b[0m: name 'tup11' is not defined"
     ]
    }
   ],
   "source": [
    "del tup11"
   ]
  },
  {
   "cell_type": "markdown",
   "id": "e1662f51-36a1-4713-90bb-dd108981abbe",
   "metadata": {},
   "source": [
    "## List in Tuple"
   ]
  },
  {
   "cell_type": "code",
   "execution_count": 179,
   "id": "a0e67781-bf54-4cf1-a2bd-48e88e7a9d7f",
   "metadata": {},
   "outputs": [],
   "source": [
    "tup12 = (12, 23, [34, 50], [100], 200)"
   ]
  },
  {
   "cell_type": "code",
   "execution_count": 181,
   "id": "93f1c402-3ea6-4e64-b85f-5cba4875d82a",
   "metadata": {},
   "outputs": [],
   "source": [
    "# Now we can change the elements of list present in tuple"
   ]
  },
  {
   "cell_type": "code",
   "execution_count": 183,
   "id": "9b3b20a5-3ff0-4ac0-93a3-9a3b95fd0730",
   "metadata": {},
   "outputs": [
    {
     "data": {
      "text/plain": [
       "[34, 50]"
      ]
     },
     "execution_count": 183,
     "metadata": {},
     "output_type": "execute_result"
    }
   ],
   "source": [
    " tup12[2]"
   ]
  },
  {
   "cell_type": "code",
   "execution_count": 187,
   "id": "ba21b726-7d61-40c5-b4de-272343d354a0",
   "metadata": {},
   "outputs": [],
   "source": [
    "tup12[2][1] = 500"
   ]
  },
  {
   "cell_type": "code",
   "execution_count": 189,
   "id": "f42bec37-f784-41b0-99cb-7136ec3d17b0",
   "metadata": {},
   "outputs": [
    {
     "data": {
      "text/plain": [
       "(12, 23, [34, 500], [100], 200)"
      ]
     },
     "execution_count": 189,
     "metadata": {},
     "output_type": "execute_result"
    }
   ],
   "source": [
    "tup12"
   ]
  },
  {
   "cell_type": "code",
   "execution_count": null,
   "id": "b9c9c2e2-3f56-4d09-b7e5-258dc807c2c3",
   "metadata": {},
   "outputs": [],
   "source": []
  }
 ],
 "metadata": {
  "kernelspec": {
   "display_name": "Python 3 (ipykernel)",
   "language": "python",
   "name": "python3"
  },
  "language_info": {
   "codemirror_mode": {
    "name": "ipython",
    "version": 3
   },
   "file_extension": ".py",
   "mimetype": "text/x-python",
   "name": "python",
   "nbconvert_exporter": "python",
   "pygments_lexer": "ipython3",
   "version": "3.12.4"
  }
 },
 "nbformat": 4,
 "nbformat_minor": 5
}
