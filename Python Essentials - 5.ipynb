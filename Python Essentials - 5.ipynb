{
 "cells": [
  {
   "cell_type": "markdown",
   "id": "2ee2e60e-7c5d-4a7e-81ba-624789730b84",
   "metadata": {},
   "source": [
    "### Practice of nested if else"
   ]
  },
  {
   "cell_type": "code",
   "execution_count": 6,
   "id": "09f5b7b6-0f27-495e-ae0d-8c3433b0ebe9",
   "metadata": {},
   "outputs": [],
   "source": [
    "username = \"Bhavik\"\n",
    "age = 22\n",
    "country = \"India\""
   ]
  },
  {
   "cell_type": "code",
   "execution_count": 22,
   "id": "14cef0e9-166c-446f-accd-d3d24d53f78f",
   "metadata": {},
   "outputs": [
    {
     "name": "stdin",
     "output_type": "stream",
     "text": [
      "Enter Your Name Bhavik\n"
     ]
    },
    {
     "name": "stdout",
     "output_type": "stream",
     "text": [
      "You entered correct username\n"
     ]
    },
    {
     "name": "stdin",
     "output_type": "stream",
     "text": [
      "Enter Your Age 22\n"
     ]
    },
    {
     "name": "stdout",
     "output_type": "stream",
     "text": [
      "You Entered Correct Age\n"
     ]
    },
    {
     "name": "stdin",
     "output_type": "stream",
     "text": [
      "Enter Your Country India\n"
     ]
    },
    {
     "name": "stdout",
     "output_type": "stream",
     "text": [
      "You entered correct country\n"
     ]
    }
   ],
   "source": [
    "user_name  = input(\"Enter Your Name\")\n",
    "if user_name == username:\n",
    "    print(\"You entered correct username\")\n",
    "    user_age = int(input(\"Enter Your Age\"))\n",
    "    if user_age == age:\n",
    "        print(\"You Entered Correct Age\")\n",
    "        user_country = input(\"Enter Your Country\")\n",
    "        if user_country == country:\n",
    "            print(\"You entered correct country\")"
   ]
  },
  {
   "cell_type": "markdown",
   "id": "56465c75-ca15-445d-888a-f931d777ca6c",
   "metadata": {},
   "source": [
    "### Practice of if else"
   ]
  },
  {
   "cell_type": "code",
   "execution_count": 40,
   "id": "6e86c133-e920-4336-9453-63526e4c7984",
   "metadata": {},
   "outputs": [
    {
     "name": "stdin",
     "output_type": "stream",
     "text": [
      "Enter Your Name ROHIT\n"
     ]
    },
    {
     "name": "stdout",
     "output_type": "stream",
     "text": [
      "ALL words are capital\n"
     ]
    }
   ],
   "source": [
    "name1 = input(\"Enter Your Name\")\n",
    "if name1 == name1.upper():\n",
    "    print(\"ALL words are capital\")\n",
    "\n",
    "else:\n",
    "    print(\"All words are not capital\")"
   ]
  },
  {
   "cell_type": "markdown",
   "id": "446e57cb-113e-4fe9-98b1-4d3a6fef8cdd",
   "metadata": {},
   "source": [
    "### Check whether string is palindrome or not"
   ]
  },
  {
   "cell_type": "code",
   "execution_count": 74,
   "id": "24810eac-7663-427f-9a59-a4e364545e68",
   "metadata": {},
   "outputs": [
    {
     "name": "stdin",
     "output_type": "stream",
     "text": [
      "Enter any String Radar\n"
     ]
    },
    {
     "name": "stdout",
     "output_type": "stream",
     "text": [
      "It's a Palindrome no.\n"
     ]
    }
   ],
   "source": [
    "str1 = input(\"Enter any String\").lower()\n",
    "if str1 == str1[::-1]:\n",
    "    print(\"It's a Palindrome no.\")\n",
    "\n",
    "else:\n",
    "    print(\"Not a Palindrome no.\")"
   ]
  },
  {
   "cell_type": "markdown",
   "id": "f5659327-2d44-48be-bc9e-8a1448849d53",
   "metadata": {},
   "source": [
    "## Datetime Package"
   ]
  },
  {
   "cell_type": "code",
   "execution_count": 81,
   "id": "e5b651f2-971d-4879-8d28-546899a416ca",
   "metadata": {},
   "outputs": [],
   "source": [
    "from datetime import date"
   ]
  },
  {
   "cell_type": "code",
   "execution_count": 83,
   "id": "f154cbc5-b48b-4547-a1f2-91b71fa839b5",
   "metadata": {},
   "outputs": [],
   "source": [
    "my_date = date(2004,12,13)"
   ]
  },
  {
   "cell_type": "code",
   "execution_count": 85,
   "id": "49c68b24-3a11-4d05-ab49-13a0d51dfcdf",
   "metadata": {},
   "outputs": [
    {
     "data": {
      "text/plain": [
       "datetime.date(2004, 12, 13)"
      ]
     },
     "execution_count": 85,
     "metadata": {},
     "output_type": "execute_result"
    }
   ],
   "source": [
    "my_date"
   ]
  },
  {
   "cell_type": "code",
   "execution_count": 87,
   "id": "9e13acf7-1c6c-4fd1-a82f-da48f27f822f",
   "metadata": {},
   "outputs": [],
   "source": [
    "today1 = date.today()"
   ]
  },
  {
   "cell_type": "code",
   "execution_count": 89,
   "id": "bfb4a46c-7881-4791-8fe3-972653f7cbe0",
   "metadata": {},
   "outputs": [
    {
     "data": {
      "text/plain": [
       "datetime.date(2024, 12, 23)"
      ]
     },
     "execution_count": 89,
     "metadata": {},
     "output_type": "execute_result"
    }
   ],
   "source": [
    "today1"
   ]
  },
  {
   "cell_type": "code",
   "execution_count": 95,
   "id": "4e26527f-2f25-4b6b-86aa-de0a31b6e787",
   "metadata": {},
   "outputs": [
    {
     "data": {
      "text/plain": [
       "23"
      ]
     },
     "execution_count": 95,
     "metadata": {},
     "output_type": "execute_result"
    }
   ],
   "source": [
    "today1.day"
   ]
  },
  {
   "cell_type": "code",
   "execution_count": 99,
   "id": "303c7c60-0b47-439b-a0e9-e34d4d3671bd",
   "metadata": {},
   "outputs": [
    {
     "data": {
      "text/plain": [
       "12"
      ]
     },
     "execution_count": 99,
     "metadata": {},
     "output_type": "execute_result"
    }
   ],
   "source": [
    "today1.month"
   ]
  },
  {
   "cell_type": "code",
   "execution_count": 101,
   "id": "384eba4e-c560-4ed4-a917-89883cdb9082",
   "metadata": {},
   "outputs": [
    {
     "data": {
      "text/plain": [
       "2024"
      ]
     },
     "execution_count": 101,
     "metadata": {},
     "output_type": "execute_result"
    }
   ],
   "source": [
    "today1.year"
   ]
  },
  {
   "cell_type": "code",
   "execution_count": 103,
   "id": "edde6f26-eaf6-4047-8776-44be0ebb7601",
   "metadata": {},
   "outputs": [
    {
     "data": {
      "text/plain": [
       "1"
      ]
     },
     "execution_count": 103,
     "metadata": {},
     "output_type": "execute_result"
    }
   ],
   "source": [
    "today1.isoweekday()"
   ]
  },
  {
   "cell_type": "code",
   "execution_count": 117,
   "id": "ea2b8cd5-9b9a-4f1a-bde3-a29e7d8f7447",
   "metadata": {},
   "outputs": [
    {
     "name": "stdout",
     "output_type": "stream",
     "text": [
      "Today's Date is  23\n",
      "Today's Month is  12\n",
      "Today's Year is  2024\n"
     ]
    }
   ],
   "source": [
    "# Get Today's date month and year\n",
    "print(\"Today's Date is \", today1.day)\n",
    "print(\"Today's Month is \", today1.month)\n",
    "print(\"Today's Year is \", today1.year)"
   ]
  },
  {
   "cell_type": "code",
   "execution_count": 119,
   "id": "73edd043-2d45-4297-8471-960a96711ee8",
   "metadata": {},
   "outputs": [],
   "source": [
    "from datetime import datetime as dt"
   ]
  },
  {
   "cell_type": "code",
   "execution_count": 123,
   "id": "556bd00b-3bc3-4a17-a81b-eaa4bb667ed0",
   "metadata": {},
   "outputs": [],
   "source": [
    "date1 = dt.now()"
   ]
  },
  {
   "cell_type": "code",
   "execution_count": 125,
   "id": "4445730f-fa88-41a1-9619-633b86b10a45",
   "metadata": {},
   "outputs": [
    {
     "data": {
      "text/plain": [
       "datetime.datetime(2024, 12, 23, 18, 51, 48, 544603)"
      ]
     },
     "execution_count": 125,
     "metadata": {},
     "output_type": "execute_result"
    }
   ],
   "source": [
    "date1"
   ]
  },
  {
   "cell_type": "code",
   "execution_count": 127,
   "id": "a403a4d0-7fee-48ba-998b-dc27cd30a41e",
   "metadata": {},
   "outputs": [
    {
     "data": {
      "text/plain": [
       "datetime.date(2024, 12, 23)"
      ]
     },
     "execution_count": 127,
     "metadata": {},
     "output_type": "execute_result"
    }
   ],
   "source": [
    "dt.date(date1)"
   ]
  },
  {
   "cell_type": "code",
   "execution_count": 131,
   "id": "aa774f88-bbf2-4076-af63-d396431f094d",
   "metadata": {},
   "outputs": [
    {
     "data": {
      "text/plain": [
       "544603"
      ]
     },
     "execution_count": 131,
     "metadata": {},
     "output_type": "execute_result"
    }
   ],
   "source": [
    "date1.microsecond"
   ]
  },
  {
   "cell_type": "code",
   "execution_count": 133,
   "id": "915b3705-f61c-4b04-97f2-9099a94b8c49",
   "metadata": {},
   "outputs": [
    {
     "data": {
      "text/plain": [
       "48"
      ]
     },
     "execution_count": 133,
     "metadata": {},
     "output_type": "execute_result"
    }
   ],
   "source": [
    "date1.second"
   ]
  },
  {
   "cell_type": "code",
   "execution_count": 145,
   "id": "0faf50ef-2993-4e61-a76a-f1773846f918",
   "metadata": {},
   "outputs": [
    {
     "data": {
      "text/plain": [
       "51"
      ]
     },
     "execution_count": 145,
     "metadata": {},
     "output_type": "execute_result"
    }
   ],
   "source": [
    "date1.minute"
   ]
  },
  {
   "cell_type": "code",
   "execution_count": 147,
   "id": "e1a8a93d-755c-433b-b7cd-74ba150fe6b7",
   "metadata": {},
   "outputs": [
    {
     "data": {
      "text/plain": [
       "18"
      ]
     },
     "execution_count": 147,
     "metadata": {},
     "output_type": "execute_result"
    }
   ],
   "source": [
    "date1.hour"
   ]
  },
  {
   "cell_type": "code",
   "execution_count": 148,
   "id": "31eab8a0-fac1-46df-ba52-86ab720b3c4e",
   "metadata": {},
   "outputs": [
    {
     "data": {
      "text/plain": [
       "23"
      ]
     },
     "execution_count": 148,
     "metadata": {},
     "output_type": "execute_result"
    }
   ],
   "source": [
    "date1.day"
   ]
  },
  {
   "cell_type": "code",
   "execution_count": 149,
   "id": "b50ccd19-9fd2-4f44-a67c-d20fa1ee6eab",
   "metadata": {},
   "outputs": [
    {
     "data": {
      "text/plain": [
       "12"
      ]
     },
     "execution_count": 149,
     "metadata": {},
     "output_type": "execute_result"
    }
   ],
   "source": [
    "date1.month"
   ]
  },
  {
   "cell_type": "code",
   "execution_count": 151,
   "id": "93a49d5d-c48d-4709-a069-4d3cf656f5e4",
   "metadata": {},
   "outputs": [
    {
     "data": {
      "text/plain": [
       "2024"
      ]
     },
     "execution_count": 151,
     "metadata": {},
     "output_type": "execute_result"
    }
   ],
   "source": [
    "date1.year"
   ]
  },
  {
   "cell_type": "code",
   "execution_count": 152,
   "id": "e67fcb0b-67f3-49ef-964a-8032303fb09e",
   "metadata": {},
   "outputs": [
    {
     "data": {
      "text/plain": [
       "1"
      ]
     },
     "execution_count": 152,
     "metadata": {},
     "output_type": "execute_result"
    }
   ],
   "source": [
    "date1.isoweekday()"
   ]
  },
  {
   "cell_type": "code",
   "execution_count": 159,
   "id": "f96ec5c3-e261-4042-8aac-8397beef04c7",
   "metadata": {},
   "outputs": [],
   "source": [
    "import calendar as cl"
   ]
  },
  {
   "cell_type": "code",
   "execution_count": 161,
   "id": "dfb4473f-4796-40fd-8ce0-201aeab30223",
   "metadata": {},
   "outputs": [
    {
     "name": "stdout",
     "output_type": "stream",
     "text": [
      "<module 'calendar' from 'C:\\\\Users\\\\glenn\\\\anaconda3\\\\Lib\\\\calendar.py'>\n"
     ]
    }
   ],
   "source": [
    "print(cl)"
   ]
  },
  {
   "cell_type": "code",
   "execution_count": 163,
   "id": "379a14be-5a1f-47c4-be0c-658956e87e9c",
   "metadata": {},
   "outputs": [],
   "source": [
    "year = 2004\n",
    "month = 12"
   ]
  },
  {
   "cell_type": "code",
   "execution_count": 165,
   "id": "04ac4156-23f3-43aa-bf40-fa2ac7243230",
   "metadata": {},
   "outputs": [
    {
     "name": "stdout",
     "output_type": "stream",
     "text": [
      "   December 2004\n",
      "Mo Tu We Th Fr Sa Su\n",
      "       1  2  3  4  5\n",
      " 6  7  8  9 10 11 12\n",
      "13 14 15 16 17 18 19\n",
      "20 21 22 23 24 25 26\n",
      "27 28 29 30 31\n",
      "\n"
     ]
    }
   ],
   "source": [
    "print(calendar.month(year,month))"
   ]
  },
  {
   "cell_type": "markdown",
   "id": "6af482e4-8815-40ce-8c27-2a1c502ecbe1",
   "metadata": {},
   "source": [
    "# Practice Question : Leap Year"
   ]
  },
  {
   "cell_type": "code",
   "execution_count": 16,
   "id": "d44c1300-61b8-4645-ad5c-3e31a3b31f77",
   "metadata": {},
   "outputs": [
    {
     "name": "stdin",
     "output_type": "stream",
     "text": [
      "Enter Any Year to check is it a leap year or not ?? 1600\n"
     ]
    },
    {
     "name": "stdout",
     "output_type": "stream",
     "text": [
      "Entered Year is not leap year\n"
     ]
    }
   ],
   "source": [
    "year = int(input(\"Enter Any Year to check is it a leap year or not ??\"))\n",
    "if ((year % 4 == 0) and (year % 100 != 0)):\n",
    "    print(\"Entered Year is a leap year\")\n",
    "\n",
    "else:\n",
    "    print(\"Entered Year is not leap year\")"
   ]
  },
  {
   "cell_type": "code",
   "execution_count": 20,
   "id": "0b35faa5-b872-4f4d-b183-509508724b08",
   "metadata": {},
   "outputs": [
    {
     "name": "stdin",
     "output_type": "stream",
     "text": [
      "Enter any year 1910\n"
     ]
    },
    {
     "name": "stdout",
     "output_type": "stream",
     "text": [
      "1910 is not a leap year\n"
     ]
    }
   ],
   "source": [
    "year1 = int(input(\"Enter any year\"))\n",
    "if year1 % 4 == 0:\n",
    "    if year1 % 400 == 0 or year1 % 100 != 0:\n",
    "        print(year1, \"is leap year\")\n",
    "\n",
    "    else:\n",
    "        print(year1, \"is not a leap year\")\n",
    "\n",
    "else:\n",
    "    print(year1, \"is not a leap year\")"
   ]
  },
  {
   "cell_type": "code",
   "execution_count": null,
   "id": "96380b66-0aea-4f24-ae74-2dc2e461bc9d",
   "metadata": {},
   "outputs": [],
   "source": []
  }
 ],
 "metadata": {
  "kernelspec": {
   "display_name": "Python 3 (ipykernel)",
   "language": "python",
   "name": "python3"
  },
  "language_info": {
   "codemirror_mode": {
    "name": "ipython",
    "version": 3
   },
   "file_extension": ".py",
   "mimetype": "text/x-python",
   "name": "python",
   "nbconvert_exporter": "python",
   "pygments_lexer": "ipython3",
   "version": "3.12.4"
  }
 },
 "nbformat": 4,
 "nbformat_minor": 5
}
