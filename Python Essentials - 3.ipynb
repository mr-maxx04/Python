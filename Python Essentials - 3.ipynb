{
 "cells": [
  {
   "cell_type": "markdown",
   "id": "4ee1c31b-f7de-4c23-9213-d29f67aed1c8",
   "metadata": {},
   "source": [
    "## String Concatenation"
   ]
  },
  {
   "cell_type": "code",
   "execution_count": 2,
   "id": "78c68b17-5fd0-43e7-b49f-5703d42959ed",
   "metadata": {},
   "outputs": [],
   "source": [
    "s1 = \"Hello\""
   ]
  },
  {
   "cell_type": "code",
   "execution_count": 4,
   "id": "d9b369a2-60fb-4b4c-acc3-630fa67b329a",
   "metadata": {},
   "outputs": [],
   "source": [
    "s2 = \"Bhavik\" "
   ]
  },
  {
   "cell_type": "code",
   "execution_count": 6,
   "id": "b67aa01d-21ef-4aec-8a89-932ff2bee104",
   "metadata": {},
   "outputs": [
    {
     "data": {
      "text/plain": [
       "'HelloBhavik'"
      ]
     },
     "execution_count": 6,
     "metadata": {},
     "output_type": "execute_result"
    }
   ],
   "source": [
    "s1 + s2"
   ]
  },
  {
   "cell_type": "code",
   "execution_count": 8,
   "id": "ce97d54a-18da-4e85-a5f7-a6fac1045db4",
   "metadata": {},
   "outputs": [
    {
     "data": {
      "text/plain": [
       "'Hello Bhavik'"
      ]
     },
     "execution_count": 8,
     "metadata": {},
     "output_type": "execute_result"
    }
   ],
   "source": [
    "s1 + \" \" + s2"
   ]
  },
  {
   "cell_type": "code",
   "execution_count": 10,
   "id": "534debc5-72df-454a-a655-8793cf6262e7",
   "metadata": {},
   "outputs": [
    {
     "data": {
      "text/plain": [
       "'data science'"
      ]
     },
     "execution_count": 10,
     "metadata": {},
     "output_type": "execute_result"
    }
   ],
   "source": [
    "\"data\" + \" \" + 'science'"
   ]
  },
  {
   "cell_type": "code",
   "execution_count": 20,
   "id": "a35ad518-0002-4a84-8d57-d4b33868035e",
   "metadata": {},
   "outputs": [],
   "source": [
    "s1 = \"Hi\"\n",
    "s2 = \"I\"\n",
    "s3 = \"am\"\n",
    "s4 = \"bhavik\""
   ]
  },
  {
   "cell_type": "code",
   "execution_count": 22,
   "id": "1c3817d5-d485-491d-8485-8ad2a45c8b9d",
   "metadata": {},
   "outputs": [
    {
     "data": {
      "text/plain": [
       "'Hi I am bhavik'"
      ]
     },
     "execution_count": 22,
     "metadata": {},
     "output_type": "execute_result"
    }
   ],
   "source": [
    "s1 + \" \" + s2 + \" \" +  s3 + \" \" +  s4"
   ]
  },
  {
   "cell_type": "markdown",
   "id": "40b4367e-cc83-4426-828e-3d1791df3864",
   "metadata": {},
   "source": [
    "## String Membership"
   ]
  },
  {
   "cell_type": "code",
   "execution_count": 67,
   "id": "112d0184-ac8e-476f-b2ed-80348f5a4936",
   "metadata": {},
   "outputs": [],
   "source": [
    "str2 = \"data Science\""
   ]
  },
  {
   "cell_type": "code",
   "execution_count": 230,
   "id": "229a9742-27bb-41e6-b6b6-39d4336e9255",
   "metadata": {},
   "outputs": [],
   "source": [
    "ans = \"Data\" in str2"
   ]
  },
  {
   "cell_type": "code",
   "execution_count": 232,
   "id": "0b65e2e2-bf1f-40d7-92ed-050e1f9a0307",
   "metadata": {},
   "outputs": [
    {
     "name": "stdout",
     "output_type": "stream",
     "text": [
      "False\n"
     ]
    }
   ],
   "source": [
    "print(ans)"
   ]
  },
  {
   "cell_type": "code",
   "execution_count": 234,
   "id": "30d6a822-1a0a-4475-80b0-6bf75a078fcc",
   "metadata": {},
   "outputs": [],
   "source": [
    "ans1 = \"data\" in str2"
   ]
  },
  {
   "cell_type": "code",
   "execution_count": 236,
   "id": "8da60c66-0027-4e28-a78d-8995380bb8e9",
   "metadata": {},
   "outputs": [
    {
     "name": "stdout",
     "output_type": "stream",
     "text": [
      "True\n"
     ]
    }
   ],
   "source": [
    "print(ans1)"
   ]
  },
  {
   "cell_type": "code",
   "execution_count": 48,
   "id": "bee36a8a-c47f-401a-b031-69e7406fe0dc",
   "metadata": {},
   "outputs": [],
   "source": [
    "str3 = \" Data Analyse \""
   ]
  },
  {
   "cell_type": "code",
   "execution_count": 52,
   "id": "f9d1405a-5a0a-4cec-b31c-5b2b3a23064e",
   "metadata": {},
   "outputs": [
    {
     "data": {
      "text/plain": [
       "'Data Analyse'"
      ]
     },
     "execution_count": 52,
     "metadata": {},
     "output_type": "execute_result"
    }
   ],
   "source": [
    "str3.strip() # used to remove whitespaces of string"
   ]
  },
  {
   "cell_type": "markdown",
   "id": "6e1a8fe1-4334-43ac-bab2-9d66fe908fa4",
   "metadata": {},
   "source": [
    "* whitespace means the space at the start and at the end"
   ]
  },
  {
   "cell_type": "code",
   "execution_count": 61,
   "id": "263a103e-2135-4012-a342-c2f6ee110b2f",
   "metadata": {},
   "outputs": [
    {
     "data": {
      "text/plain": [
       "' Data Analyse'"
      ]
     },
     "execution_count": 61,
     "metadata": {},
     "output_type": "execute_result"
    }
   ],
   "source": [
    "str3.rstrip() # used to remove whitespaces of string from right side"
   ]
  },
  {
   "cell_type": "code",
   "execution_count": 59,
   "id": "bc45e5a5-8d56-4650-9202-6156aa46bce2",
   "metadata": {},
   "outputs": [
    {
     "data": {
      "text/plain": [
       "'Data Analyse '"
      ]
     },
     "execution_count": 59,
     "metadata": {},
     "output_type": "execute_result"
    }
   ],
   "source": [
    "str3.lstrip() # used to remove whitespaces of string from left side"
   ]
  },
  {
   "cell_type": "code",
   "execution_count": 250,
   "id": "89031c24-9a88-436f-ac6e-09e2da9d7a37",
   "metadata": {},
   "outputs": [],
   "source": [
    "lowerstr = \"i am sentence\""
   ]
  },
  {
   "cell_type": "code",
   "execution_count": 252,
   "id": "70bf2cc4-ee36-449b-8839-2da71d5c7a04",
   "metadata": {},
   "outputs": [
    {
     "data": {
      "text/plain": [
       "'I AM SENTENCE'"
      ]
     },
     "execution_count": 252,
     "metadata": {},
     "output_type": "execute_result"
    }
   ],
   "source": [
    "lowerstr.upper()"
   ]
  },
  {
   "cell_type": "code",
   "execution_count": 246,
   "id": "b50ffc78-363c-45bd-a7bd-95b3cb7b25ba",
   "metadata": {},
   "outputs": [],
   "source": [
    "upperstr = \"I AM SENTENCE\""
   ]
  },
  {
   "cell_type": "code",
   "execution_count": 248,
   "id": "7a247b92-3846-4c5d-9951-d8cb2945bbb3",
   "metadata": {},
   "outputs": [
    {
     "data": {
      "text/plain": [
       "'i am sentence'"
      ]
     },
     "execution_count": 248,
     "metadata": {},
     "output_type": "execute_result"
    }
   ],
   "source": [
    "upperstr.lower()"
   ]
  },
  {
   "cell_type": "code",
   "execution_count": 73,
   "id": "f8455862-eaf4-45c6-b380-678d1c03b431",
   "metadata": {},
   "outputs": [
    {
     "data": {
      "text/plain": [
       "'Data science'"
      ]
     },
     "execution_count": 73,
     "metadata": {},
     "output_type": "execute_result"
    }
   ],
   "source": [
    "str2.capitalize()"
   ]
  },
  {
   "cell_type": "code",
   "execution_count": 77,
   "id": "39cdde44-776e-4d4a-9dfc-22a0a67918bd",
   "metadata": {},
   "outputs": [],
   "source": [
    "str4 = \"Hello My Friend Bajarangbali\""
   ]
  },
  {
   "cell_type": "code",
   "execution_count": 79,
   "id": "e1a13ead-6084-47e4-aeb7-7a67f3925064",
   "metadata": {},
   "outputs": [
    {
     "data": {
      "text/plain": [
       "True"
      ]
     },
     "execution_count": 79,
     "metadata": {},
     "output_type": "execute_result"
    }
   ],
   "source": [
    "str4.startswith(\"He\")"
   ]
  },
  {
   "cell_type": "code",
   "execution_count": 81,
   "id": "72f91b39-c1d5-4251-9f25-a8c1a1f5e78c",
   "metadata": {},
   "outputs": [
    {
     "data": {
      "text/plain": [
       "True"
      ]
     },
     "execution_count": 81,
     "metadata": {},
     "output_type": "execute_result"
    }
   ],
   "source": [
    "str4.endswith(\"li\")"
   ]
  },
  {
   "cell_type": "markdown",
   "id": "229f3088-891e-4850-ac34-a5ec7bbd2908",
   "metadata": {},
   "source": [
    "## Typecasting"
   ]
  },
  {
   "cell_type": "markdown",
   "id": "2065d8ac-a218-48bc-8f7f-07a81c950e93",
   "metadata": {},
   "source": [
    "* Type casting is the method to convert the variable data type into a certain data type in order to the operation to be performed by users.\n",
    "* There are 2 ways in which typecasting is performed.\n",
    "  1. Auto Typecasting\n",
    "  2. Forced Typecasting"
   ]
  },
  {
   "cell_type": "markdown",
   "id": "d155598c-b5ff-466f-9f98-399925e160e5",
   "metadata": {},
   "source": [
    "## Auto Typecasting"
   ]
  },
  {
   "cell_type": "markdown",
   "id": "bf7c726f-db52-419c-8c81-1aa718f5725a",
   "metadata": {},
   "source": [
    "* The Python intrpreter automatically converts one data type to another without any user involvement."
   ]
  },
  {
   "cell_type": "code",
   "execution_count": 99,
   "id": "60474d14-42a8-4797-b59c-e27f3127554f",
   "metadata": {},
   "outputs": [
    {
     "data": {
      "text/plain": [
       "9.67"
      ]
     },
     "execution_count": 99,
     "metadata": {},
     "output_type": "execute_result"
    }
   ],
   "source": [
    "4 + 5.67 + False"
   ]
  },
  {
   "cell_type": "code",
   "execution_count": 101,
   "id": "83de904e-7c86-4de6-973a-37e9efcbce3a",
   "metadata": {},
   "outputs": [
    {
     "ename": "TypeError",
     "evalue": "unsupported operand type(s) for +: 'int' and 'str'",
     "output_type": "error",
     "traceback": [
      "\u001b[1;31m---------------------------------------------------------------------------\u001b[0m",
      "\u001b[1;31mTypeError\u001b[0m                                 Traceback (most recent call last)",
      "Cell \u001b[1;32mIn[101], line 1\u001b[0m\n\u001b[1;32m----> 1\u001b[0m \u001b[38;5;241;43m4\u001b[39;49m\u001b[43m \u001b[49m\u001b[38;5;241;43m+\u001b[39;49m\u001b[43m \u001b[49m\u001b[38;5;241;43m3\u001b[39;49m\u001b[43m \u001b[49m\u001b[38;5;241;43m+\u001b[39;49m\u001b[43m \u001b[49m\u001b[38;5;124;43m'\u001b[39;49m\u001b[38;5;124;43mdata\u001b[39;49m\u001b[38;5;124;43m'\u001b[39;49m \u001b[38;5;241m+\u001b[39m \u001b[38;5;241m6.7\u001b[39m  \u001b[38;5;66;03m# here the machne can't be able to convert str and int datatype ito any \u001b[39;00m\n",
      "\u001b[1;31mTypeError\u001b[0m: unsupported operand type(s) for +: 'int' and 'str'"
     ]
    }
   ],
   "source": [
    "4 + 3 + 'data' + 6.7  # here the machne can't be able to convert str and int datatype ito any datatype"
   ]
  },
  {
   "cell_type": "code",
   "execution_count": 103,
   "id": "6ba2a69b-07f3-4d3d-bb83-c15c1caa87d6",
   "metadata": {},
   "outputs": [
    {
     "data": {
      "text/plain": [
       "4.5"
      ]
     },
     "execution_count": 103,
     "metadata": {},
     "output_type": "execute_result"
    }
   ],
   "source": [
    "True + 3.5"
   ]
  },
  {
   "cell_type": "code",
   "execution_count": 105,
   "id": "4608569e-cfa2-4519-ac98-63b388ffb518",
   "metadata": {},
   "outputs": [
    {
     "data": {
      "text/plain": [
       "1003.5"
      ]
     },
     "execution_count": 105,
     "metadata": {},
     "output_type": "execute_result"
    }
   ],
   "source": [
    "1000 + True + True + 1.5"
   ]
  },
  {
   "cell_type": "code",
   "execution_count": 107,
   "id": "402b411c-d6dd-46ec-9186-3f221fd6be1c",
   "metadata": {},
   "outputs": [
    {
     "data": {
      "text/plain": [
       "11"
      ]
     },
     "execution_count": 107,
     "metadata": {},
     "output_type": "execute_result"
    }
   ],
   "source": [
    "10 + True + False"
   ]
  },
  {
   "cell_type": "code",
   "execution_count": 109,
   "id": "eab75c51-c0c9-43e8-b4f0-b4d38a1ed9c4",
   "metadata": {},
   "outputs": [
    {
     "data": {
      "text/plain": [
       "0"
      ]
     },
     "execution_count": 109,
     "metadata": {},
     "output_type": "execute_result"
    }
   ],
   "source": [
    "10 * True * False"
   ]
  },
  {
   "cell_type": "markdown",
   "id": "a0d4b464-3321-4cae-bd54-aaa66367d194",
   "metadata": {},
   "source": [
    "## Forced Typecasting"
   ]
  },
  {
   "cell_type": "code",
   "execution_count": 112,
   "id": "5aa4ee9a-bb71-4da7-b99c-fd758185fabd",
   "metadata": {},
   "outputs": [],
   "source": [
    "a = 10.7"
   ]
  },
  {
   "cell_type": "code",
   "execution_count": 114,
   "id": "6a05e128-c3fa-418c-a4d1-31100eb15aa1",
   "metadata": {},
   "outputs": [
    {
     "data": {
      "text/plain": [
       "10.7"
      ]
     },
     "execution_count": 114,
     "metadata": {},
     "output_type": "execute_result"
    }
   ],
   "source": [
    "a"
   ]
  },
  {
   "cell_type": "code",
   "execution_count": 116,
   "id": "e14e395d-ecac-4199-88ed-87784daa81dd",
   "metadata": {},
   "outputs": [
    {
     "data": {
      "text/plain": [
       "float"
      ]
     },
     "execution_count": 116,
     "metadata": {},
     "output_type": "execute_result"
    }
   ],
   "source": [
    "type(a)"
   ]
  },
  {
   "cell_type": "code",
   "execution_count": 118,
   "id": "00f52960-0e2c-471f-9620-a2f8f4bbc281",
   "metadata": {},
   "outputs": [
    {
     "data": {
      "text/plain": [
       "10"
      ]
     },
     "execution_count": 118,
     "metadata": {},
     "output_type": "execute_result"
    }
   ],
   "source": [
    "int(a) # Converting float to int datatype"
   ]
  },
  {
   "cell_type": "code",
   "execution_count": 120,
   "id": "5468ff1c-6b0d-4c48-a96d-69593e5803fe",
   "metadata": {},
   "outputs": [
    {
     "data": {
      "text/plain": [
       "True"
      ]
     },
     "execution_count": 120,
     "metadata": {},
     "output_type": "execute_result"
    }
   ],
   "source": [
    "bool(a) # Converting float to bool datatype"
   ]
  },
  {
   "cell_type": "code",
   "execution_count": 124,
   "id": "f983f786-6955-4334-9362-f1d865b91caf",
   "metadata": {},
   "outputs": [
    {
     "data": {
      "text/plain": [
       "'10.7'"
      ]
     },
     "execution_count": 124,
     "metadata": {},
     "output_type": "execute_result"
    }
   ],
   "source": [
    "str(a) # Converting float to string datatype"
   ]
  },
  {
   "cell_type": "code",
   "execution_count": 126,
   "id": "6e88bbd1-be6d-43a6-b9ff-381a4812860a",
   "metadata": {},
   "outputs": [],
   "source": [
    "a1 = 0"
   ]
  },
  {
   "cell_type": "code",
   "execution_count": 134,
   "id": "cc8b7a5c-f544-4497-aa47-075c91f67d87",
   "metadata": {},
   "outputs": [
    {
     "data": {
      "text/plain": [
       "int"
      ]
     },
     "execution_count": 134,
     "metadata": {},
     "output_type": "execute_result"
    }
   ],
   "source": [
    "type(a1)"
   ]
  },
  {
   "cell_type": "code",
   "execution_count": 140,
   "id": "23ad4c5f-0791-4ffb-ba1d-f9a255a4832c",
   "metadata": {},
   "outputs": [
    {
     "data": {
      "text/plain": [
       "False"
      ]
     },
     "execution_count": 140,
     "metadata": {},
     "output_type": "execute_result"
    }
   ],
   "source": [
    "bool(a1) # Converting int to bool datatype"
   ]
  },
  {
   "cell_type": "code",
   "execution_count": 138,
   "id": "165300f2-3c73-40c4-87b9-58cd60cbb18c",
   "metadata": {},
   "outputs": [
    {
     "data": {
      "text/plain": [
       "'0'"
      ]
     },
     "execution_count": 138,
     "metadata": {},
     "output_type": "execute_result"
    }
   ],
   "source": [
    "str(a1) # Converting int to string datatype"
   ]
  },
  {
   "cell_type": "code",
   "execution_count": 136,
   "id": "d4fa0c90-aa29-4755-b21b-283e3cd514bd",
   "metadata": {},
   "outputs": [
    {
     "data": {
      "text/plain": [
       "0.0"
      ]
     },
     "execution_count": 136,
     "metadata": {},
     "output_type": "execute_result"
    }
   ],
   "source": [
    "float(a1) # Converting int to float datatype"
   ]
  },
  {
   "cell_type": "code",
   "execution_count": 142,
   "id": "b2ad8f56-ae67-4457-bcf7-6cff59b917ae",
   "metadata": {},
   "outputs": [],
   "source": [
    "a2 = \"Bhavik\""
   ]
  },
  {
   "cell_type": "code",
   "execution_count": 144,
   "id": "ab2cde5f-0fd1-4d73-bf6e-0904a312efb2",
   "metadata": {},
   "outputs": [
    {
     "data": {
      "text/plain": [
       "str"
      ]
     },
     "execution_count": 144,
     "metadata": {},
     "output_type": "execute_result"
    }
   ],
   "source": [
    "type(a2)"
   ]
  },
  {
   "cell_type": "code",
   "execution_count": 146,
   "id": "2dbc0171-8be6-4565-9deb-ed59503e6154",
   "metadata": {},
   "outputs": [
    {
     "ename": "ValueError",
     "evalue": "could not convert string to float: 'Bhavik'",
     "output_type": "error",
     "traceback": [
      "\u001b[1;31m---------------------------------------------------------------------------\u001b[0m",
      "\u001b[1;31mValueError\u001b[0m                                Traceback (most recent call last)",
      "Cell \u001b[1;32mIn[146], line 1\u001b[0m\n\u001b[1;32m----> 1\u001b[0m \u001b[38;5;28;43mfloat\u001b[39;49m\u001b[43m(\u001b[49m\u001b[43ma2\u001b[49m\u001b[43m)\u001b[49m \u001b[38;5;66;03m# Converting str to float datatype\u001b[39;00m\n",
      "\u001b[1;31mValueError\u001b[0m: could not convert string to float: 'Bhavik'"
     ]
    }
   ],
   "source": [
    "float(a2) # Converting str to float datatype"
   ]
  },
  {
   "cell_type": "code",
   "execution_count": 154,
   "id": "29b0adc3-3643-45c0-a15f-365264e29a5c",
   "metadata": {},
   "outputs": [
    {
     "ename": "ValueError",
     "evalue": "invalid literal for int() with base 10: 'Bhavik'",
     "output_type": "error",
     "traceback": [
      "\u001b[1;31m---------------------------------------------------------------------------\u001b[0m",
      "\u001b[1;31mValueError\u001b[0m                                Traceback (most recent call last)",
      "Cell \u001b[1;32mIn[154], line 1\u001b[0m\n\u001b[1;32m----> 1\u001b[0m \u001b[38;5;28;43mint\u001b[39;49m\u001b[43m(\u001b[49m\u001b[43ma2\u001b[49m\u001b[43m)\u001b[49m \u001b[38;5;66;03m# Converting str to int datatype\u001b[39;00m\n",
      "\u001b[1;31mValueError\u001b[0m: invalid literal for int() with base 10: 'Bhavik'"
     ]
    }
   ],
   "source": [
    "int(a2) # Converting str to int datatype"
   ]
  },
  {
   "cell_type": "code",
   "execution_count": 152,
   "id": "95d08e7c-bd18-4316-a760-de0971bc672b",
   "metadata": {},
   "outputs": [
    {
     "data": {
      "text/plain": [
       "True"
      ]
     },
     "execution_count": 152,
     "metadata": {},
     "output_type": "execute_result"
    }
   ],
   "source": [
    "bool(a2) # Converting str to bool datatype"
   ]
  },
  {
   "cell_type": "markdown",
   "id": "abb68850-428c-4f40-9b54-3cb2fd02315c",
   "metadata": {},
   "source": [
    "# Arithmetic Operators"
   ]
  },
  {
   "cell_type": "markdown",
   "id": "495af4c2-7b97-4e48-b6f9-fef69b2cd91d",
   "metadata": {},
   "source": [
    "* Addition +\n",
    "* Subtraction -\n",
    "* Multiple *\n",
    "* Divide /\n",
    "* floor divide //\n",
    "* remainder %\n",
    "* Power **"
   ]
  },
  {
   "cell_type": "markdown",
   "id": "6137dd4e-ef09-413f-96bc-ac600a140369",
   "metadata": {},
   "source": [
    "### Concatenate str using + operator"
   ]
  },
  {
   "cell_type": "code",
   "execution_count": 170,
   "id": "e193d3f6-c1f3-4faf-88dc-6c81da848b1c",
   "metadata": {},
   "outputs": [],
   "source": [
    "str01 = \"Laptop Price\""
   ]
  },
  {
   "cell_type": "code",
   "execution_count": 172,
   "id": "6c8aee67-5adb-4141-9d71-2718d708043b",
   "metadata": {},
   "outputs": [],
   "source": [
    "str02 = \"50K\""
   ]
  },
  {
   "cell_type": "code",
   "execution_count": 174,
   "id": "462fc919-743e-4dd5-929e-fd65a713fbe1",
   "metadata": {},
   "outputs": [
    {
     "data": {
      "text/plain": [
       "'Laptop Price 50K'"
      ]
     },
     "execution_count": 174,
     "metadata": {},
     "output_type": "execute_result"
    }
   ],
   "source": [
    "str01 + \" \" + str02"
   ]
  },
  {
   "cell_type": "markdown",
   "id": "5118741d-adab-46fc-9269-7dcee55be73d",
   "metadata": {},
   "source": [
    "## Addition"
   ]
  },
  {
   "cell_type": "code",
   "execution_count": 180,
   "id": "20d5dfd1-c019-400f-a710-1e1447ca32ba",
   "metadata": {},
   "outputs": [],
   "source": [
    "n1 = 5"
   ]
  },
  {
   "cell_type": "code",
   "execution_count": 182,
   "id": "76fd361e-9ffc-4bd1-9dfc-12cc72f6ddd6",
   "metadata": {},
   "outputs": [],
   "source": [
    "n2 = 10"
   ]
  },
  {
   "cell_type": "code",
   "execution_count": 184,
   "id": "847c843b-be87-4e51-ad44-cfc7beb8628f",
   "metadata": {},
   "outputs": [
    {
     "data": {
      "text/plain": [
       "15"
      ]
     },
     "execution_count": 184,
     "metadata": {},
     "output_type": "execute_result"
    }
   ],
   "source": [
    "n1 + n2 "
   ]
  },
  {
   "cell_type": "markdown",
   "id": "cde3b3ff-60fe-43ca-ab7c-7a8f1bbdc0db",
   "metadata": {},
   "source": [
    "# Comparison Operators"
   ]
  },
  {
   "cell_type": "markdown",
   "id": "c4611d7c-3114-490b-9200-a7694ca104d5",
   "metadata": {},
   "source": [
    "* Equal to ==\n",
    "* Not Equal to !=\n",
    "* Greater than or equal to >=\n",
    "* Less than and equal to <=\n",
    "* greater than >\n",
    "* less than <"
   ]
  },
  {
   "cell_type": "code",
   "execution_count": 200,
   "id": "5b343df4-c859-45e2-8c56-7140ceb94c82",
   "metadata": {},
   "outputs": [],
   "source": [
    "x = 30\n",
    "y = 11"
   ]
  },
  {
   "cell_type": "code",
   "execution_count": 202,
   "id": "f147cc1f-64f4-4ab8-88a1-450e803ef99c",
   "metadata": {},
   "outputs": [
    {
     "name": "stdout",
     "output_type": "stream",
     "text": [
      "Is x less than y :-  False\n",
      "Is x greater than y :-  True\n",
      "Is x lesser than or equal to y :-  False\n",
      "Is x greater than or equal to y :-  True\n",
      "Is x equal to y :-  False\n",
      "Is x not equal to y :-  True\n"
     ]
    }
   ],
   "source": [
    "print('Is x less than y :- ', x < y)\n",
    "print('Is x greater than y :- ', x > y)\n",
    "print('Is x lesser than or equal to y :- ', x <= y)\n",
    "print('Is x greater than or equal to y :- ', x >= y)\n",
    "print('Is x equal to y :- ', x == y)\n",
    "print('Is x not equal to y :- ', x != y)"
   ]
  },
  {
   "cell_type": "markdown",
   "id": "0f4c1246-62df-4585-8826-1228bc9a2c18",
   "metadata": {},
   "source": [
    "# Let's do it on string"
   ]
  },
  {
   "cell_type": "code",
   "execution_count": 219,
   "id": "a697c2ef-dc22-4e1e-8481-6801f6719749",
   "metadata": {},
   "outputs": [],
   "source": [
    "a = \"Data\"\n",
    "b = \"science\"\n",
    "c = \"data\"\n",
    "d = \"Data\""
   ]
  },
  {
   "cell_type": "code",
   "execution_count": 221,
   "id": "5ea9a7df-4be4-4079-86b1-e5370ce85e29",
   "metadata": {},
   "outputs": [
    {
     "data": {
      "text/plain": [
       "False"
      ]
     },
     "execution_count": 221,
     "metadata": {},
     "output_type": "execute_result"
    }
   ],
   "source": [
    "a == b"
   ]
  },
  {
   "cell_type": "code",
   "execution_count": 223,
   "id": "e152e37d-2d34-412e-be9c-b98b9e753eb0",
   "metadata": {},
   "outputs": [
    {
     "data": {
      "text/plain": [
       "False"
      ]
     },
     "execution_count": 223,
     "metadata": {},
     "output_type": "execute_result"
    }
   ],
   "source": [
    "a == c"
   ]
  },
  {
   "cell_type": "code",
   "execution_count": 225,
   "id": "fd3b545b-6746-42c9-b58a-cd4149dcb2ba",
   "metadata": {},
   "outputs": [
    {
     "data": {
      "text/plain": [
       "True"
      ]
     },
     "execution_count": 225,
     "metadata": {},
     "output_type": "execute_result"
    }
   ],
   "source": [
    "a != b"
   ]
  },
  {
   "cell_type": "code",
   "execution_count": 228,
   "id": "82fa77aa-3c77-421f-8fe1-16ee49f76dc5",
   "metadata": {},
   "outputs": [
    {
     "data": {
      "text/plain": [
       "True"
      ]
     },
     "execution_count": 228,
     "metadata": {},
     "output_type": "execute_result"
    }
   ],
   "source": [
    "a == d"
   ]
  },
  {
   "cell_type": "code",
   "execution_count": null,
   "id": "9b42f8e0-f144-4a2e-bcf9-27689eaaad8f",
   "metadata": {},
   "outputs": [],
   "source": []
  }
 ],
 "metadata": {
  "kernelspec": {
   "display_name": "Python 3 (ipykernel)",
   "language": "python",
   "name": "python3"
  },
  "language_info": {
   "codemirror_mode": {
    "name": "ipython",
    "version": 3
   },
   "file_extension": ".py",
   "mimetype": "text/x-python",
   "name": "python",
   "nbconvert_exporter": "python",
   "pygments_lexer": "ipython3",
   "version": "3.12.4"
  }
 },
 "nbformat": 4,
 "nbformat_minor": 5
}
