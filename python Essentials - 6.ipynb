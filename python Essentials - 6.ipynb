{
 "cells": [
  {
   "cell_type": "markdown",
   "id": "c939fb18-6292-4280-b41e-dd5378800614",
   "metadata": {},
   "source": [
    "# Data Structures"
   ]
  },
  {
   "cell_type": "markdown",
   "id": "346f0d48-3bd1-495f-bced-4f4311dc64f5",
   "metadata": {},
   "source": [
    "* It's a way where we can organise or store data. So it is easy to access or read data and easy to manipulate that data"
   ]
  },
  {
   "cell_type": "code",
   "execution_count": 31,
   "id": "a4d8ddd8-141d-4035-aca5-62c4f94bb9f6",
   "metadata": {},
   "outputs": [],
   "source": [
    "# temperature of 5 days\n",
    "day1 = 32\n",
    "day2 = 33.3\n",
    "day3 = 31\n",
    "day4 = 30\n",
    "day5 = 29"
   ]
  },
  {
   "cell_type": "code",
   "execution_count": 33,
   "id": "b98c830f-d165-426a-bb58-009b091c1a19",
   "metadata": {},
   "outputs": [
    {
     "data": {
      "text/plain": [
       "29"
      ]
     },
     "execution_count": 33,
     "metadata": {},
     "output_type": "execute_result"
    }
   ],
   "source": [
    "day5"
   ]
  },
  {
   "cell_type": "code",
   "execution_count": 35,
   "id": "33a3038c-4269-46b6-bae1-4edc88cf0b5b",
   "metadata": {},
   "outputs": [
    {
     "data": {
      "text/plain": [
       "31"
      ]
     },
     "execution_count": 35,
     "metadata": {},
     "output_type": "execute_result"
    }
   ],
   "source": [
    "day3"
   ]
  },
  {
   "cell_type": "markdown",
   "id": "fafe37d6-56fd-4092-b194-3b1cf6642875",
   "metadata": {},
   "source": [
    "# Types of Data Structure\n",
    "* List\n",
    "* Tuple\n",
    "* Sets\n",
    "* Dictionary\n",
    "* String"
   ]
  },
  {
   "cell_type": "markdown",
   "id": "afaa2079-6f02-46ae-ac26-d05682fbae16",
   "metadata": {},
   "source": [
    "# Definition of List\n",
    "* List is a way where we can store any type of elements or value.\n",
    "* It is created by square bracket.\n",
    "* It follows order.\n",
    "* It is Mutable"
   ]
  },
  {
   "cell_type": "code",
   "execution_count": 41,
   "id": "098709cd-3ea8-4977-816f-ff6dd689488c",
   "metadata": {},
   "outputs": [],
   "source": [
    "list1 = [12,31,23,23,32,87,\"Rohit\",True,\"Lords\"]"
   ]
  },
  {
   "cell_type": "code",
   "execution_count": 43,
   "id": "a0d749e0-ba5e-414d-8e87-76d485a7e7c1",
   "metadata": {},
   "outputs": [
    {
     "data": {
      "text/plain": [
       "list"
      ]
     },
     "execution_count": 43,
     "metadata": {},
     "output_type": "execute_result"
    }
   ],
   "source": [
    "type(list1)"
   ]
  },
  {
   "cell_type": "code",
   "execution_count": 45,
   "id": "661cc8da-7392-4b26-9688-83f15596116b",
   "metadata": {},
   "outputs": [
    {
     "name": "stdout",
     "output_type": "stream",
     "text": [
      "[12, 31, 23, 23, 32, 87, 'Rohit', True, 'Lords']\n"
     ]
    }
   ],
   "source": [
    "print(list1)"
   ]
  },
  {
   "cell_type": "code",
   "execution_count": 47,
   "id": "0e6085a1-941d-463d-a149-fad21e4fdfa3",
   "metadata": {},
   "outputs": [
    {
     "data": {
      "text/plain": [
       "[12, 31, 23, 23, 32, 87, 'Rohit', True, 'Lords']"
      ]
     },
     "execution_count": 47,
     "metadata": {},
     "output_type": "execute_result"
    }
   ],
   "source": [
    "list1"
   ]
  },
  {
   "cell_type": "code",
   "execution_count": 48,
   "id": "e11ef703-df35-413c-b011-990c1e3f424a",
   "metadata": {},
   "outputs": [
    {
     "data": {
      "text/plain": [
       "23"
      ]
     },
     "execution_count": 48,
     "metadata": {},
     "output_type": "execute_result"
    }
   ],
   "source": [
    "list1[3]"
   ]
  },
  {
   "cell_type": "code",
   "execution_count": 50,
   "id": "93f19542-b9f2-4279-b4fc-e6e2b918b7cb",
   "metadata": {},
   "outputs": [],
   "source": [
    "list1[4] = 4 "
   ]
  },
  {
   "cell_type": "code",
   "execution_count": 52,
   "id": "25624dc1-a8a7-47bd-be4a-9e6a48238cce",
   "metadata": {},
   "outputs": [
    {
     "name": "stdout",
     "output_type": "stream",
     "text": [
      "1 th element => 12\n",
      "2 th element => 31\n",
      "3 th element => 23\n",
      "4 th element => 23\n",
      "5 th element => 4\n",
      "6 th element => 87\n",
      "7 th element => Rohit\n",
      "8 th element => True\n",
      "9 th element => Lords\n"
     ]
    }
   ],
   "source": [
    "count = 0\n",
    "for i in list1:\n",
    "    count += 1\n",
    "    print(count,\"th element\", \"=>\",i)"
   ]
  },
  {
   "cell_type": "code",
   "execution_count": 53,
   "id": "85fe787d-bb07-4bd3-97b7-99ffb932ffe6",
   "metadata": {},
   "outputs": [],
   "source": [
    "list1.insert(2,\"raju\") # used to add one element at any particular index"
   ]
  },
  {
   "cell_type": "code",
   "execution_count": 55,
   "id": "b092d0dd-f631-4ad0-a0e5-3c925036daf5",
   "metadata": {},
   "outputs": [
    {
     "data": {
      "text/plain": [
       "[12, 31, 'raju', 23, 23, 4, 87, 'Rohit', True, 'Lords']"
      ]
     },
     "execution_count": 55,
     "metadata": {},
     "output_type": "execute_result"
    }
   ],
   "source": [
    "list1"
   ]
  },
  {
   "cell_type": "code",
   "execution_count": 56,
   "id": "1a36e2ae-d2c2-4add-aef5-97bf477ddee2",
   "metadata": {},
   "outputs": [],
   "source": [
    "list1.append(100) # used to add one element at last index"
   ]
  },
  {
   "cell_type": "code",
   "execution_count": 58,
   "id": "64e5fce2-f609-4849-91fc-e93e34a135d6",
   "metadata": {},
   "outputs": [
    {
     "data": {
      "text/plain": [
       "[12, 31, 'raju', 23, 23, 4, 87, 'Rohit', True, 'Lords', 100]"
      ]
     },
     "execution_count": 58,
     "metadata": {},
     "output_type": "execute_result"
    }
   ],
   "source": [
    "list1"
   ]
  },
  {
   "cell_type": "code",
   "execution_count": 60,
   "id": "9f607cc1-fb23-4b09-b072-9d91b15c5908",
   "metadata": {},
   "outputs": [],
   "source": [
    "list1.extend([101,102,103,104]) # used to add multiple element at last index"
   ]
  },
  {
   "cell_type": "code",
   "execution_count": 63,
   "id": "e02211cc-c667-47f7-b405-22ceede94c2e",
   "metadata": {},
   "outputs": [
    {
     "data": {
      "text/plain": [
       "[12,\n",
       " 31,\n",
       " 'raju',\n",
       " 23,\n",
       " 23,\n",
       " 4,\n",
       " 87,\n",
       " 'Rohit',\n",
       " True,\n",
       " 'Lords',\n",
       " 100,\n",
       " 101,\n",
       " 102,\n",
       " 103,\n",
       " 104]"
      ]
     },
     "execution_count": 63,
     "metadata": {},
     "output_type": "execute_result"
    }
   ],
   "source": [
    "list1"
   ]
  },
  {
   "cell_type": "code",
   "execution_count": 65,
   "id": "fa56a526-b5c8-40e7-8260-fb402cac1f69",
   "metadata": {},
   "outputs": [],
   "source": [
    "list1.remove(\"Rohit\") # used to remove any element"
   ]
  },
  {
   "cell_type": "code",
   "execution_count": 66,
   "id": "be13362d-e708-4be9-a5df-59d43b42f0c3",
   "metadata": {},
   "outputs": [
    {
     "data": {
      "text/plain": [
       "[12, 31, 'raju', 23, 23, 4, 87, True, 'Lords', 100, 101, 102, 103, 104]"
      ]
     },
     "execution_count": 66,
     "metadata": {},
     "output_type": "execute_result"
    }
   ],
   "source": [
    "list1"
   ]
  },
  {
   "cell_type": "code",
   "execution_count": 68,
   "id": "e5b3afba-12b3-418e-92fe-6d0552dee66c",
   "metadata": {},
   "outputs": [],
   "source": [
    "list1.clear() # used to delete all elements from list and make it clear"
   ]
  },
  {
   "cell_type": "code",
   "execution_count": 69,
   "id": "8a10477f-eef2-4b0c-8bc3-29d5729fb2d5",
   "metadata": {},
   "outputs": [
    {
     "data": {
      "text/plain": [
       "[]"
      ]
     },
     "execution_count": 69,
     "metadata": {},
     "output_type": "execute_result"
    }
   ],
   "source": [
    "list1"
   ]
  },
  {
   "cell_type": "code",
   "execution_count": 71,
   "id": "361226c1-bc7e-4d99-ae3d-64ebab02bbf8",
   "metadata": {},
   "outputs": [],
   "source": [
    "list1.append(3)"
   ]
  },
  {
   "cell_type": "code",
   "execution_count": 73,
   "id": "c692de6d-394f-4ab1-92f8-2f907bad0f96",
   "metadata": {},
   "outputs": [
    {
     "data": {
      "text/plain": [
       "[3]"
      ]
     },
     "execution_count": 73,
     "metadata": {},
     "output_type": "execute_result"
    }
   ],
   "source": [
    "list1"
   ]
  },
  {
   "cell_type": "code",
   "execution_count": 75,
   "id": "7e5493fb-48ae-4d23-a832-de19ee559890",
   "metadata": {},
   "outputs": [],
   "source": [
    "list2 = [10,20,30,100,300,400,11,21,2,2,4]"
   ]
  },
  {
   "cell_type": "code",
   "execution_count": 76,
   "id": "e0ed5bd1-e76b-455b-80c9-2b02d3d80bf1",
   "metadata": {},
   "outputs": [
    {
     "data": {
      "text/plain": [
       "[10, 20, 30, 100, 300, 400, 11, 21, 2, 2, 4]"
      ]
     },
     "execution_count": 76,
     "metadata": {},
     "output_type": "execute_result"
    }
   ],
   "source": [
    "list2"
   ]
  },
  {
   "cell_type": "code",
   "execution_count": 78,
   "id": "42f68246-7659-4de0-bbc2-e3dacec680bb",
   "metadata": {},
   "outputs": [],
   "source": [
    "list2.sort()"
   ]
  },
  {
   "cell_type": "code",
   "execution_count": 80,
   "id": "584cb59b-3747-4cf8-996f-45b3cfdea253",
   "metadata": {},
   "outputs": [
    {
     "data": {
      "text/plain": [
       "[2, 2, 4, 10, 11, 20, 21, 30, 100, 300, 400]"
      ]
     },
     "execution_count": 80,
     "metadata": {},
     "output_type": "execute_result"
    }
   ],
   "source": [
    "list2"
   ]
  },
  {
   "cell_type": "code",
   "execution_count": 82,
   "id": "e2f2b77d-f729-4084-a665-c34c9977eb09",
   "metadata": {},
   "outputs": [],
   "source": [
    "list2.sort(reverse = True)"
   ]
  },
  {
   "cell_type": "code",
   "execution_count": 84,
   "id": "3aee1f7d-cb70-4aa6-af9a-31e367f59f3f",
   "metadata": {},
   "outputs": [
    {
     "data": {
      "text/plain": [
       "[400, 300, 100, 30, 21, 20, 11, 10, 4, 2, 2]"
      ]
     },
     "execution_count": 84,
     "metadata": {},
     "output_type": "execute_result"
    }
   ],
   "source": [
    "list2"
   ]
  },
  {
   "cell_type": "code",
   "execution_count": 85,
   "id": "5839d2e1-b02c-47b9-9dd7-c354742e35df",
   "metadata": {},
   "outputs": [],
   "source": [
    "list3 = [1,2,3, [4,3,6,7], [10, [12, [20, [32]]]]]"
   ]
  },
  {
   "cell_type": "code",
   "execution_count": 87,
   "id": "9f56cb12-0981-4487-a2e9-0b8218f6674d",
   "metadata": {},
   "outputs": [
    {
     "data": {
      "text/plain": [
       "[1, 2, 3, [4, 3, 6, 7], [10, [12, [20, [32]]]]]"
      ]
     },
     "execution_count": 87,
     "metadata": {},
     "output_type": "execute_result"
    }
   ],
   "source": [
    "list3"
   ]
  },
  {
   "cell_type": "code",
   "execution_count": 89,
   "id": "1279e5d6-6027-49e7-b3aa-b00c4b9f3ac7",
   "metadata": {},
   "outputs": [
    {
     "data": {
      "text/plain": [
       "[]"
      ]
     },
     "execution_count": 89,
     "metadata": {},
     "output_type": "execute_result"
    }
   ],
   "source": [
    "list3[3:2:1]"
   ]
  },
  {
   "cell_type": "code",
   "execution_count": 91,
   "id": "cacb80c6-5bf1-44bd-a7ce-64024f57fd21",
   "metadata": {},
   "outputs": [
    {
     "data": {
      "text/plain": [
       "[3]"
      ]
     },
     "execution_count": 91,
     "metadata": {},
     "output_type": "execute_result"
    }
   ],
   "source": [
    "list3[2:3:1]"
   ]
  },
  {
   "cell_type": "code",
   "execution_count": 93,
   "id": "3f717726-8d4c-4546-94ec-3afde7349482",
   "metadata": {},
   "outputs": [
    {
     "data": {
      "text/plain": [
       "[3, [4, 3, 6, 7]]"
      ]
     },
     "execution_count": 93,
     "metadata": {},
     "output_type": "execute_result"
    }
   ],
   "source": [
    "list3[2:4:1]"
   ]
  },
  {
   "cell_type": "code",
   "execution_count": 95,
   "id": "4f022ccb-499a-425f-b5db-28dfe6635fd1",
   "metadata": {},
   "outputs": [
    {
     "data": {
      "text/plain": [
       "[3, [4, 3, 6, 7], [10, [12, [20, [32]]]]]"
      ]
     },
     "execution_count": 95,
     "metadata": {},
     "output_type": "execute_result"
    }
   ],
   "source": [
    "list3[2:5:1]"
   ]
  },
  {
   "cell_type": "code",
   "execution_count": 96,
   "id": "cd2bb6da-aad7-443d-8981-63558b7ac0d7",
   "metadata": {},
   "outputs": [
    {
     "data": {
      "text/plain": [
       "[32]"
      ]
     },
     "execution_count": 96,
     "metadata": {},
     "output_type": "execute_result"
    }
   ],
   "source": [
    "list3[4][1][1][1]"
   ]
  },
  {
   "cell_type": "markdown",
   "id": "d6f0aa3a-e50b-4603-a416-87e1f9428683",
   "metadata": {},
   "source": [
    "# Tuples"
   ]
  },
  {
   "cell_type": "markdown",
   "id": "3bf28228-9b99-44c1-a2b3-d8f6a9a1e24c",
   "metadata": {},
   "source": [
    "* It's a way where we can organise or store an element or values.\n",
    "* Once we created a tuple we can't change values of tuples\n",
    "* We can't replace, add, update and delete values of tuples after created."
   ]
  },
  {
   "cell_type": "code",
   "execution_count": 112,
   "id": "3ca15c9c-be0d-468c-9b66-cf642fc7fa14",
   "metadata": {},
   "outputs": [],
   "source": [
    "tup = ()"
   ]
  },
  {
   "cell_type": "code",
   "execution_count": 114,
   "id": "c114e350-3513-4e91-a411-1bfa2be0aa0b",
   "metadata": {},
   "outputs": [
    {
     "data": {
      "text/plain": [
       "tuple"
      ]
     },
     "execution_count": 114,
     "metadata": {},
     "output_type": "execute_result"
    }
   ],
   "source": [
    "type(tup)"
   ]
  },
  {
   "cell_type": "code",
   "execution_count": 116,
   "id": "1f8e3aaa-e196-476a-be3c-10c3e5972d0b",
   "metadata": {},
   "outputs": [],
   "source": [
    "tup = (1,2,3,4,2,5,6,6,7)"
   ]
  },
  {
   "cell_type": "code",
   "execution_count": 118,
   "id": "085db4db-bad8-412f-91ee-43feeac117d9",
   "metadata": {},
   "outputs": [
    {
     "data": {
      "text/plain": [
       "(1, 2, 3, 4, 2, 5, 6, 6, 7)"
      ]
     },
     "execution_count": 118,
     "metadata": {},
     "output_type": "execute_result"
    }
   ],
   "source": [
    "tup"
   ]
  },
  {
   "cell_type": "code",
   "execution_count": 122,
   "id": "642e05d0-effd-4112-8778-d0f25dbafc5c",
   "metadata": {},
   "outputs": [],
   "source": [
    "tup1 = (\"Hello\", 1,2,3,1) # multiple data types of element can be stored"
   ]
  },
  {
   "cell_type": "code",
   "execution_count": 130,
   "id": "eb37f8b4-0350-4c57-a9c8-f4352ebad1f0",
   "metadata": {},
   "outputs": [],
   "source": [
    "tup2 = (10,20,30) # Tuple of integer Numbers"
   ]
  },
  {
   "cell_type": "code",
   "execution_count": 132,
   "id": "d4c72e60-808e-4d05-965c-ff8fbccf0b49",
   "metadata": {},
   "outputs": [
    {
     "data": {
      "text/plain": [
       "(10, 20, 30)"
      ]
     },
     "execution_count": 132,
     "metadata": {},
     "output_type": "execute_result"
    }
   ],
   "source": [
    "tup2"
   ]
  },
  {
   "cell_type": "code",
   "execution_count": 134,
   "id": "52694bfe-9942-4af9-a783-c8fe3db0ddb5",
   "metadata": {},
   "outputs": [],
   "source": [
    "tup3 = (10.77,30.66,66.34) # Tuple of float Numbers"
   ]
  },
  {
   "cell_type": "code",
   "execution_count": 140,
   "id": "71856b69-cd1e-47cf-b9ec-8008a50a175c",
   "metadata": {},
   "outputs": [],
   "source": [
    "tup4 = (\"one\", \"two\", \"three\") # Tuple of string"
   ]
  },
  {
   "cell_type": "code",
   "execution_count": 142,
   "id": "5e593095-e738-4cd8-8b73-872941112e78",
   "metadata": {},
   "outputs": [
    {
     "data": {
      "text/plain": [
       "('one', 'two', 'three')"
      ]
     },
     "execution_count": 142,
     "metadata": {},
     "output_type": "execute_result"
    }
   ],
   "source": [
    "tup4"
   ]
  },
  {
   "cell_type": "code",
   "execution_count": 144,
   "id": "fb7f75ba-3058-4f53-8bb2-0f23f6bf0915",
   "metadata": {},
   "outputs": [],
   "source": [
    "tup5 = (10,20,30, [30,40], [20,30], (100,200)) # Nested Tuples"
   ]
  },
  {
   "cell_type": "code",
   "execution_count": 235,
   "id": "f49d869b-7054-413f-8f17-6efa695b4d58",
   "metadata": {},
   "outputs": [
    {
     "data": {
      "text/plain": [
       "1"
      ]
     },
     "execution_count": 235,
     "metadata": {},
     "output_type": "execute_result"
    }
   ],
   "source": [
    "tup5[4].count(20)"
   ]
  },
  {
   "cell_type": "code",
   "execution_count": 189,
   "id": "01fee36d-679d-4051-b60a-e64c0cb54c26",
   "metadata": {},
   "outputs": [],
   "source": [
    "tup6 = (100, 'Data', 17.65) # Tuples of mixed data types"
   ]
  },
  {
   "cell_type": "markdown",
   "id": "23a2f9a3-6adc-4dca-a441-ad165a90cefc",
   "metadata": {},
   "source": [
    "# Tuple Indexing"
   ]
  },
  {
   "cell_type": "code",
   "execution_count": 153,
   "id": "1419c3fd-57f2-4b18-a5d5-e0b16d497747",
   "metadata": {},
   "outputs": [
    {
     "data": {
      "text/plain": [
       "17.65"
      ]
     },
     "execution_count": 153,
     "metadata": {},
     "output_type": "execute_result"
    }
   ],
   "source": [
    "tup6[2]"
   ]
  },
  {
   "cell_type": "code",
   "execution_count": 155,
   "id": "1c2ce355-e890-4ec1-86f8-4b94c8db873a",
   "metadata": {},
   "outputs": [
    {
     "data": {
      "text/plain": [
       "('Data', 17.65)"
      ]
     },
     "execution_count": 155,
     "metadata": {},
     "output_type": "execute_result"
    }
   ],
   "source": [
    "tup6[1:4]"
   ]
  },
  {
   "cell_type": "code",
   "execution_count": 157,
   "id": "06fbdaaa-4c68-4197-b433-469d45d0e2d8",
   "metadata": {},
   "outputs": [
    {
     "data": {
      "text/plain": [
       "100"
      ]
     },
     "execution_count": 157,
     "metadata": {},
     "output_type": "execute_result"
    }
   ],
   "source": [
    "tup6[0]"
   ]
  },
  {
   "cell_type": "code",
   "execution_count": 163,
   "id": "bf7a211b-276d-4390-925d-6d8d795b2307",
   "metadata": {},
   "outputs": [
    {
     "ename": "TypeError",
     "evalue": "'tuple' object does not support item assignment",
     "output_type": "error",
     "traceback": [
      "\u001b[1;31m---------------------------------------------------------------------------\u001b[0m",
      "\u001b[1;31mTypeError\u001b[0m                                 Traceback (most recent call last)",
      "Cell \u001b[1;32mIn[163], line 1\u001b[0m\n\u001b[1;32m----> 1\u001b[0m tup6[\u001b[38;5;241m0\u001b[39m] \u001b[38;5;241m=\u001b[39m \u001b[38;5;124m\"\u001b[39m\u001b[38;5;124mJohn\u001b[39m\u001b[38;5;124m\"\u001b[39m\n",
      "\u001b[1;31mTypeError\u001b[0m: 'tuple' object does not support item assignment"
     ]
    }
   ],
   "source": [
    "tup6[0] = \"John\" # They are Immutable nor we can delete items"
   ]
  },
  {
   "cell_type": "code",
   "execution_count": 179,
   "id": "b65bac6d-ffde-4074-9b94-67a0cde79dc8",
   "metadata": {},
   "outputs": [],
   "source": [
    "tup5[3][1] = 50 # changing element of list in tuple it is possible as list in=s present in tuple"
   ]
  },
  {
   "cell_type": "code",
   "execution_count": 181,
   "id": "1c16472e-0efc-4dae-9e09-b1fab56961a8",
   "metadata": {},
   "outputs": [
    {
     "data": {
      "text/plain": [
       "1"
      ]
     },
     "execution_count": 181,
     "metadata": {},
     "output_type": "execute_result"
    }
   ],
   "source": [
    "tup5.count(20)"
   ]
  },
  {
   "cell_type": "code",
   "execution_count": 231,
   "id": "9929ade9-816d-4f08-a44d-5a499d0b2248",
   "metadata": {},
   "outputs": [
    {
     "ename": "SyntaxError",
     "evalue": "invalid syntax (2779282979.py, line 1)",
     "output_type": "error",
     "traceback": [
      "\u001b[1;36m  Cell \u001b[1;32mIn[231], line 1\u001b[1;36m\u001b[0m\n\u001b[1;33m    tup5[]\u001b[0m\n\u001b[1;37m         ^\u001b[0m\n\u001b[1;31mSyntaxError\u001b[0m\u001b[1;31m:\u001b[0m invalid syntax\n"
     ]
    }
   ],
   "source": [
    "tup5[]"
   ]
  },
  {
   "cell_type": "code",
   "execution_count": 185,
   "id": "2b12782e-4e1b-4537-bb38-c9192ec5c3ca",
   "metadata": {},
   "outputs": [],
   "source": [
    "del tup6"
   ]
  },
  {
   "cell_type": "code",
   "execution_count": 193,
   "id": "e0fffc36-7dbf-46cb-9268-e5bd4f232c07",
   "metadata": {},
   "outputs": [
    {
     "data": {
      "text/plain": [
       "1"
      ]
     },
     "execution_count": 193,
     "metadata": {},
     "output_type": "execute_result"
    }
   ],
   "source": [
    "tup6.index(\"Data\")"
   ]
  },
  {
   "cell_type": "markdown",
   "id": "84283826-c34b-4481-b18d-a6e3c4d18fa3",
   "metadata": {},
   "source": [
    "# SET"
   ]
  },
  {
   "cell_type": "markdown",
   "id": "3d36587d-62d2-4bf3-a1b3-431540896bae",
   "metadata": {},
   "source": [
    "* It's a way where we can store element or values. Set is created by curly bracket.\n",
    "* It does not follows order.\n",
    "* set doesn't allows duplicate values or we can say tht it contain only unique values\n",
    "* Set is Mutable."
   ]
  },
  {
   "cell_type": "code",
   "execution_count": 197,
   "id": "2ec47147-8fd8-4b58-8ac2-ae4b83eebab6",
   "metadata": {},
   "outputs": [],
   "source": [
    "myset1 = {} # Empty set cant be created by curly braces"
   ]
  },
  {
   "cell_type": "code",
   "execution_count": 201,
   "id": "b87259d7-b638-4365-9f88-e062ccdfdd97",
   "metadata": {},
   "outputs": [
    {
     "data": {
      "text/plain": [
       "dict"
      ]
     },
     "execution_count": 201,
     "metadata": {},
     "output_type": "execute_result"
    }
   ],
   "source": [
    "type(myset1)"
   ]
  },
  {
   "cell_type": "code",
   "execution_count": 203,
   "id": "229b33f7-e033-4ffe-bab4-0dca91ce5efe",
   "metadata": {},
   "outputs": [],
   "source": [
    "myset = {1,2,3,4,5}"
   ]
  },
  {
   "cell_type": "code",
   "execution_count": 205,
   "id": "1202fe04-81ce-40f4-a9d5-c3e341d83ddf",
   "metadata": {},
   "outputs": [
    {
     "data": {
      "text/plain": [
       "{1, 2, 3, 4, 5}"
      ]
     },
     "execution_count": 205,
     "metadata": {},
     "output_type": "execute_result"
    }
   ],
   "source": [
    "myset"
   ]
  },
  {
   "cell_type": "code",
   "execution_count": 207,
   "id": "b33f9acc-fedb-4efb-871b-1e7beabffde3",
   "metadata": {},
   "outputs": [
    {
     "data": {
      "text/plain": [
       "set"
      ]
     },
     "execution_count": 207,
     "metadata": {},
     "output_type": "execute_result"
    }
   ],
   "source": [
    "type(myset)"
   ]
  },
  {
   "cell_type": "code",
   "execution_count": 209,
   "id": "4494d7dd-94f0-4113-bf54-2ad2484d1ee1",
   "metadata": {},
   "outputs": [],
   "source": [
    "myset = set() # This is the way to create an empty set"
   ]
  },
  {
   "cell_type": "code",
   "execution_count": 211,
   "id": "9b6be6e5-bbe6-4a8d-b6c0-b076f003700d",
   "metadata": {},
   "outputs": [
    {
     "data": {
      "text/plain": [
       "set"
      ]
     },
     "execution_count": 211,
     "metadata": {},
     "output_type": "execute_result"
    }
   ],
   "source": [
    "type(myset)"
   ]
  },
  {
   "cell_type": "code",
   "execution_count": 213,
   "id": "db235287-708c-4fb7-830c-d7a41584412b",
   "metadata": {},
   "outputs": [],
   "source": [
    "myset1 = {1,2,3,4,5,6}"
   ]
  },
  {
   "cell_type": "code",
   "execution_count": 215,
   "id": "4b4a4264-4408-4d23-9e80-a27edb627e44",
   "metadata": {},
   "outputs": [
    {
     "data": {
      "text/plain": [
       "6"
      ]
     },
     "execution_count": 215,
     "metadata": {},
     "output_type": "execute_result"
    }
   ],
   "source": [
    "len(myset1)"
   ]
  },
  {
   "cell_type": "code",
   "execution_count": 217,
   "id": "d49788e7-0ee9-4a47-a8af-f4b213fd84f3",
   "metadata": {},
   "outputs": [],
   "source": [
    "myset2 = {20,10,30,5}"
   ]
  },
  {
   "cell_type": "code",
   "execution_count": 225,
   "id": "c7c42e62-4af2-4e07-a106-55b4d181c232",
   "metadata": {},
   "outputs": [
    {
     "ename": "AttributeError",
     "evalue": "'set' object has no attribute 'sort'",
     "output_type": "error",
     "traceback": [
      "\u001b[1;31m---------------------------------------------------------------------------\u001b[0m",
      "\u001b[1;31mAttributeError\u001b[0m                            Traceback (most recent call last)",
      "Cell \u001b[1;32mIn[225], line 1\u001b[0m\n\u001b[1;32m----> 1\u001b[0m myset2\u001b[38;5;241m.\u001b[39msort()\n",
      "\u001b[1;31mAttributeError\u001b[0m: 'set' object has no attribute 'sort'"
     ]
    }
   ],
   "source": [
    "myset2"
   ]
  },
  {
   "cell_type": "code",
   "execution_count": 221,
   "id": "9811c8fc-bf51-43f4-b38a-ff151ba210a2",
   "metadata": {},
   "outputs": [],
   "source": [
    "my_set3 = {1,1,2,3,5,5,7,8} # Duplicate elements are not allowed "
   ]
  },
  {
   "cell_type": "code",
   "execution_count": 223,
   "id": "6109e7cf-9eee-4a5a-ab23-28a0462d9470",
   "metadata": {},
   "outputs": [
    {
     "data": {
      "text/plain": [
       "{1, 2, 3, 5, 7, 8}"
      ]
     },
     "execution_count": 223,
     "metadata": {},
     "output_type": "execute_result"
    }
   ],
   "source": [
    "my_set3"
   ]
  },
  {
   "cell_type": "code",
   "execution_count": 247,
   "id": "90e55f8c-a865-4f58-9357-d62f8f55703b",
   "metadata": {},
   "outputs": [],
   "source": [
    "my_set4 = {1,2,3,4,\"Tyrion\", True,45.6} # Mixed set of strings int and float"
   ]
  },
  {
   "cell_type": "code",
   "execution_count": 251,
   "id": "3dfc7154-da4f-42c3-8c91-1baff3bcfea4",
   "metadata": {},
   "outputs": [
    {
     "data": {
      "text/plain": [
       "{1, 2, 3, 4, 45.6, 'Tyrion'}"
      ]
     },
     "execution_count": 251,
     "metadata": {},
     "output_type": "execute_result"
    }
   ],
   "source": [
    "my_set4"
   ]
  },
  {
   "cell_type": "code",
   "execution_count": 253,
   "id": "e8b45f0e-22a7-4cd3-9412-d593bd1d57ce",
   "metadata": {},
   "outputs": [],
   "source": [
    "my_set5 = {'one', 'two', 'three'}"
   ]
  },
  {
   "cell_type": "code",
   "execution_count": 255,
   "id": "6b2213c4-336b-47d1-a411-440697878aad",
   "metadata": {},
   "outputs": [
    {
     "data": {
      "text/plain": [
       "{'one', 'three', 'two'}"
      ]
     },
     "execution_count": 255,
     "metadata": {},
     "output_type": "execute_result"
    }
   ],
   "source": [
    "my_set5"
   ]
  },
  {
   "cell_type": "code",
   "execution_count": 257,
   "id": "50b72142-709b-4a3e-9a54-3ac6864e390c",
   "metadata": {},
   "outputs": [
    {
     "ename": "TypeError",
     "evalue": "'set' object is not subscriptable",
     "output_type": "error",
     "traceback": [
      "\u001b[1;31m---------------------------------------------------------------------------\u001b[0m",
      "\u001b[1;31mTypeError\u001b[0m                                 Traceback (most recent call last)",
      "Cell \u001b[1;32mIn[257], line 1\u001b[0m\n\u001b[1;32m----> 1\u001b[0m my_set5[\u001b[38;5;241m0\u001b[39m]\n",
      "\u001b[1;31mTypeError\u001b[0m: 'set' object is not subscriptable"
     ]
    }
   ],
   "source": [
    "my_set5[0] # Indexing is not possible in sets"
   ]
  },
  {
   "cell_type": "code",
   "execution_count": 269,
   "id": "2927e504-5cc7-4a9b-8102-612235879598",
   "metadata": {},
   "outputs": [],
   "source": [
    "my_set5.add(20) # Add Item in set using add() Method"
   ]
  },
  {
   "cell_type": "code",
   "execution_count": 271,
   "id": "5af68ab5-2897-42c3-9c95-b19a21c78634",
   "metadata": {},
   "outputs": [
    {
     "data": {
      "text/plain": [
       "{20, 'Ten', 'Thirty', 'Twenty', 'one', 'three', 'two'}"
      ]
     },
     "execution_count": 271,
     "metadata": {},
     "output_type": "execute_result"
    }
   ],
   "source": [
    "my_set5"
   ]
  },
  {
   "cell_type": "code",
   "execution_count": 277,
   "id": "0421ec87-28b3-4461-a5e6-9c3060376f42",
   "metadata": {},
   "outputs": [],
   "source": [
    "my_set5.update(['Ten', 'Twenty', 'Thirty']) # Add multiple items in set using update method"
   ]
  },
  {
   "cell_type": "code",
   "execution_count": 279,
   "id": "ea3beb60-868e-4fee-bfa4-c0bacec8e653",
   "metadata": {},
   "outputs": [
    {
     "name": "stdout",
     "output_type": "stream",
     "text": [
      "{'three', 'Twenty', 'Ten', 20, 'Thirty', 'two', 'one'}\n"
     ]
    }
   ],
   "source": [
    "print(my_set5)"
   ]
  },
  {
   "cell_type": "code",
   "execution_count": 295,
   "id": "8b96b549-5f56-4cd7-a90f-1357288c3e44",
   "metadata": {},
   "outputs": [
    {
     "ename": "KeyError",
     "evalue": "'Ten'",
     "output_type": "error",
     "traceback": [
      "\u001b[1;31m---------------------------------------------------------------------------\u001b[0m",
      "\u001b[1;31mKeyError\u001b[0m                                  Traceback (most recent call last)",
      "Cell \u001b[1;32mIn[295], line 1\u001b[0m\n\u001b[1;32m----> 1\u001b[0m my_set5\u001b[38;5;241m.\u001b[39mremove(\u001b[38;5;124m'\u001b[39m\u001b[38;5;124mTen\u001b[39m\u001b[38;5;124m'\u001b[39m)\n",
      "\u001b[1;31mKeyError\u001b[0m: 'Ten'"
     ]
    }
   ],
   "source": [
    "my_set5.remove('Ten') # Removes given element"
   ]
  },
  {
   "cell_type": "code",
   "execution_count": 297,
   "id": "ac2bf1f5-8723-4f54-b687-7c6b851710be",
   "metadata": {},
   "outputs": [
    {
     "ename": "KeyError",
     "evalue": "'pop from an empty set'",
     "output_type": "error",
     "traceback": [
      "\u001b[1;31m---------------------------------------------------------------------------\u001b[0m",
      "\u001b[1;31mKeyError\u001b[0m                                  Traceback (most recent call last)",
      "Cell \u001b[1;32mIn[297], line 1\u001b[0m\n\u001b[1;32m----> 1\u001b[0m my_set5\u001b[38;5;241m.\u001b[39mpop()\n",
      "\u001b[1;31mKeyError\u001b[0m: 'pop from an empty set'"
     ]
    }
   ],
   "source": [
    "my_set5.pop() # Removes first element"
   ]
  },
  {
   "cell_type": "code",
   "execution_count": null,
   "id": "22041e16-644a-4be4-b28f-0528c9317c4b",
   "metadata": {},
   "outputs": [],
   "source": [
    "my_set5.clear() # Delete all items in a set"
   ]
  },
  {
   "cell_type": "code",
   "execution_count": null,
   "id": "9f40b1b4-9b72-4ae8-b9fd-05fc96918961",
   "metadata": {},
   "outputs": [],
   "source": [
    "my_set5"
   ]
  },
  {
   "cell_type": "code",
   "execution_count": 303,
   "id": "2e757239-291a-4102-adb3-ac37f3db4dc3",
   "metadata": {},
   "outputs": [],
   "source": [
    "A = {1,2,3,4,5}"
   ]
  },
  {
   "cell_type": "code",
   "execution_count": 313,
   "id": "4c338b3f-ef25-4865-8b74-516007a45ea0",
   "metadata": {},
   "outputs": [],
   "source": [
    "B = {5,7,8,9,10}"
   ]
  },
  {
   "cell_type": "code",
   "execution_count": 315,
   "id": "8ebee0c0-d030-45bb-9ce4-ec093ea3daf4",
   "metadata": {},
   "outputs": [
    {
     "data": {
      "text/plain": [
       "{1, 2, 3, 4, 5, 7, 8, 9, 10}"
      ]
     },
     "execution_count": 315,
     "metadata": {},
     "output_type": "execute_result"
    }
   ],
   "source": [
    "A.union(B)"
   ]
  },
  {
   "cell_type": "code",
   "execution_count": 317,
   "id": "082668dd-8cd0-46e5-9915-4b68609b1cb9",
   "metadata": {},
   "outputs": [
    {
     "data": {
      "text/plain": [
       "{1, 2, 3, 4, 5, 7, 8, 9, 10}"
      ]
     },
     "execution_count": 317,
     "metadata": {},
     "output_type": "execute_result"
    }
   ],
   "source": [
    "B.union(A)"
   ]
  },
  {
   "cell_type": "code",
   "execution_count": 319,
   "id": "9e620b22-5470-4888-b8b9-6c202810c963",
   "metadata": {},
   "outputs": [
    {
     "data": {
      "text/plain": [
       "{5}"
      ]
     },
     "execution_count": 319,
     "metadata": {},
     "output_type": "execute_result"
    }
   ],
   "source": [
    "B.intersection(A)"
   ]
  },
  {
   "cell_type": "code",
   "execution_count": 321,
   "id": "5dc47f25-7fa9-440f-9a54-f67ab4e4dee1",
   "metadata": {},
   "outputs": [
    {
     "data": {
      "text/plain": [
       "{7, 8, 9, 10}"
      ]
     },
     "execution_count": 321,
     "metadata": {},
     "output_type": "execute_result"
    }
   ],
   "source": [
    "B.difference(A)"
   ]
  },
  {
   "cell_type": "code",
   "execution_count": 323,
   "id": "b89a10c8-5be7-42ea-a805-52d912305c77",
   "metadata": {},
   "outputs": [
    {
     "data": {
      "text/plain": [
       "{1, 2, 3, 4}"
      ]
     },
     "execution_count": 323,
     "metadata": {},
     "output_type": "execute_result"
    }
   ],
   "source": [
    "A.difference(B)"
   ]
  },
  {
   "cell_type": "markdown",
   "id": "4de5809a-9e3a-477d-98be-20bb8482171e",
   "metadata": {},
   "source": [
    "# MEMBERSHIP IN SET"
   ]
  },
  {
   "cell_type": "code",
   "execution_count": 330,
   "id": "254d2758-473e-43d3-b063-5a8f0f2dca0b",
   "metadata": {},
   "outputs": [
    {
     "data": {
      "text/plain": [
       "True"
      ]
     },
     "execution_count": 330,
     "metadata": {},
     "output_type": "execute_result"
    }
   ],
   "source": [
    "5 in A # Check if 5 is present in A"
   ]
  },
  {
   "cell_type": "code",
   "execution_count": 332,
   "id": "a026791f-f7fd-477e-907f-8dba177cc78d",
   "metadata": {},
   "outputs": [
    {
     "data": {
      "text/plain": [
       "False"
      ]
     },
     "execution_count": 332,
     "metadata": {},
     "output_type": "execute_result"
    }
   ],
   "source": [
    "\"Five\" in A"
   ]
  },
  {
   "cell_type": "code",
   "execution_count": 336,
   "id": "0b7d002f-cbb6-4b59-80e5-72a93ff16abf",
   "metadata": {},
   "outputs": [
    {
     "data": {
      "text/plain": [
       "{1, 2, 3, 4, 5}"
      ]
     },
     "execution_count": 336,
     "metadata": {},
     "output_type": "execute_result"
    }
   ],
   "source": [
    "A"
   ]
  },
  {
   "cell_type": "markdown",
   "id": "1edd9d67-fffd-4b92-9a51-782f591fd702",
   "metadata": {},
   "source": [
    "# Dictionary"
   ]
  },
  {
   "cell_type": "markdown",
   "id": "23d5c24b-911b-4a57-9d52-a3fe929fbd69",
   "metadata": {},
   "source": [
    "* Dictionary is a mutable data type in python. A python dictionary is a collection of key and value pairs separated by a colon(:) & enclosed by curly braces{}. Keys must be unique in dict, duplicate values are allowed."
   ]
  },
  {
   "cell_type": "code",
   "execution_count": 340,
   "id": "6d05d155-0260-4431-9f7b-1aeaff061db7",
   "metadata": {},
   "outputs": [],
   "source": [
    "mydict = dict() # Making Empty Dictionary"
   ]
  },
  {
   "cell_type": "code",
   "execution_count": 342,
   "id": "e32f63f3-016f-4d0b-8728-9babf701e21e",
   "metadata": {},
   "outputs": [
    {
     "data": {
      "text/plain": [
       "dict"
      ]
     },
     "execution_count": 342,
     "metadata": {},
     "output_type": "execute_result"
    }
   ],
   "source": [
    "type(mydict)"
   ]
  },
  {
   "cell_type": "code",
   "execution_count": 352,
   "id": "eb9aa07a-cd81-4074-9d7e-03301ab34e74",
   "metadata": {},
   "outputs": [],
   "source": [
    "my_dict = {\"Name\" : \"Bhavik\", \"Age\": 21, \"Country\" : \"USA\"}"
   ]
  },
  {
   "cell_type": "code",
   "execution_count": 354,
   "id": "8b548fe3-ad99-4283-aac5-bb45b11b4c51",
   "metadata": {},
   "outputs": [
    {
     "data": {
      "text/plain": [
       "{'Name': 'Bhavik', 'Age': 21, 'Country': 'USA'}"
      ]
     },
     "execution_count": 354,
     "metadata": {},
     "output_type": "execute_result"
    }
   ],
   "source": [
    "my_dict"
   ]
  },
  {
   "cell_type": "code",
   "execution_count": 356,
   "id": "feace771-4176-4df5-b9d7-d24833fac1e0",
   "metadata": {},
   "outputs": [
    {
     "data": {
      "text/plain": [
       "'Bhavik'"
      ]
     },
     "execution_count": 356,
     "metadata": {},
     "output_type": "execute_result"
    }
   ],
   "source": [
    "my_dict[\"Name\"]"
   ]
  },
  {
   "cell_type": "code",
   "execution_count": 372,
   "id": "8e385fe4-2234-4a46-9500-520c0cc2209c",
   "metadata": {},
   "outputs": [],
   "source": [
    "my_dict[\"Age\"] = 22 # Adding new key and values"
   ]
  },
  {
   "cell_type": "code",
   "execution_count": 374,
   "id": "7dd7298e-0ab8-4fcc-b164-5345ef5cf2a3",
   "metadata": {},
   "outputs": [
    {
     "data": {
      "text/plain": [
       "{'Name': 'Bhavik', 'Age': 22, 'Country': 'USA'}"
      ]
     },
     "execution_count": 374,
     "metadata": {},
     "output_type": "execute_result"
    }
   ],
   "source": [
    "my_dict"
   ]
  },
  {
   "cell_type": "code",
   "execution_count": 375,
   "id": "5673938e-cef3-4bd8-9ace-08d27460e659",
   "metadata": {},
   "outputs": [
    {
     "data": {
      "text/plain": [
       "dict_keys(['Name', 'Age', 'Country'])"
      ]
     },
     "execution_count": 375,
     "metadata": {},
     "output_type": "execute_result"
    }
   ],
   "source": [
    "my_dict.keys()"
   ]
  },
  {
   "cell_type": "code",
   "execution_count": 377,
   "id": "38875f2c-cd80-4633-95a3-02cf7f6d5191",
   "metadata": {},
   "outputs": [
    {
     "data": {
      "text/plain": [
       "dict_values(['Bhavik', 22, 'USA'])"
      ]
     },
     "execution_count": 377,
     "metadata": {},
     "output_type": "execute_result"
    }
   ],
   "source": [
    "my_dict.values()"
   ]
  },
  {
   "cell_type": "code",
   "execution_count": 379,
   "id": "fa7342c9-4a9b-4a32-8903-a901d214f68e",
   "metadata": {},
   "outputs": [
    {
     "data": {
      "text/plain": [
       "dict_items([('Name', 'Bhavik'), ('Age', 22), ('Country', 'USA')])"
      ]
     },
     "execution_count": 379,
     "metadata": {},
     "output_type": "execute_result"
    }
   ],
   "source": [
    "my_dict.items()"
   ]
  },
  {
   "cell_type": "code",
   "execution_count": 388,
   "id": "b460f281-8aa5-4ecd-a0e7-17428b4ef2be",
   "metadata": {},
   "outputs": [],
   "source": [
    "my_dict[\"Country\"] = \"Russia\" # Targetting items by keys and changing values"
   ]
  },
  {
   "cell_type": "code",
   "execution_count": 390,
   "id": "10f22148-7b19-4f45-baa6-810240beb684",
   "metadata": {},
   "outputs": [
    {
     "data": {
      "text/plain": [
       "{'Name': 'Bhavik', 'Age': 22, 'Country': 'Russia'}"
      ]
     },
     "execution_count": 390,
     "metadata": {},
     "output_type": "execute_result"
    }
   ],
   "source": [
    "my_dict"
   ]
  },
  {
   "cell_type": "code",
   "execution_count": 392,
   "id": "a265e61c-9969-48a0-9dda-04f9ed261f2a",
   "metadata": {},
   "outputs": [
    {
     "data": {
      "text/plain": [
       "{'Name': 'Bhavik', 'Age': 22, 'Country': 'Russia'}"
      ]
     },
     "execution_count": 392,
     "metadata": {},
     "output_type": "execute_result"
    }
   ],
   "source": [
    "my_dict"
   ]
  },
  {
   "cell_type": "code",
   "execution_count": 394,
   "id": "f2b3ec4c-5b76-4030-bbc3-b6ff528ab100",
   "metadata": {},
   "outputs": [],
   "source": [
    "del my_dict[\"Country\"]"
   ]
  },
  {
   "cell_type": "code",
   "execution_count": 396,
   "id": "5ad46b59-3ec9-48ff-8510-f85089856515",
   "metadata": {},
   "outputs": [
    {
     "data": {
      "text/plain": [
       "{'Name': 'Bhavik', 'Age': 22}"
      ]
     },
     "execution_count": 396,
     "metadata": {},
     "output_type": "execute_result"
    }
   ],
   "source": [
    "my_dict"
   ]
  },
  {
   "cell_type": "code",
   "execution_count": 410,
   "id": "1bde5808-f258-444c-946b-3793ea6b1591",
   "metadata": {},
   "outputs": [],
   "source": [
    "my_dict.update({\"college\" : \"SSIT\", \"Branch\":\"I.T\"})"
   ]
  },
  {
   "cell_type": "code",
   "execution_count": 412,
   "id": "21f4930a-52cc-4ebb-8037-20a1bfeb21a6",
   "metadata": {},
   "outputs": [
    {
     "data": {
      "text/plain": [
       "{'Name': 'Bhavik', 'Age': 22, 'college': 'SSIT', 'Branch': 'I.T'}"
      ]
     },
     "execution_count": 412,
     "metadata": {},
     "output_type": "execute_result"
    }
   ],
   "source": [
    "my_dict"
   ]
  },
  {
   "cell_type": "code",
   "execution_count": 414,
   "id": "fbcf5d15-583d-4a42-9a92-4513f5873d86",
   "metadata": {},
   "outputs": [
    {
     "data": {
      "text/plain": [
       "'I.T'"
      ]
     },
     "execution_count": 414,
     "metadata": {},
     "output_type": "execute_result"
    }
   ],
   "source": [
    "my_dict.pop('Branch') # Removing Items in dictionary using pop method"
   ]
  },
  {
   "cell_type": "code",
   "execution_count": 416,
   "id": "53035c81-26ec-4174-ad51-ae6531ec4ad3",
   "metadata": {},
   "outputs": [
    {
     "data": {
      "text/plain": [
       "{'Name': 'Bhavik', 'Age': 22, 'college': 'SSIT'}"
      ]
     },
     "execution_count": 416,
     "metadata": {},
     "output_type": "execute_result"
    }
   ],
   "source": [
    "my_dict"
   ]
  },
  {
   "cell_type": "code",
   "execution_count": 418,
   "id": "71de2c4f-0267-4923-9ea1-61a6124a8278",
   "metadata": {},
   "outputs": [
    {
     "data": {
      "text/plain": [
       "('college', 'SSIT')"
      ]
     },
     "execution_count": 418,
     "metadata": {},
     "output_type": "execute_result"
    }
   ],
   "source": [
    "my_dict.popitem() # Used to remove last item in dict"
   ]
  },
  {
   "cell_type": "code",
   "execution_count": 420,
   "id": "5b6e1079-6132-4ff0-bfc6-7a4af880870a",
   "metadata": {},
   "outputs": [
    {
     "data": {
      "text/plain": [
       "{'Name': 'Bhavik', 'Age': 22}"
      ]
     },
     "execution_count": 420,
     "metadata": {},
     "output_type": "execute_result"
    }
   ],
   "source": [
    "my_dict"
   ]
  },
  {
   "cell_type": "code",
   "execution_count": 426,
   "id": "6953eb91-10ec-40b5-b6b6-ac43a5b59661",
   "metadata": {},
   "outputs": [],
   "source": [
    "my_dict.clear() # Used to remove all items in dict"
   ]
  },
  {
   "cell_type": "code",
   "execution_count": 428,
   "id": "fed086c3-3d2b-4c01-840d-1f110e93d6c8",
   "metadata": {},
   "outputs": [
    {
     "data": {
      "text/plain": [
       "{}"
      ]
     },
     "execution_count": 428,
     "metadata": {},
     "output_type": "execute_result"
    }
   ],
   "source": [
    "my_dict"
   ]
  },
  {
   "cell_type": "code",
   "execution_count": null,
   "id": "d954f626-b28d-44d6-8982-1d024287673c",
   "metadata": {},
   "outputs": [],
   "source": []
  }
 ],
 "metadata": {
  "kernelspec": {
   "display_name": "Python 3 (ipykernel)",
   "language": "python",
   "name": "python3"
  },
  "language_info": {
   "codemirror_mode": {
    "name": "ipython",
    "version": 3
   },
   "file_extension": ".py",
   "mimetype": "text/x-python",
   "name": "python",
   "nbconvert_exporter": "python",
   "pygments_lexer": "ipython3",
   "version": "3.12.4"
  }
 },
 "nbformat": 4,
 "nbformat_minor": 5
}
